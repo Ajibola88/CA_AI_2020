{
 "cells": [
  {
   "cell_type": "markdown",
   "metadata": {},
   "source": [
    "_____\n",
    "# 02. Python Control Flow\n",
    "_____\n",
    "Certain code blocks conditionally and/or repeatedly, and such control flow allows to create surprisingly sophisticate programs. The following notebook will cover these Python control flow topics:\n",
    "- `input()`\n",
    "- *conditional statements* (including \"``if``\", \"``elif``\", and \"``else``\")\n",
    "- *loop statements* (including \"``for``\" and \"``while``\")\n",
    "- accompanying statements, such as ``break``\", \"``continue``\", and \"``pass``\".\n",
    "_____\n",
    "Go through the notebook, play around with the cells and their outputs, attempt to complete the exercises."
   ]
  },
  {
   "cell_type": "markdown",
   "metadata": {},
   "source": [
    "## User inputs with `input()` \n",
    "Essentially, allows to pass a value to some variable via user inputting."
   ]
  },
  {
   "cell_type": "code",
   "execution_count": 1,
   "metadata": {},
   "outputs": [
    {
     "name": "stdout",
     "output_type": "stream",
     "text": [
      "What is your name?Povilas\n"
     ]
    }
   ],
   "source": [
    "my_name = input(\"What is your name? \")"
   ]
  },
  {
   "cell_type": "code",
   "execution_count": 2,
   "metadata": {},
   "outputs": [
    {
     "name": "stdout",
     "output_type": "stream",
     "text": [
      "Enter the key fff\n"
     ]
    }
   ],
   "source": [
    "secret_key = input(\"Enter the key \")"
   ]
  },
  {
   "cell_type": "markdown",
   "metadata": {},
   "source": [
    "### `Exercise 1 - Input Formatting`\n",
    "Write a one-liner, which:\n",
    "- Gets the user's first name, last name, and age via `input()`.\n",
    "- Formats these values to a nice-looking strings.\n",
    "- Prints out the string."
   ]
  },
  {
   "cell_type": "code",
   "execution_count": 4,
   "metadata": {},
   "outputs": [
    {
     "name": "stdout",
     "output_type": "stream",
     "text": [
      "First name: Povilas\n",
      "Last name: Pazera\n",
      "Age: 25\n",
      "Your name is Povilas Pazera. You are 25 years old.\n"
     ]
    }
   ],
   "source": [
    "print(f'Your name is {input(\"First name: \")} {input(\"Last name: \")}. You are {input(\"Age: \")} years old.')"
   ]
  },
  {
   "cell_type": "markdown",
   "metadata": {},
   "source": [
    "## Conditional Statements: ``if``-``elif``-``else``:\n",
    "Conditional statements, often referred to as *if-then* statements, allow the programmer to execute certain pieces of code depending on some Boolean condition. A basic example of a Python conditional statement is this:"
   ]
  },
  {
   "cell_type": "code",
   "execution_count": null,
   "metadata": {},
   "outputs": [],
   "source": [
    "x = -15\n",
    "\n",
    "if x == 0:\n",
    "    print(x, \"is zero\")\n",
    "elif x > 0:\n",
    "    print(x, \"is positive\")\n",
    "elif x < 0:\n",
    "    print(x, \"is negative\")\n",
    "else:\n",
    "    print(x, \"is unlike anything I've ever seen...\")"
   ]
  },
  {
   "cell_type": "markdown",
   "metadata": {},
   "source": [
    "Note the use of colons (``:``) and whitespace to denote separate blocks of code.\n",
    "\n",
    "Python adopts the ``if`` and ``else`` often used in other languages; its more unique keyword is ``elif``, a contraction of \"else if\". In these conditional clauses, ``elif`` and ``else`` blocks are optional, you can include as many/few as you like;\n",
    "\n",
    "Let's dissect this into pieces for simplicity:"
   ]
  },
  {
   "cell_type": "code",
   "execution_count": 1,
   "metadata": {},
   "outputs": [
    {
     "name": "stdout",
     "output_type": "stream",
     "text": [
      "Hi!\n"
     ]
    }
   ],
   "source": [
    "if 1 < 2:\n",
    "    print('Hi!')"
   ]
  },
  {
   "cell_type": "code",
   "execution_count": 2,
   "metadata": {},
   "outputs": [],
   "source": [
    "if 1 > 2:\n",
    "    print('Hi!')"
   ]
  },
  {
   "cell_type": "code",
   "execution_count": 3,
   "metadata": {},
   "outputs": [
    {
     "name": "stdout",
     "output_type": "stream",
     "text": [
      "Hi!\n"
     ]
    }
   ],
   "source": [
    "if 1 < 2:\n",
    "    print('Hi!')\n",
    "else:\n",
    "    print('Bye!')"
   ]
  },
  {
   "cell_type": "code",
   "execution_count": 4,
   "metadata": {},
   "outputs": [
    {
     "name": "stdout",
     "output_type": "stream",
     "text": [
      "Hi!\n"
     ]
    }
   ],
   "source": [
    "if 1 < 2: print('Hi!')\n",
    "else: print('Bye!')"
   ]
  },
  {
   "cell_type": "code",
   "execution_count": 5,
   "metadata": {},
   "outputs": [
    {
     "name": "stdout",
     "output_type": "stream",
     "text": [
      "Bye!\n"
     ]
    }
   ],
   "source": [
    "if 1 > 2:\n",
    "    print('Hi!')\n",
    "else:\n",
    "    print('Bye!')"
   ]
  },
  {
   "cell_type": "code",
   "execution_count": 6,
   "metadata": {},
   "outputs": [
    {
     "name": "stdout",
     "output_type": "stream",
     "text": [
      "Hello, there!\n"
     ]
    }
   ],
   "source": [
    "if 1 == 2:\n",
    "    print('Hey!')\n",
    "elif 3 == 3:\n",
    "    print('Hello, there!')\n",
    "else:\n",
    "    print('Hi!')"
   ]
  },
  {
   "cell_type": "code",
   "execution_count": 7,
   "metadata": {},
   "outputs": [
    {
     "name": "stdout",
     "output_type": "stream",
     "text": [
      "Hello, there!\n"
     ]
    }
   ],
   "source": [
    "if 1 == 2:\n",
    "    pass\n",
    "elif 3 == 3:\n",
    "    print('Hello, there!')\n",
    "else:\n",
    "    print('Hi!')"
   ]
  },
  {
   "cell_type": "code",
   "execution_count": 8,
   "metadata": {},
   "outputs": [
    {
     "name": "stdout",
     "output_type": "stream",
     "text": [
      "There\n"
     ]
    }
   ],
   "source": [
    "if 1 == 1:\n",
    "    print('There')\n",
    "elif 1 == 1:\n",
    "    print('can be')\n",
    "else:\n",
    "    print('only one')"
   ]
  },
  {
   "cell_type": "code",
   "execution_count": 9,
   "metadata": {},
   "outputs": [
    {
     "name": "stdout",
     "output_type": "stream",
     "text": [
      "x is zero\n"
     ]
    }
   ],
   "source": [
    "x = -0\n",
    "\n",
    "if x == 0:\n",
    "    print(f\"x is zero\")\n",
    "elif x > 0:\n",
    "    print(f\"x is positive: {x}\")\n",
    "else:\n",
    "    print(f\"x is negative: {x}\")"
   ]
  },
  {
   "cell_type": "markdown",
   "metadata": {},
   "source": [
    "## `for` loops\n",
    "Loops in Python are a way to repeatedly execute some code statement, and the `for` loop is arguably the simplest. To be specific, we only have to specify the variable we want to use, the sequence we want to loop over, and use the \"``in``\" operator to link them together in an intuitive and readable way.\n",
    "\n",
    "E.g., to print each of the items in a list:"
   ]
  },
  {
   "cell_type": "code",
   "execution_count": 5,
   "metadata": {},
   "outputs": [
    {
     "name": "stdout",
     "output_type": "stream",
     "text": [
      "20\n",
      "23\n",
      "26\n",
      "29\n",
      "32\n",
      "35\n",
      "38\n"
     ]
    }
   ],
   "source": [
    "seq = [20, 23, 26, 29, 32, 35, 38]\n",
    "for x in seq:\n",
    "    print(x)"
   ]
  },
  {
   "cell_type": "markdown",
   "metadata": {},
   "source": [
    "More precisely, the object to the right of the \"``in``\" can be any Python *iterator*, which can be thought of as of a generalized sequence (for more info, check [iterators](10-Iterators.ipynb). For example, one of the most commonly-used iterators in Python is the ``range`` object discussed earlier (generates a sequence of numbers). "
   ]
  },
  {
   "cell_type": "markdown",
   "metadata": {},
   "source": [
    "### `Exercise 2 - Sequence & Indices`\n",
    "Print `seq` items with their indices, e.g.:\n",
    "\n",
    "    Index: 0\tValue: 20\n",
    "    Index: 1\tValue: 23\n",
    "    ..."
   ]
  },
  {
   "cell_type": "code",
   "execution_count": 67,
   "metadata": {},
   "outputs": [],
   "source": [
    "# index = 0\n",
    "# for value in seq:\n",
    "#     print(f'Index: {index}\\tValue: {value}')\n",
    "#     index += 1"
   ]
  },
  {
   "cell_type": "code",
   "execution_count": 69,
   "metadata": {},
   "outputs": [],
   "source": [
    "# for index, value in enumerate(seq):\n",
    "#     print(f'Index: {index}\\tValue: {value}')"
   ]
  },
  {
   "cell_type": "markdown",
   "metadata": {},
   "source": [
    "### `Exercise 3 - Err...Multiplication Table?...What for?`\n",
    "Write a Python program to create the multiplication table (from 1 to 10) of a single number given by `input()`. Expected Output:\n",
    "\n",
    "    Input a number: 6                                                       \n",
    "    6 x 1 = 6                                                               \n",
    "    6 x 2 = 12                                                              \n",
    "    6 x 3 = 18                                                              \n",
    "    6 x 4 = 24                                                              \n",
    "    6 x 5 = 30                                                              \n",
    "    6 x 6 = 36                                                              \n",
    "    6 x 7 = 42                                                              \n",
    "    6 x 8 = 48                                                              \n",
    "    6 x 9 = 54                                                              \n",
    "    6 x 10 = 60 "
   ]
  },
  {
   "cell_type": "code",
   "execution_count": null,
   "metadata": {},
   "outputs": [],
   "source": []
  },
  {
   "cell_type": "markdown",
   "metadata": {},
   "source": [
    "### `Exercise 4 - Err...Multiplication Table?...Again?`\n",
    "Using `for` and what you've learnt about Python printing, recreate the full multiplication table (from 1 to 10).\n",
    "\n",
    "    1   2   3   4 ..                                                \n",
    "    2   4   6   8 ..\n",
    "    3   6   9 ......  \n",
    "    4   ............\n",
    "    5   ............\n",
    "    ................\n"
   ]
  },
  {
   "cell_type": "markdown",
   "metadata": {},
   "source": [
    "## ``break`` and ``continue``: Fine-Tuning Your Loops\n",
    "There are two useful statements that can be used within loops to fine-tune how they are executed:\n",
    "\n",
    "- The ``break`` statement breaks-out of the loop entirely\n",
    "- The ``continue`` statement skips the remainder of the current loop, and goes to the next iteration\n",
    "\n",
    "These can be used in both ``for`` and ``while`` loops."
   ]
  },
  {
   "cell_type": "code",
   "execution_count": 6,
   "metadata": {},
   "outputs": [
    {
     "name": "stdout",
     "output_type": "stream",
     "text": [
      "40\n",
      "46\n",
      "52\n"
     ]
    }
   ],
   "source": [
    "for something in seq:\n",
    "    print(something + something)\n",
    "    if something + something == 52:\n",
    "        break"
   ]
  },
  {
   "cell_type": "code",
   "execution_count": 7,
   "metadata": {},
   "outputs": [
    {
     "name": "stdout",
     "output_type": "stream",
     "text": [
      "32\n",
      "35\n",
      "38\n"
     ]
    }
   ],
   "source": [
    "for x in seq:\n",
    "    if x ** 2 < 900: \n",
    "        continue\n",
    "    print(x)"
   ]
  },
  {
   "cell_type": "code",
   "execution_count": 8,
   "metadata": {},
   "outputs": [
    {
     "name": "stdout",
     "output_type": "stream",
     "text": [
      "20\n",
      "23\n",
      "26\n",
      "29\n",
      "32\n",
      "35\n",
      "38\n"
     ]
    }
   ],
   "source": [
    "for x in seq: print(x)"
   ]
  },
  {
   "cell_type": "code",
   "execution_count": 9,
   "metadata": {},
   "outputs": [
    {
     "name": "stdout",
     "output_type": "stream",
     "text": [
      "20\n",
      "23\n",
      "26\n",
      "29\n",
      "32\n",
      "35\n",
      "38\n",
      "All done!\n"
     ]
    }
   ],
   "source": [
    "for x in seq:\n",
    "    print(x)\n",
    "else:\n",
    "    print('All done!')"
   ]
  },
  {
   "cell_type": "code",
   "execution_count": 77,
   "metadata": {},
   "outputs": [
    {
     "name": "stdout",
     "output_type": "stream",
     "text": [
      "20\n",
      "23\n",
      "26\n",
      "Oh no! We encountered our enemy - number 26!\n"
     ]
    }
   ],
   "source": [
    "for x in seq:\n",
    "    print(x)\n",
    "    if x == 26:\n",
    "        print('Oh no! We encountered 26!')\n",
    "        break\n",
    "else:\n",
    "    print('All done!')"
   ]
  },
  {
   "cell_type": "code",
   "execution_count": 14,
   "metadata": {},
   "outputs": [
    {
     "name": "stdout",
     "output_type": "stream",
     "text": [
      "Needle's position in the haystack is 910\n"
     ]
    }
   ],
   "source": [
    "# Buil-in library import\n",
    "import random\n",
    "\n",
    "# Define the haystack size and choose a secret index at which the needle may appear\n",
    "haystack_length = 1000\n",
    "haystack = [0] * haystack_length\n",
    "secret_index = random.randint(0, haystack_length - 1)\n",
    "\n",
    "# Needle appears within the secret haystack index randomly (coin flip)\n",
    "if random.random() > 0.5:\n",
    "    haystack[secret_index] = 1\n",
    "\n",
    "for i, x in enumerate(haystack):\n",
    "    if x:\n",
    "        print(f'Needle\\'s position in the haystack is {i}')\n",
    "        break\n",
    "\n",
    "# else clause happens if no break was encountered\n",
    "else:\n",
    "    print('Needle is not in the haystack')"
   ]
  },
  {
   "cell_type": "code",
   "execution_count": 78,
   "metadata": {},
   "outputs": [
    {
     "data": {
      "text/plain": [
       "5"
      ]
     },
     "execution_count": 78,
     "metadata": {},
     "output_type": "execute_result"
    }
   ],
   "source": [
    "x = 1, 4, 10, -10\n",
    "the_sum = 0\n",
    "\n",
    "for value in x:\n",
    "#     the_sum += value\n",
    "    the_sum = the_sum + value\n",
    "    \n",
    "the_sum"
   ]
  },
  {
   "cell_type": "code",
   "execution_count": 79,
   "metadata": {},
   "outputs": [
    {
     "name": "stdout",
     "output_type": "stream",
     "text": [
      "c is either f or b\n",
      "f\n",
      "c is in the string color\n",
      "c is in the string color\n",
      "c is in the string color\n",
      "c is in the string color\n",
      "c is in the string color\n",
      "c is in the string color\n",
      "c is in the string color\n",
      "c is either f or b\n",
      "b\n",
      "c is in the string color\n"
     ]
    }
   ],
   "source": [
    "for c in 'My favourite color is blue':\n",
    "    if c in 'color':\n",
    "        print(\"c is in the string color\")\n",
    "    elif c in ['f', 'b']:\n",
    "        print(\"c is either f or b\")\n",
    "        print(c)"
   ]
  },
  {
   "cell_type": "markdown",
   "metadata": {},
   "source": [
    "### `Exercise 5 - Palindrome`\n",
    "Write a python program that checks if the `input()` string is a **palindrome** - word, number, phrase, or other sequence of characters which reads the same backward as forward, e.g.: madam, bob, 12121.\n",
    "\n",
    "    Input string: abc\n",
    "    \n",
    "Expected output:\n",
    "    \n",
    "    String 'abc' is not a palindrome.\n",
    "    \n",
    "    String '121' is a palindrome."
   ]
  },
  {
   "cell_type": "code",
   "execution_count": null,
   "metadata": {},
   "outputs": [],
   "source": []
  },
  {
   "cell_type": "markdown",
   "metadata": {},
   "source": [
    "### `Exercise 6 - Moving Averages`\n",
    "Write a python program iterates over a list of numbers and calculates 3 different means throughout the `for` cycle:\n",
    "\n",
    "- Cumulative mean - the current average (up to the current `for` iteration), should be printed during each cycle.\n",
    "- Moving average - mean of the last three itegers observed within the `for` cycle, should be printed during each cycle\n",
    "- Total average - should be printed at the end of the cycle.\n",
    "\n",
    "E.g.:\n",
    "\n",
    "    input_list = [10, 15, 30, 40]\n",
    "    \n",
    "Expected output:\n",
    "    \n",
    "    Iterating over `input_list`...\n",
    "    \n",
    "    Index: 0    Number: 10    Cumulative Mean: 10    Moving:   10  \n",
    "    Index: 1    Number: 20    Cumulative Mean: 15    Moving:   15  \n",
    "    Index: 2    Number: 30    Cumulative Mean: 20    Moving:   20  \n",
    "    Index: 3    Number: 40    Cumulative Mean: 25    Moving:   30  \n",
    "    \n",
    "    Total Mean: 25"
   ]
  },
  {
   "cell_type": "code",
   "execution_count": null,
   "metadata": {},
   "outputs": [],
   "source": []
  },
  {
   "cell_type": "markdown",
   "metadata": {},
   "source": [
    "## ``while`` loops\n",
    "The other type of loop in Python is a ``while`` loop, which iterates until some condition is met:"
   ]
  },
  {
   "cell_type": "code",
   "execution_count": 80,
   "metadata": {},
   "outputs": [
    {
     "name": "stdout",
     "output_type": "stream",
     "text": [
      "i is 1\n",
      "i is 2\n",
      "i is 3\n",
      "i is 4\n"
     ]
    }
   ],
   "source": [
    "i = 1\n",
    "while i < 5:\n",
    "    print(f'i is {i}')\n",
    "    i = i + 1"
   ]
  },
  {
   "cell_type": "code",
   "execution_count": 83,
   "metadata": {},
   "outputs": [
    {
     "name": "stdout",
     "output_type": "stream",
     "text": [
      "Enter A: 15\n",
      "Enter B: 5\n",
      "9.0\n"
     ]
    }
   ],
   "source": [
    "def calculate_gradient(a, b):\n",
    "    return b-a\n",
    "\n",
    "a = int(input('Enter A: '))\n",
    "b = int(input('Enter B: '))\n",
    "\n",
    "grad = calculate_gradient(a, b)\n",
    "grad += 100\n",
    "grad /= 10\n",
    "\n",
    "while a < b:\n",
    "    grad = calculate_gradient(a, b)\n",
    "    grad += 100\n",
    "    grad /= 10\n",
    "\n",
    "print(grad)"
   ]
  },
  {
   "cell_type": "code",
   "execution_count": null,
   "metadata": {},
   "outputs": [],
   "source": []
  },
  {
   "cell_type": "markdown",
   "metadata": {},
   "source": [
    "### `while` with `break` and `continue`"
   ]
  },
  {
   "cell_type": "code",
   "execution_count": 89,
   "metadata": {},
   "outputs": [
    {
     "name": "stdout",
     "output_type": "stream",
     "text": [
      "100\n"
     ]
    }
   ],
   "source": [
    "i = 100\n",
    "\n",
    "while True:\n",
    "    print(i)\n",
    "    if i >= 10:\n",
    "        break\n",
    "    i += 1"
   ]
  },
  {
   "cell_type": "code",
   "execution_count": 90,
   "metadata": {},
   "outputs": [
    {
     "name": "stdout",
     "output_type": "stream",
     "text": [
      "1, 3, 5, 7, 9, 11, "
     ]
    }
   ],
   "source": [
    "# continue start a new loop cycle\n",
    "for n in range(12):\n",
    "    if n % 2 == 0:\n",
    "        continue\n",
    "    print(n, end=', ')"
   ]
  },
  {
   "cell_type": "markdown",
   "metadata": {},
   "source": [
    "### `else` for `while` and `for` loops"
   ]
  },
  {
   "cell_type": "code",
   "execution_count": 91,
   "metadata": {},
   "outputs": [
    {
     "name": "stdout",
     "output_type": "stream",
     "text": [
      "0\n",
      "1\n",
      "2\n",
      "3\n",
      "4\n",
      "I'm done\n"
     ]
    }
   ],
   "source": [
    "for i in range(5):\n",
    "    print(i)\n",
    "#     if i == 3: break\n",
    "else:\n",
    "    print('I\\'m done')"
   ]
  },
  {
   "cell_type": "code",
   "execution_count": 92,
   "metadata": {},
   "outputs": [
    {
     "name": "stdout",
     "output_type": "stream",
     "text": [
      "Training: current loss is 10\n",
      "Training: current loss is 9\n",
      "Training: current loss is 8\n",
      "Training: current loss is 7\n",
      "Training: current loss is 6\n",
      "Finished training\n"
     ]
    }
   ],
   "source": [
    "loss = 10\n",
    "target_loss = 5\n",
    "while target_loss < loss:\n",
    "    print('Training: current loss is {}'.format(loss))\n",
    "    loss -= 1\n",
    "else:\n",
    "    print('Finished training')"
   ]
  },
  {
   "cell_type": "code",
   "execution_count": 93,
   "metadata": {},
   "outputs": [
    {
     "name": "stdout",
     "output_type": "stream",
     "text": [
      "[2, 3, 5, 7, 11, 13]\n"
     ]
    }
   ],
   "source": [
    "l = []\n",
    "n = 15\n",
    "\n",
    "for i in range(2, n):\n",
    "    for factor in l:\n",
    "        if i % factor == 0:\n",
    "            break\n",
    "    else:\n",
    "#         this only happens if there was no break\n",
    "        l.append(i)\n",
    "\n",
    "print(l)"
   ]
  },
  {
   "cell_type": "markdown",
   "metadata": {},
   "source": [
    "### `Exercise 7 - Factorial While`\n",
    "Write a python program to print out the factorials for all of the numbers up to `N` using `while`. E.g.:\n",
    "\n",
    "    Your input number: 3\n",
    "    \n",
    "    1! = 1\n",
    "    2! = 2\n",
    "    3! = 6\n",
    "    4! = 24\n",
    "    ...\n",
    "  \n",
    "`Hint` Don't input high values (e.g., `>100`), it gets messy real quick. Even better, add a `break` statement at some chosen threshold value, or use `input()` with `if` and `then` to guide the user in providing an input that is small enough if necessary."
   ]
  },
  {
   "cell_type": "code",
   "execution_count": null,
   "metadata": {},
   "outputs": [],
   "source": []
  },
  {
   "cell_type": "markdown",
   "metadata": {},
   "source": [
    "### `Exercise 8 - While There is a Needle in the Haystack`\n",
    "Adapt the needle in the haystack example above using `while`. \n",
    "The program should go through the haystack indices until the needle is found. If so, it should print out where, or otherwise state that the needle was not found. "
   ]
  },
  {
   "cell_type": "code",
   "execution_count": null,
   "metadata": {},
   "outputs": [],
   "source": []
  },
  {
   "cell_type": "markdown",
   "metadata": {},
   "source": [
    "### `Exercise 9 - Token Count`\n",
    "In this example, you should create a Python script that would read the contents of a given text file and calculate the amount of times each word occurs within it. Then, it should print `N` most commonly occuring values. To make it simpler, you already have a provided backbone script for reading the file and obtaining a list of tokens from it."
   ]
  },
  {
   "cell_type": "code",
   "execution_count": 23,
   "metadata": {},
   "outputs": [
    {
     "data": {
      "text/plain": [
       "['republican',\n",
       " 'presidential',\n",
       " 'delivers',\n",
       " 'remarks',\n",
       " 'following',\n",
       " 'election',\n",
       " 'new',\n",
       " 'york',\n",
       " 'thank',\n",
       " 'thank',\n",
       " 'you',\n",
       " 'very',\n",
       " 'sorry',\n",
       " 'to',\n",
       " 'keep',\n",
       " 'you',\n",
       " 'complicated',\n",
       " 'thank',\n",
       " 'you',\n",
       " 'very',\n",
       " 'just',\n",
       " 'received',\n",
       " 'a',\n",
       " 'call',\n",
       " 'from',\n",
       " 'secretary',\n",
       " 'she',\n",
       " 'congratulated',\n",
       " 'us',\n",
       " 'about',\n",
       " 'us',\n",
       " 'on',\n",
       " 'our',\n",
       " 'and',\n",
       " 'i',\n",
       " 'congratulated',\n",
       " 'her',\n",
       " 'and',\n",
       " 'her',\n",
       " 'family',\n",
       " 'on',\n",
       " 'a',\n",
       " 'very',\n",
       " 'i',\n",
       " 'she',\n",
       " 'she',\n",
       " 'fought',\n",
       " 'very',\n",
       " 'hillary',\n",
       " 'has',\n",
       " 'worked',\n",
       " 'very',\n",
       " 'long',\n",
       " 'and',\n",
       " 'very',\n",
       " 'hard',\n",
       " 'over',\n",
       " 'a',\n",
       " 'long',\n",
       " 'period',\n",
       " 'of',\n",
       " 'and',\n",
       " 'we',\n",
       " 'owe',\n",
       " 'her',\n",
       " 'a',\n",
       " 'major',\n",
       " 'debt',\n",
       " 'of',\n",
       " 'gratitude',\n",
       " 'for',\n",
       " 'her',\n",
       " 'service',\n",
       " 'to',\n",
       " 'our',\n",
       " 'i',\n",
       " 'mean',\n",
       " 'that',\n",
       " 'very',\n",
       " 'now',\n",
       " 'time',\n",
       " 'for',\n",
       " 'america',\n",
       " 'to',\n",
       " 'bind',\n",
       " 'the',\n",
       " 'wounds',\n",
       " 'of',\n",
       " 'have',\n",
       " 'to',\n",
       " 'get',\n",
       " 'to',\n",
       " 'all',\n",
       " 'republicans',\n",
       " 'and',\n",
       " 'democrats',\n",
       " 'and',\n",
       " 'independents',\n",
       " 'across',\n",
       " 'this',\n",
       " 'i',\n",
       " 'say',\n",
       " 'it',\n",
       " 'is',\n",
       " 'time',\n",
       " 'for',\n",
       " 'us',\n",
       " 'to',\n",
       " 'come',\n",
       " 'together',\n",
       " 'as',\n",
       " 'one',\n",
       " 'united',\n",
       " 'i',\n",
       " 'pledge',\n",
       " 'to',\n",
       " 'every',\n",
       " 'citizen',\n",
       " 'of',\n",
       " 'our',\n",
       " 'land',\n",
       " 'that',\n",
       " 'i',\n",
       " 'will',\n",
       " 'be',\n",
       " 'president',\n",
       " 'for',\n",
       " 'all',\n",
       " 'and',\n",
       " 'this',\n",
       " 'is',\n",
       " 'so',\n",
       " 'important',\n",
       " 'to',\n",
       " 'for',\n",
       " 'those',\n",
       " 'who',\n",
       " 'have',\n",
       " 'chosen',\n",
       " 'not',\n",
       " 'to',\n",
       " 'support',\n",
       " 'me',\n",
       " 'in',\n",
       " 'the',\n",
       " 'of',\n",
       " 'which',\n",
       " 'there',\n",
       " 'were',\n",
       " 'a',\n",
       " 'few',\n",
       " 'reaching',\n",
       " 'out',\n",
       " 'to',\n",
       " 'you',\n",
       " 'for',\n",
       " 'your',\n",
       " 'guidance',\n",
       " 'and',\n",
       " 'your',\n",
       " 'help',\n",
       " 'so',\n",
       " 'that',\n",
       " 'we',\n",
       " 'can',\n",
       " 'work',\n",
       " 'together',\n",
       " 'and',\n",
       " 'unify',\n",
       " 'our',\n",
       " 'great',\n",
       " 'as',\n",
       " 'said',\n",
       " 'from',\n",
       " 'the',\n",
       " 'ours',\n",
       " 'was',\n",
       " 'not',\n",
       " 'a',\n",
       " 'but',\n",
       " 'rather',\n",
       " 'an',\n",
       " 'incredible',\n",
       " 'and',\n",
       " 'great',\n",
       " 'movement',\n",
       " 'made',\n",
       " 'up',\n",
       " 'of',\n",
       " 'millions',\n",
       " 'of',\n",
       " 'working',\n",
       " 'men',\n",
       " 'and',\n",
       " 'women',\n",
       " 'who',\n",
       " 'love',\n",
       " 'their',\n",
       " 'country',\n",
       " 'and',\n",
       " 'want',\n",
       " 'a',\n",
       " 'brighter',\n",
       " 'future',\n",
       " 'for',\n",
       " 'themselves',\n",
       " 'and',\n",
       " 'for',\n",
       " 'their',\n",
       " 'a',\n",
       " 'movement',\n",
       " 'comprised',\n",
       " 'of',\n",
       " 'americans',\n",
       " 'from',\n",
       " 'all',\n",
       " 'backgrounds',\n",
       " 'and',\n",
       " 'beliefs',\n",
       " 'who',\n",
       " 'want',\n",
       " 'and',\n",
       " 'expect',\n",
       " 'our',\n",
       " 'government',\n",
       " 'to',\n",
       " 'serve',\n",
       " 'the',\n",
       " 'and',\n",
       " 'serve',\n",
       " 'the',\n",
       " 'people',\n",
       " 'it',\n",
       " 'working',\n",
       " 'we',\n",
       " 'will',\n",
       " 'begin',\n",
       " 'the',\n",
       " 'urgent',\n",
       " 'task',\n",
       " 'of',\n",
       " 'rebuilding',\n",
       " 'our',\n",
       " 'nation',\n",
       " 'and',\n",
       " 'renewing',\n",
       " 'the',\n",
       " 'american',\n",
       " 'spent',\n",
       " 'my',\n",
       " 'entire',\n",
       " 'life',\n",
       " 'and',\n",
       " 'business',\n",
       " 'looking',\n",
       " 'at',\n",
       " 'the',\n",
       " 'untapped',\n",
       " 'potential',\n",
       " 'in',\n",
       " 'projects',\n",
       " 'and',\n",
       " 'in',\n",
       " 'people',\n",
       " 'all',\n",
       " 'over',\n",
       " 'the',\n",
       " 'that',\n",
       " 'is',\n",
       " 'now',\n",
       " 'what',\n",
       " 'i',\n",
       " 'want',\n",
       " 'to',\n",
       " 'do',\n",
       " 'for',\n",
       " 'our',\n",
       " 'tremendous',\n",
       " 'gotten',\n",
       " 'to',\n",
       " 'know',\n",
       " 'our',\n",
       " 'country',\n",
       " 'so',\n",
       " 'well',\n",
       " 'tremendous',\n",
       " 'going',\n",
       " 'to',\n",
       " 'be',\n",
       " 'a',\n",
       " 'beautiful',\n",
       " 'every',\n",
       " 'single',\n",
       " 'american',\n",
       " 'will',\n",
       " 'have',\n",
       " 'the',\n",
       " 'opportunity',\n",
       " 'to',\n",
       " 'realize',\n",
       " 'his',\n",
       " 'or',\n",
       " 'her',\n",
       " 'fullest',\n",
       " 'the',\n",
       " 'forgotten',\n",
       " 'men',\n",
       " 'and',\n",
       " 'women',\n",
       " 'of',\n",
       " 'our',\n",
       " 'country',\n",
       " 'will',\n",
       " 'be',\n",
       " 'forgotten',\n",
       " 'no',\n",
       " 'we',\n",
       " 'are',\n",
       " 'going',\n",
       " 'to',\n",
       " 'fix',\n",
       " 'our',\n",
       " 'inner',\n",
       " 'cities',\n",
       " 'and',\n",
       " 'rebuild',\n",
       " 'our',\n",
       " 'going',\n",
       " 'to',\n",
       " 'rebuild',\n",
       " 'our',\n",
       " 'which',\n",
       " 'will',\n",
       " 'by',\n",
       " 'the',\n",
       " 'second',\n",
       " 'to',\n",
       " 'and',\n",
       " 'we',\n",
       " 'will',\n",
       " 'put',\n",
       " 'millions',\n",
       " 'of',\n",
       " 'our',\n",
       " 'people',\n",
       " 'to',\n",
       " 'work',\n",
       " 'as',\n",
       " 'we',\n",
       " 'rebuild',\n",
       " 'we',\n",
       " 'will',\n",
       " 'also',\n",
       " 'finally',\n",
       " 'take',\n",
       " 'care',\n",
       " 'of',\n",
       " 'our',\n",
       " 'great',\n",
       " 'been',\n",
       " 'so',\n",
       " 'and',\n",
       " 'gotten',\n",
       " 'to',\n",
       " 'know',\n",
       " 'so',\n",
       " 'many',\n",
       " 'over',\n",
       " 'this',\n",
       " 'the',\n",
       " 'time',\n",
       " 'spent',\n",
       " 'with',\n",
       " 'them',\n",
       " 'during',\n",
       " 'this',\n",
       " 'campaign',\n",
       " 'has',\n",
       " 'been',\n",
       " 'among',\n",
       " 'my',\n",
       " 'greatest',\n",
       " 'our',\n",
       " 'veterans',\n",
       " 'are',\n",
       " 'incredible',\n",
       " 'we',\n",
       " 'will',\n",
       " 'embark',\n",
       " 'upon',\n",
       " 'a',\n",
       " 'project',\n",
       " 'of',\n",
       " 'national',\n",
       " 'growth',\n",
       " 'and',\n",
       " 'i',\n",
       " 'will',\n",
       " 'harness',\n",
       " 'the',\n",
       " 'creative',\n",
       " 'talents',\n",
       " 'of',\n",
       " 'our',\n",
       " 'people',\n",
       " 'and',\n",
       " 'we',\n",
       " 'will',\n",
       " 'call',\n",
       " 'upon',\n",
       " 'the',\n",
       " 'best',\n",
       " 'and',\n",
       " 'brightest',\n",
       " 'to',\n",
       " 'leverage',\n",
       " 'their',\n",
       " 'tremendous',\n",
       " 'talent',\n",
       " 'for',\n",
       " 'the',\n",
       " 'benefit',\n",
       " 'of',\n",
       " 'going',\n",
       " 'to',\n",
       " 'we',\n",
       " 'have',\n",
       " 'a',\n",
       " 'great',\n",
       " 'economic',\n",
       " 'we',\n",
       " 'will',\n",
       " 'double',\n",
       " 'our',\n",
       " 'growth',\n",
       " 'and',\n",
       " 'have',\n",
       " 'the',\n",
       " 'strongest',\n",
       " 'economy',\n",
       " 'anywhere',\n",
       " 'in',\n",
       " 'the',\n",
       " 'at',\n",
       " 'the',\n",
       " 'same',\n",
       " 'we',\n",
       " 'will',\n",
       " 'get',\n",
       " 'along',\n",
       " 'with',\n",
       " 'all',\n",
       " 'other',\n",
       " 'nations',\n",
       " 'willing',\n",
       " 'to',\n",
       " 'get',\n",
       " 'along',\n",
       " 'with',\n",
       " 'we',\n",
       " 'will',\n",
       " 'have',\n",
       " 'great',\n",
       " 'we',\n",
       " 'expect',\n",
       " 'to',\n",
       " 'have',\n",
       " 'great',\n",
       " 'no',\n",
       " 'dream',\n",
       " 'is',\n",
       " 'too',\n",
       " 'no',\n",
       " 'challenge',\n",
       " 'is',\n",
       " 'too',\n",
       " 'nothing',\n",
       " 'we',\n",
       " 'want',\n",
       " 'for',\n",
       " 'our',\n",
       " 'future',\n",
       " 'is',\n",
       " 'beyond',\n",
       " 'our',\n",
       " 'america',\n",
       " 'will',\n",
       " 'no',\n",
       " 'longer',\n",
       " 'settle',\n",
       " 'for',\n",
       " 'anything',\n",
       " 'less',\n",
       " 'than',\n",
       " 'the',\n",
       " 'we',\n",
       " 'must',\n",
       " 'reclaim',\n",
       " 'our',\n",
       " 'destiny',\n",
       " 'and',\n",
       " 'dream',\n",
       " 'big',\n",
       " 'and',\n",
       " 'bold',\n",
       " 'and',\n",
       " 'we',\n",
       " 'have',\n",
       " 'to',\n",
       " 'do',\n",
       " 'going',\n",
       " 'to',\n",
       " 'dream',\n",
       " 'of',\n",
       " 'things',\n",
       " 'for',\n",
       " 'our',\n",
       " 'country',\n",
       " 'and',\n",
       " 'beautiful',\n",
       " 'things',\n",
       " 'and',\n",
       " 'successful',\n",
       " 'things',\n",
       " 'once',\n",
       " 'i',\n",
       " 'want',\n",
       " 'to',\n",
       " 'tell',\n",
       " 'the',\n",
       " 'world',\n",
       " 'community',\n",
       " 'that',\n",
       " 'while',\n",
       " 'we',\n",
       " 'will',\n",
       " 'always',\n",
       " 'put',\n",
       " 'interests',\n",
       " 'we',\n",
       " 'will',\n",
       " 'deal',\n",
       " 'fairly',\n",
       " 'with',\n",
       " 'with',\n",
       " 'everyone',\n",
       " 'all',\n",
       " 'people',\n",
       " 'and',\n",
       " 'all',\n",
       " 'other',\n",
       " 'we',\n",
       " 'will',\n",
       " 'seek',\n",
       " 'common',\n",
       " 'not',\n",
       " 'not',\n",
       " 'and',\n",
       " 'now',\n",
       " 'like',\n",
       " 'to',\n",
       " 'take',\n",
       " 'this',\n",
       " 'moment',\n",
       " 'to',\n",
       " 'thank',\n",
       " 'some',\n",
       " 'of',\n",
       " 'the',\n",
       " 'people',\n",
       " 'who',\n",
       " 'really',\n",
       " 'helped',\n",
       " 'me',\n",
       " 'with',\n",
       " 'this',\n",
       " 'what',\n",
       " 'they',\n",
       " 'are',\n",
       " 'calling',\n",
       " 'tonight',\n",
       " 'very',\n",
       " 'historic',\n",
       " 'i',\n",
       " 'want',\n",
       " 'to',\n",
       " 'thank',\n",
       " 'my',\n",
       " 'who',\n",
       " 'i',\n",
       " 'know',\n",
       " 'are',\n",
       " 'looking',\n",
       " 'down',\n",
       " 'on',\n",
       " 'me',\n",
       " 'right',\n",
       " 'great',\n",
       " 'learned',\n",
       " 'so',\n",
       " 'much',\n",
       " 'from',\n",
       " 'they',\n",
       " 'were',\n",
       " 'wonderful',\n",
       " 'in',\n",
       " 'every',\n",
       " 'i',\n",
       " 'had',\n",
       " 'truly',\n",
       " 'great',\n",
       " 'i',\n",
       " 'also',\n",
       " 'want',\n",
       " 'to',\n",
       " 'thank',\n",
       " 'my',\n",
       " 'maryanne',\n",
       " 'and',\n",
       " 'who',\n",
       " 'are',\n",
       " 'here',\n",
       " 'with',\n",
       " 'us',\n",
       " 'where',\n",
       " 'are',\n",
       " 'here',\n",
       " 'very',\n",
       " 'and',\n",
       " 'my',\n",
       " 'brother',\n",
       " 'robert',\n",
       " 'my',\n",
       " 'great',\n",
       " 'where',\n",
       " 'is',\n",
       " 'where',\n",
       " 'is',\n",
       " 'my',\n",
       " 'brother',\n",
       " 'and',\n",
       " 'they',\n",
       " 'should',\n",
       " 'all',\n",
       " 'be',\n",
       " 'on',\n",
       " 'this',\n",
       " 'but',\n",
       " 'and',\n",
       " 'also',\n",
       " 'my',\n",
       " 'late',\n",
       " 'great',\n",
       " 'fantastic',\n",
       " 'fantastic',\n",
       " 'i',\n",
       " 'was',\n",
       " 'very',\n",
       " 'great',\n",
       " 'unbelievable',\n",
       " 'to',\n",
       " 'melania',\n",
       " 'and',\n",
       " 'and',\n",
       " 'and',\n",
       " 'eric',\n",
       " 'and',\n",
       " 'tiffany',\n",
       " 'and',\n",
       " 'i',\n",
       " 'love',\n",
       " 'you',\n",
       " 'and',\n",
       " 'i',\n",
       " 'thank',\n",
       " 'and',\n",
       " 'especially',\n",
       " 'for',\n",
       " 'putting',\n",
       " 'up',\n",
       " 'with',\n",
       " 'all',\n",
       " 'of',\n",
       " 'those',\n",
       " 'this',\n",
       " 'was',\n",
       " 'this',\n",
       " 'was',\n",
       " 'this',\n",
       " 'political',\n",
       " 'stuff',\n",
       " 'is',\n",
       " 'nasty',\n",
       " 'and',\n",
       " 'so',\n",
       " 'i',\n",
       " 'want',\n",
       " 'to',\n",
       " 'thank',\n",
       " 'my',\n",
       " 'family',\n",
       " 'very',\n",
       " 'really',\n",
       " 'thank',\n",
       " 'you',\n",
       " 'thank',\n",
       " 'you',\n",
       " 'and',\n",
       " 'lara',\n",
       " 'unbelievable',\n",
       " 'thank',\n",
       " 'thank',\n",
       " 'you',\n",
       " 'very',\n",
       " 'what',\n",
       " 'a',\n",
       " 'great',\n",
       " 'all',\n",
       " 'given',\n",
       " 'me',\n",
       " 'such',\n",
       " 'incredible',\n",
       " 'support',\n",
       " 'and',\n",
       " 'i',\n",
       " 'will',\n",
       " 'tell',\n",
       " 'you',\n",
       " 'that',\n",
       " 'we',\n",
       " 'have',\n",
       " 'a',\n",
       " 'large',\n",
       " 'group',\n",
       " 'of',\n",
       " 'you',\n",
       " 'they',\n",
       " 'kept',\n",
       " 'saying',\n",
       " 'we',\n",
       " 'have',\n",
       " 'a',\n",
       " 'small',\n",
       " 'not',\n",
       " 'so',\n",
       " 'look',\n",
       " 'at',\n",
       " 'all',\n",
       " 'the',\n",
       " 'people',\n",
       " 'that',\n",
       " 'we',\n",
       " 'look',\n",
       " 'at',\n",
       " 'all',\n",
       " 'of',\n",
       " 'these',\n",
       " 'and',\n",
       " 'kellyanne',\n",
       " 'and',\n",
       " 'chris',\n",
       " 'and',\n",
       " 'rudy',\n",
       " 'and',\n",
       " 'steve',\n",
       " 'and',\n",
       " 'we',\n",
       " 'have',\n",
       " 'got',\n",
       " 'we',\n",
       " 'have',\n",
       " 'got',\n",
       " 'tremendously',\n",
       " 'talented',\n",
       " 'people',\n",
       " 'up',\n",
       " 'and',\n",
       " 'i',\n",
       " 'want',\n",
       " 'to',\n",
       " 'tell',\n",
       " 'been',\n",
       " 'been',\n",
       " 'very',\n",
       " 'i',\n",
       " 'want',\n",
       " 'to',\n",
       " 'give',\n",
       " 'a',\n",
       " 'very',\n",
       " 'special',\n",
       " 'thanks',\n",
       " 'to',\n",
       " 'our',\n",
       " 'former',\n",
       " 'rudy',\n",
       " 'he',\n",
       " 'traveled',\n",
       " 'with',\n",
       " 'us',\n",
       " 'and',\n",
       " 'he',\n",
       " 'went',\n",
       " 'through',\n",
       " 'that',\n",
       " 'rudy',\n",
       " 'never',\n",
       " 'where',\n",
       " 'is',\n",
       " 'governor',\n",
       " 'chris',\n",
       " 'was',\n",
       " 'thank',\n",
       " 'the',\n",
       " 'first',\n",
       " 'first',\n",
       " 'first',\n",
       " 'major',\n",
       " 'and',\n",
       " 'let',\n",
       " 'me',\n",
       " 'tell',\n",
       " 'he',\n",
       " 'is',\n",
       " 'highly',\n",
       " 'respected',\n",
       " 'in',\n",
       " 'washington',\n",
       " 'because',\n",
       " 'as',\n",
       " 'smart',\n",
       " 'as',\n",
       " 'you',\n",
       " 'senator',\n",
       " 'jeff',\n",
       " 'where',\n",
       " 'is',\n",
       " 'great',\n",
       " 'another',\n",
       " 'great',\n",
       " 'very',\n",
       " 'tough',\n",
       " 'he',\n",
       " 'was',\n",
       " 'not',\n",
       " 'he',\n",
       " 'was',\n",
       " 'not',\n",
       " 'who',\n",
       " 'is',\n",
       " 'is',\n",
       " 'that',\n",
       " 'the',\n",
       " 'mayor',\n",
       " 'that',\n",
       " 'showed',\n",
       " 'is',\n",
       " 'that',\n",
       " 'rudy',\n",
       " 'got',\n",
       " 'up',\n",
       " 'another',\n",
       " 'great',\n",
       " 'man',\n",
       " 'who',\n",
       " 'has',\n",
       " 'been',\n",
       " 'really',\n",
       " 'a',\n",
       " 'friend',\n",
       " 'to',\n",
       " 'but',\n",
       " 'tell',\n",
       " 'i',\n",
       " 'got',\n",
       " 'to',\n",
       " 'know',\n",
       " 'him',\n",
       " 'as',\n",
       " 'a',\n",
       " 'competitor',\n",
       " 'because',\n",
       " 'he',\n",
       " 'was',\n",
       " 'one',\n",
       " 'of',\n",
       " 'the',\n",
       " 'folks',\n",
       " 'that',\n",
       " 'was',\n",
       " 'negotiating',\n",
       " 'to',\n",
       " 'go',\n",
       " 'against',\n",
       " 'those',\n",
       " 'ben',\n",
       " 'where',\n",
       " 'is',\n",
       " 'where',\n",
       " 'is',\n",
       " 'and',\n",
       " 'by',\n",
       " 'the',\n",
       " 'mike',\n",
       " 'huckabee',\n",
       " 'is',\n",
       " 'here',\n",
       " 'and',\n",
       " 'he',\n",
       " 'is',\n",
       " 'mike',\n",
       " 'and',\n",
       " 'his',\n",
       " 'sarah',\n",
       " 'thank',\n",
       " 'you',\n",
       " 'very',\n",
       " 'general',\n",
       " 'mike',\n",
       " 'where',\n",
       " 'is',\n",
       " 'and',\n",
       " 'general',\n",
       " 'we',\n",
       " 'have',\n",
       " 'over',\n",
       " 'generals',\n",
       " 'and',\n",
       " 'admirals',\n",
       " 'that',\n",
       " 'have',\n",
       " 'endorsed',\n",
       " 'our',\n",
       " 'and',\n",
       " 'special',\n",
       " 'people',\n",
       " 'and',\n",
       " 'really',\n",
       " 'an',\n",
       " 'we',\n",
       " 'have',\n",
       " 'congressional',\n",
       " 'medal',\n",
       " 'of',\n",
       " 'honor',\n",
       " 'we',\n",
       " 'have',\n",
       " 'just',\n",
       " 'tremendous',\n",
       " 'a',\n",
       " 'very',\n",
       " 'special',\n",
       " 'person',\n",
       " 'who',\n",
       " 'believed',\n",
       " 'me',\n",
       " 'you',\n",
       " 'read',\n",
       " 'reports',\n",
       " 'that',\n",
       " 'i',\n",
       " 'getting',\n",
       " 'along',\n",
       " 'with',\n",
       " 'i',\n",
       " 'never',\n",
       " 'had',\n",
       " 'a',\n",
       " 'bad',\n",
       " 'second',\n",
       " 'with',\n",
       " 'an',\n",
       " 'unbelievable',\n",
       " 'he',\n",
       " 'how',\n",
       " 'did',\n",
       " 'you',\n",
       " 'possibly',\n",
       " 'so',\n",
       " 'let',\n",
       " 'me',\n",
       " 'tell',\n",
       " 'you',\n",
       " 'about',\n",
       " 'and',\n",
       " 'said',\n",
       " 'i',\n",
       " 'reince',\n",
       " 'and',\n",
       " 'i',\n",
       " 'know',\n",
       " 'i',\n",
       " 'look',\n",
       " 'at',\n",
       " 'all',\n",
       " 'those',\n",
       " 'people',\n",
       " 'over',\n",
       " 'i',\n",
       " 'know',\n",
       " ...]"
      ]
     },
     "execution_count": 23,
     "metadata": {},
     "output_type": "execute_result"
    }
   ],
   "source": [
    "input_file_path = 'data/clinton_trump_corpus/Trump/Trump_2016-11-09.txt'\n",
    "\n",
    "with open(input_file_path, 'r') as inputfile:\n",
    "    tokens = inputfile.read().lower().split()\n",
    "    tokens = [t.strip() for t in tokens if t.isalpha()]\n",
    "\n",
    "# TODO: COUNT THE TOKENS"
   ]
  },
  {
   "cell_type": "code",
   "execution_count": null,
   "metadata": {},
   "outputs": [],
   "source": []
  },
  {
   "cell_type": "markdown",
   "metadata": {},
   "source": [
    "_____\n",
    "## Comprehensions\n",
    "Comprehensions are one of the Pythons features that allow to compress large functions with many control flow statements into a single, short, and readable line.\n",
    "_____\n",
    "## List comprehensions\n",
    "Here is a basic loop that constructs a list of squares for the numbers provided in `nums`:"
   ]
  },
  {
   "cell_type": "code",
   "execution_count": 24,
   "metadata": {},
   "outputs": [
    {
     "data": {
      "text/plain": [
       "[1, 4, 9, 16]"
      ]
     },
     "execution_count": 24,
     "metadata": {},
     "output_type": "execute_result"
    }
   ],
   "source": [
    "nums = [1, 2, 3, 4]\n",
    "results = []\n",
    "for item in nums:\n",
    "    results.append(item**2)\n",
    "\n",
    "results"
   ]
  },
  {
   "cell_type": "code",
   "execution_count": 25,
   "metadata": {},
   "outputs": [
    {
     "data": {
      "text/plain": [
       "[1, 4, 9, 16]"
      ]
     },
     "execution_count": 25,
     "metadata": {},
     "output_type": "execute_result"
    }
   ],
   "source": [
    "results = [item ** 2 for item in nums]\n",
    "results"
   ]
  },
  {
   "cell_type": "markdown",
   "metadata": {},
   "source": [
    "### `Exercise 10 - Ra(n)ging Comprehension`\n",
    "Use list comprehension to obtain the following given input `5`:\n",
    "\n",
    "    [[0, 1, 2, 3, 4], [1, 2, 3, 4], [2, 3, 4], [3, 4], [4]]"
   ]
  },
  {
   "cell_type": "code",
   "execution_count": 26,
   "metadata": {},
   "outputs": [],
   "source": [
    "# data = [list(range(x, 5)) for x in range(5)]\n",
    "# data"
   ]
  },
  {
   "cell_type": "markdown",
   "metadata": {},
   "source": []
  },
  {
   "cell_type": "markdown",
   "metadata": {},
   "source": [
    "### `Exercise 11 - Flatten`\n",
    "Write a script that would flatten the list obtained in `Exercise 10`. E.g., when given a list of lists as an input, you should return a single list containing all of the elements."
   ]
  },
  {
   "cell_type": "code",
   "execution_count": 27,
   "metadata": {},
   "outputs": [],
   "source": [
    "# flat_list = []\n",
    "\n",
    "# for inner_list in data:\n",
    "#     for item in inner_list:\n",
    "#         flat_list.append(item)\n",
    "        \n",
    "# flat_list"
   ]
  },
  {
   "cell_type": "markdown",
   "metadata": {},
   "source": [
    "### `Exercise 12 - Flatten Comprehension`\n",
    "Recreate the `Exercise 11`, as well as the functions given below in a list comprehension form."
   ]
  },
  {
   "cell_type": "code",
   "execution_count": 28,
   "metadata": {},
   "outputs": [],
   "source": [
    "# flat_list = [item for inner_list in data for item in inner_list]\n",
    "# flat_list"
   ]
  },
  {
   "cell_type": "code",
   "execution_count": 102,
   "metadata": {},
   "outputs": [
    {
     "data": {
      "text/plain": [
       "[0, 1, 2, 3, 4, 2, 3, 4, 4]"
      ]
     },
     "execution_count": 102,
     "metadata": {},
     "output_type": "execute_result"
    }
   ],
   "source": [
    "flat_list = []\n",
    "\n",
    "for inner_list in data:\n",
    "    if len(inner_list) % 2 == 1:\n",
    "        for item in inner_list:\n",
    "            flat_list.append(item)\n",
    "        \n",
    "flat_list"
   ]
  },
  {
   "cell_type": "code",
   "execution_count": null,
   "metadata": {},
   "outputs": [],
   "source": []
  },
  {
   "cell_type": "code",
   "execution_count": 103,
   "metadata": {},
   "outputs": [
    {
     "data": {
      "text/plain": [
       "[0, 1, 2, 3, 4, 2, 3, 4, 4]"
      ]
     },
     "execution_count": 103,
     "metadata": {},
     "output_type": "execute_result"
    }
   ],
   "source": [
    "flat_list = [\n",
    "    item\n",
    "    for inner_list in data\n",
    "    if len(inner_list) % 2 == 1\n",
    "    for item in inner_list\n",
    "]\n",
    "flat_list"
   ]
  },
  {
   "cell_type": "code",
   "execution_count": null,
   "metadata": {},
   "outputs": [],
   "source": []
  },
  {
   "cell_type": "code",
   "execution_count": 104,
   "metadata": {},
   "outputs": [
    {
     "data": {
      "text/plain": [
       "[0, 2, 4, 2, 4, 4]"
      ]
     },
     "execution_count": 104,
     "metadata": {},
     "output_type": "execute_result"
    }
   ],
   "source": [
    "flat_list = []\n",
    "\n",
    "for inner_list in data:\n",
    "    if len(inner_list) % 2 == 1:\n",
    "        for item in inner_list:\n",
    "            if item % 2 == 0:\n",
    "                flat_list.append(item)\n",
    "        \n",
    "flat_list"
   ]
  },
  {
   "cell_type": "code",
   "execution_count": null,
   "metadata": {},
   "outputs": [],
   "source": []
  },
  {
   "cell_type": "code",
   "execution_count": 105,
   "metadata": {},
   "outputs": [
    {
     "data": {
      "text/plain": [
       "[0, 2, 4, 2, 4, 4]"
      ]
     },
     "execution_count": 105,
     "metadata": {},
     "output_type": "execute_result"
    }
   ],
   "source": [
    "flat_list = [\n",
    "    item\n",
    "    for inner_list in data\n",
    "    if len(inner_list) % 2 == 1\n",
    "    for item in inner_list\n",
    "    if item % 2 == 0\n",
    "]\n",
    "flat_list"
   ]
  },
  {
   "cell_type": "code",
   "execution_count": null,
   "metadata": {},
   "outputs": [],
   "source": []
  },
  {
   "cell_type": "markdown",
   "metadata": {},
   "source": [
    "## Dictionary comprehensions"
   ]
  },
  {
   "cell_type": "code",
   "execution_count": 29,
   "metadata": {},
   "outputs": [
    {
     "data": {
      "text/plain": [
       "(['a', 'b', 'c', 'd', 'e', 'f', 'g'], [1, 2, 3, 4, 5, 6])"
      ]
     },
     "execution_count": 29,
     "metadata": {},
     "output_type": "execute_result"
    }
   ],
   "source": [
    "keys = list('abcdefg')\n",
    "values = list(range(1, len(keys)))\n",
    "keys, values"
   ]
  },
  {
   "cell_type": "code",
   "execution_count": 30,
   "metadata": {},
   "outputs": [
    {
     "data": {
      "text/plain": [
       "{'a': 1, 'b': 2, 'c': 3, 'd': 4, 'e': 5, 'f': 6}"
      ]
     },
     "execution_count": 30,
     "metadata": {},
     "output_type": "execute_result"
    }
   ],
   "source": [
    "alphabet = {}\n",
    "for key, value in zip(keys, values):\n",
    "    alphabet[key] = value\n",
    "    \n",
    "alphabet"
   ]
  },
  {
   "cell_type": "code",
   "execution_count": 31,
   "metadata": {},
   "outputs": [
    {
     "data": {
      "text/plain": [
       "{'a': 1, 'b': 2, 'c': 3, 'd': 4, 'e': 5, 'f': 6}"
      ]
     },
     "execution_count": 31,
     "metadata": {},
     "output_type": "execute_result"
    }
   ],
   "source": [
    "alphabet = {key: value for key, value in zip(keys, values)}\n",
    "alphabet"
   ]
  },
  {
   "cell_type": "markdown",
   "metadata": {},
   "source": [
    "### `Exercise 13 - Better than comprehension?`\n",
    "Comprehensions are amazing, but sometimes there are better solutions. Make the previous version shorted and more Pythonic."
   ]
  },
  {
   "cell_type": "code",
   "execution_count": 109,
   "metadata": {},
   "outputs": [
    {
     "data": {
      "text/plain": [
       "{'a': 1, 'b': 2, 'c': 3, 'd': 4, 'e': 5, 'f': 6}"
      ]
     },
     "execution_count": 109,
     "metadata": {},
     "output_type": "execute_result"
    }
   ],
   "source": [
    "# alphabet = dict(zip(keys, values))\n",
    "# alphabet"
   ]
  },
  {
   "cell_type": "code",
   "execution_count": null,
   "metadata": {},
   "outputs": [],
   "source": []
  },
  {
   "cell_type": "markdown",
   "metadata": {},
   "source": [
    "## Set comprehensions"
   ]
  },
  {
   "cell_type": "code",
   "execution_count": 110,
   "metadata": {},
   "outputs": [
    {
     "data": {
      "text/plain": [
       "{'_', 'a', 'b', 'e', 'h', 'l', 'p', 't'}"
      ]
     },
     "execution_count": 110,
     "metadata": {},
     "output_type": "execute_result"
    }
   ],
   "source": [
    "alphabet = {letter for letter in 'alphabet_alphabet'}\n",
    "alphabet"
   ]
  },
  {
   "cell_type": "markdown",
   "metadata": {},
   "source": [
    "Again, there is a better solution and you know it..."
   ]
  },
  {
   "cell_type": "code",
   "execution_count": 111,
   "metadata": {},
   "outputs": [
    {
     "data": {
      "text/plain": [
       "{'_', 'a', 'b', 'e', 'h', 'l', 'p', 't'}"
      ]
     },
     "execution_count": 111,
     "metadata": {},
     "output_type": "execute_result"
    }
   ],
   "source": [
    "# alphabet = set('alphabet_alphabet')\n",
    "# alphabet"
   ]
  },
  {
   "cell_type": "markdown",
   "metadata": {},
   "source": [
    "### `Exercise 14 - Built-in Comprehension`\n",
    "Find the ascii keys for the letters in 'alphabet_alphabet'. \n",
    "\n",
    "`Hint`: there is a built-in string method for that, tru finding it within Python documentation or online."
   ]
  },
  {
   "cell_type": "code",
   "execution_count": 112,
   "metadata": {},
   "outputs": [],
   "source": [
    "# alphabet = {ord(letter) for letter in 'alphabet_alphabet'}\n",
    "# alphabet"
   ]
  },
  {
   "cell_type": "code",
   "execution_count": null,
   "metadata": {},
   "outputs": [],
   "source": []
  }
 ],
 "metadata": {
  "kernelspec": {
   "display_name": "Python 3",
   "language": "python",
   "name": "python3"
  },
  "language_info": {
   "codemirror_mode": {
    "name": "ipython",
    "version": 3
   },
   "file_extension": ".py",
   "mimetype": "text/x-python",
   "name": "python",
   "nbconvert_exporter": "python",
   "pygments_lexer": "ipython3",
   "version": "3.7.2"
  }
 },
 "nbformat": 4,
 "nbformat_minor": 2
}
