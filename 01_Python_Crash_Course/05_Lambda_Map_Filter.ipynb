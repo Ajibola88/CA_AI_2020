{
 "cells": [
  {
   "cell_type": "markdown",
   "metadata": {},
   "source": [
    "__________\n",
    "# 05. Lambda | Map | Filter\n",
    "The present notebook will introduce `lambda`, `map()`, and `filter()` functions, which differ from the functions you met previously both by syntax and provided functionality. We will go through numerous examples of how to define and use them, and you will have to use this knowledge in order to carry out a number of exercises.\n",
    "__________"
   ]
  },
  {
   "cell_type": "markdown",
   "metadata": {},
   "source": [
    "# `lambda` Expressions\n",
    "A lambda function is a small anonymous function that can take any number of arguments: \n",
    "\n",
    "***`lambda`*** *arguments*: *expression*\n",
    "\n",
    "Here is a lambda function that adds 10 to the number passed in as an argument:"
   ]
  },
  {
   "cell_type": "code",
   "execution_count": 1,
   "metadata": {},
   "outputs": [
    {
     "data": {
      "text/plain": [
       "<function __main__.<lambda>(a)>"
      ]
     },
     "execution_count": 1,
     "metadata": {},
     "output_type": "execute_result"
    }
   ],
   "source": [
    "x = lambda a : a + 10\n",
    "x"
   ]
  },
  {
   "cell_type": "code",
   "execution_count": 2,
   "metadata": {},
   "outputs": [
    {
     "data": {
      "text/plain": [
       "15"
      ]
     },
     "execution_count": 2,
     "metadata": {},
     "output_type": "execute_result"
    }
   ],
   "source": [
    "x(5)"
   ]
  },
  {
   "cell_type": "markdown",
   "metadata": {},
   "source": [
    "And another one that multiplies argument a with argument b:"
   ]
  },
  {
   "cell_type": "code",
   "execution_count": 3,
   "metadata": {},
   "outputs": [
    {
     "data": {
      "text/plain": [
       "<function __main__.<lambda>(a, b)>"
      ]
     },
     "execution_count": 3,
     "metadata": {},
     "output_type": "execute_result"
    }
   ],
   "source": [
    "x = lambda a, b : a * b\n",
    "x"
   ]
  },
  {
   "cell_type": "code",
   "execution_count": 4,
   "metadata": {},
   "outputs": [
    {
     "data": {
      "text/plain": [
       "30"
      ]
     },
     "execution_count": 4,
     "metadata": {},
     "output_type": "execute_result"
    }
   ],
   "source": [
    "x(5, 6) "
   ]
  },
  {
   "cell_type": "code",
   "execution_count": 5,
   "metadata": {},
   "outputs": [],
   "source": [
    "def times2(x):\n",
    "    return x * 2"
   ]
  },
  {
   "cell_type": "code",
   "execution_count": 6,
   "metadata": {},
   "outputs": [
    {
     "data": {
      "text/plain": [
       "4"
      ]
     },
     "execution_count": 6,
     "metadata": {},
     "output_type": "execute_result"
    }
   ],
   "source": [
    "times2(2)"
   ]
  },
  {
   "cell_type": "code",
   "execution_count": 7,
   "metadata": {},
   "outputs": [
    {
     "data": {
      "text/plain": [
       "[111, 222, 111, 222]"
      ]
     },
     "execution_count": 7,
     "metadata": {},
     "output_type": "execute_result"
    }
   ],
   "source": [
    "times2([111, 222])"
   ]
  },
  {
   "cell_type": "code",
   "execution_count": 8,
   "metadata": {},
   "outputs": [
    {
     "data": {
      "text/plain": [
       "\"We don't need no educationWe don't need no education\""
      ]
     },
     "execution_count": 8,
     "metadata": {},
     "output_type": "execute_result"
    }
   ],
   "source": [
    "times2('We don\\'t need no education')"
   ]
  },
  {
   "cell_type": "code",
   "execution_count": 9,
   "metadata": {},
   "outputs": [
    {
     "data": {
      "text/plain": [
       "<function __main__.<lambda>(var)>"
      ]
     },
     "execution_count": 9,
     "metadata": {},
     "output_type": "execute_result"
    }
   ],
   "source": [
    "x = lambda var: var*2\n",
    "x"
   ]
  },
  {
   "cell_type": "code",
   "execution_count": 10,
   "metadata": {},
   "outputs": [
    {
     "data": {
      "text/plain": [
       "4"
      ]
     },
     "execution_count": 10,
     "metadata": {},
     "output_type": "execute_result"
    }
   ],
   "source": [
    "x(2)"
   ]
  },
  {
   "cell_type": "code",
   "execution_count": 11,
   "metadata": {},
   "outputs": [
    {
     "data": {
      "text/plain": [
       "[111, 222, 111, 222]"
      ]
     },
     "execution_count": 11,
     "metadata": {},
     "output_type": "execute_result"
    }
   ],
   "source": [
    "x([111,222])"
   ]
  },
  {
   "cell_type": "markdown",
   "metadata": {},
   "source": [
    "### `Exercise 1 - Lambda Sorting Tuples`\n",
    "Sort a list of tuples using a `lambda` expression.\n",
    "\n",
    "E.g.,\n",
    "\n",
    "Input:\n",
    "\n",
    "    marks = [('EN', 80), ('IT', 88), ('DE', 95)]\n",
    "    \n",
    "Output:\n",
    "    \n",
    "    Sorting the tuple list:\n",
    "\n",
    "    [('EN', 80), ('IT', 88), ('DE', 95)]    "
   ]
  },
  {
   "cell_type": "code",
   "execution_count": 12,
   "metadata": {},
   "outputs": [
    {
     "data": {
      "text/plain": [
       "[('DE', 95), ('EN', 80), ('IT', 90)]"
      ]
     },
     "execution_count": 12,
     "metadata": {},
     "output_type": "execute_result"
    }
   ],
   "source": [
    "marks = [('EN', 80), ('IT', 90), ('DE', 95)]\n",
    "x = lambda a: sorted(a)\n",
    "x(marks)"
   ]
  },
  {
   "cell_type": "code",
   "execution_count": 13,
   "metadata": {},
   "outputs": [
    {
     "name": "stdout",
     "output_type": "stream",
     "text": [
      "Sorting the tuple list:\n",
      "[('EN', 80), ('DE', 95), ('IT', 99)]\n"
     ]
    }
   ],
   "source": [
    "marks = [('EN', 80), ('IT', 99), ('DE', 95)]\n",
    "marks.sort(key = lambda x: x[1])\n",
    "print(f\"Sorting the tuple list:\\n{marks}\")"
   ]
  },
  {
   "cell_type": "markdown",
   "metadata": {},
   "source": [
    "### `Exercise 2 - Lambda Sorting Dict`\n",
    "Sort a list of dictionaries by color using a `lambda` expression.\n",
    "\n",
    "Input:\n",
    "\n",
    "    models = [{'make':'Nokia', 'model':216, 'color':'Black'}, \n",
    "              {'make':'Mi Max', 'model':'2', 'color':'Gold'}, \n",
    "              {'make':'Samsung', 'model': 7, 'color':'Blue'}]\n",
    "                 \n",
    "Output:\n",
    "    \n",
    "\n",
    "    Sorting the dictionary list :\n",
    "    [{'make': 'Nokia', 'model': 216, 'color': 'Black'}, {'make': 'Samsung', 'model': 7, 'color': 'Blue'}, {'make': 'Mi Max', 'model': 2, 'color': 'Gold'}]\n",
    " "
   ]
  },
  {
   "cell_type": "code",
   "execution_count": 14,
   "metadata": {},
   "outputs": [
    {
     "name": "stdout",
     "output_type": "stream",
     "text": [
      "\n",
      "Sorting the dictionary list :\n",
      "[{'make': 'Nokia', 'model': 216, 'color': 'Black'}, {'make': 'Samsung', 'model': 7, 'color': 'Blue'}, {'make': 'Mi Max', 'model': 2, 'color': 'Gold'}]\n"
     ]
    }
   ],
   "source": [
    "models = [{'make':'Nokia', 'model':216, 'color':'Black'}, \n",
    "          {'make':'Mi Max', 'model':2, 'color':'Gold'}, \n",
    "          {'make':'Samsung', 'model': 7, 'color':'Blue'}]\n",
    "\n",
    "sorted_models = sorted(models, key = lambda i: i['color'])\n",
    "print(f\"\\nSorting the dictionary list :\\n{sorted_models}\")"
   ]
  },
  {
   "cell_type": "markdown",
   "metadata": {},
   "source": [
    "### `Exercise 3 - Date Time Lambda`\n",
    "Extract year, month, date and time using Lambda:\n",
    "\n",
    "Input:\n",
    "\n",
    "    datetime.datetime(2020, 3, 28, 1, 3, 54, 121736)\n",
    "    \n",
    "Output:\n",
    "    \n",
    "    Datetime: 2020-03-28 01:06:28.325593\n",
    "    Year    : 2020\n",
    "    Month   : 3\n",
    "    Day     : 28\n",
    "    Now     : 01:06:28.325593"
   ]
  },
  {
   "cell_type": "code",
   "execution_count": 15,
   "metadata": {},
   "outputs": [
    {
     "data": {
      "text/plain": [
       "datetime.datetime(2020, 4, 15, 18, 7, 11, 670772)"
      ]
     },
     "execution_count": 15,
     "metadata": {},
     "output_type": "execute_result"
    }
   ],
   "source": [
    "import datetime\n",
    "now = datetime.datetime.now()\n",
    "now"
   ]
  },
  {
   "cell_type": "code",
   "execution_count": 16,
   "metadata": {},
   "outputs": [],
   "source": [
    "??datetime"
   ]
  },
  {
   "cell_type": "code",
   "execution_count": 17,
   "metadata": {},
   "outputs": [
    {
     "name": "stdout",
     "output_type": "stream",
     "text": [
      "Datetime: 2020-04-15 18:07:11.670772\n",
      "Year    : 2020\n",
      "Month   : 4\n",
      "Day     : 15\n",
      "Now     : 18:07:11.670772\n"
     ]
    }
   ],
   "source": [
    "year = lambda x: x.year\n",
    "month = lambda x: x.month\n",
    "day = lambda x: x.day\n",
    "t = lambda x: x.time()\n",
    "print(f'Datetime: {now}')\n",
    "print(f'Year    : {year(now)}')\n",
    "print(f'Month   : {month(now)}')\n",
    "print(f'Day     : {day(now)}')\n",
    "print(f'Now     : {t(now)}')"
   ]
  },
  {
   "cell_type": "code",
   "execution_count": 18,
   "metadata": {},
   "outputs": [
    {
     "data": {
      "text/plain": [
       "(2020, 4, 15, datetime.time(18, 7, 11, 670772))"
      ]
     },
     "execution_count": 18,
     "metadata": {},
     "output_type": "execute_result"
    }
   ],
   "source": [
    "t = lambda x: (x.year, x.month, x.day, x.time())\n",
    "t(now)"
   ]
  },
  {
   "cell_type": "markdown",
   "metadata": {},
   "source": [
    "### `Exercise 4 - Lambda Printing`\n",
    "Create a lambda named `print2`, which works the same way as `print`, but always uses tab as a separator.\n",
    "\n",
    "`Hint` You will need the `*` operators."
   ]
  },
  {
   "cell_type": "code",
   "execution_count": 20,
   "metadata": {},
   "outputs": [
    {
     "name": "stdout",
     "output_type": "stream",
     "text": [
      "j h w f g e   4 5 6 4\n"
     ]
    }
   ],
   "source": [
    "print2 = lambda a: print(*a)\n",
    "print2(\"jhwfge 4564\")"
   ]
  },
  {
   "cell_type": "code",
   "execution_count": 21,
   "metadata": {},
   "outputs": [
    {
     "name": "stdout",
     "output_type": "stream",
     "text": [
      "a\ts\td\ts\t \ts\ta\ts\n"
     ]
    }
   ],
   "source": [
    "print2 = lambda a: print(*a, sep='\\t')\n",
    "print2('asds sas')"
   ]
  },
  {
   "cell_type": "code",
   "execution_count": 22,
   "metadata": {},
   "outputs": [
    {
     "name": "stdout",
     "output_type": "stream",
     "text": [
      "My\tname\tis\tPovilas\tPazera.\n"
     ]
    }
   ],
   "source": [
    "print2 = lambda x: print(*x.split(), sep=\"\\t\")\n",
    "print2(\"My name is Povilas Pazera.\")"
   ]
  },
  {
   "cell_type": "code",
   "execution_count": 23,
   "metadata": {},
   "outputs": [
    {
     "name": "stdout",
     "output_type": "stream",
     "text": [
      "My\tname\tis\tPovilas\tPazera.\n",
      "My name is Povilas Pazera.\n"
     ]
    }
   ],
   "source": [
    "s = 'My name is Povilas Pazera.'\n",
    "print2 = lambda *args, **kwargs: print(*args, sep='\\t', **kwargs)\n",
    "print2(*s.split())\n",
    "print(*s.split())"
   ]
  },
  {
   "cell_type": "markdown",
   "metadata": {},
   "source": [
    "___________\n",
    "# Map & Filter\n",
    "\n",
    "`Map` & `Filter` allow the programmer to write simpler, shorter code, without thinking about loops or branching. This way of coding is also known as functional programming, since we apply a function across a number of iterables in one full swoop. Both of these functions come built-in with Python (in the __builtins__ module) and require no importing.\n",
    "\n",
    "## Map\n",
    "The `map()` function in python has the following syntax:\n",
    "\n",
    "    map(func, *iterables)\n",
    "\n",
    "Where `func` is the function to be applied on each of the iterable elements (as many as there are). Note the use of `*`, for an arbitrary number of arguments. Additional notes:\n",
    "\n",
    "- In Python 3, `map()` returns a map object which is a generator object.\n",
    "- To get the result as a list, `list()` function can be called on the map object, e.g. `list(map(func, *iterables))`.\n",
    "- The number of arguments to func must be the number of iterables listed.\n",
    "\n",
    "Let's say you have a list (iterable) of your chosen laptop brands and want to uppercase them. In traditional Python, you would do something like this:"
   ]
  },
  {
   "cell_type": "code",
   "execution_count": 24,
   "metadata": {},
   "outputs": [],
   "source": [
    "import autotime\n",
    "%load_ext autotime"
   ]
  },
  {
   "cell_type": "code",
   "execution_count": 25,
   "metadata": {},
   "outputs": [
    {
     "name": "stdout",
     "output_type": "stream",
     "text": [
      "769 ns ± 118 ns per loop (mean ± std. dev. of 7 runs, 1000000 loops each)\n",
      "time: 6.31 s\n"
     ]
    }
   ],
   "source": [
    "%%timeit\n",
    "laptops = ['acer', 'asus', 'macbook', 'lg']\n",
    "[l.upper() for l in laptops]"
   ]
  },
  {
   "cell_type": "markdown",
   "metadata": {},
   "source": [
    "Alternatively, you can do the same using the `map()` function:"
   ]
  },
  {
   "cell_type": "code",
   "execution_count": 26,
   "metadata": {},
   "outputs": [
    {
     "name": "stdout",
     "output_type": "stream",
     "text": [
      "784 ns ± 27 ns per loop (mean ± std. dev. of 7 runs, 1000000 loops each)\n",
      "time: 6.37 s\n"
     ]
    }
   ],
   "source": [
    "%%timeit\n",
    "laptops = ['acer', 'asus', 'macbook', 'lg']\n",
    "list(map(str.upper, laptops))"
   ]
  },
  {
   "cell_type": "markdown",
   "metadata": {},
   "source": [
    "`func` corresponds to virtually any function, so we can also `map()` our own `def`initions:"
   ]
  },
  {
   "cell_type": "code",
   "execution_count": 27,
   "metadata": {},
   "outputs": [
    {
     "data": {
      "text/plain": [
       "[11, 14, 17, 20, 23, 26, 29, 32]"
      ]
     },
     "execution_count": 27,
     "metadata": {},
     "output_type": "execute_result"
    },
    {
     "name": "stdout",
     "output_type": "stream",
     "text": [
      "time: 2.13 ms\n"
     ]
    }
   ],
   "source": [
    "seq = range(11, 33, 3)\n",
    "seq = list(seq)\n",
    "seq"
   ]
  },
  {
   "cell_type": "code",
   "execution_count": 28,
   "metadata": {},
   "outputs": [
    {
     "data": {
      "text/plain": [
       "<map at 0x7f9e9b785390>"
      ]
     },
     "execution_count": 28,
     "metadata": {},
     "output_type": "execute_result"
    },
    {
     "name": "stdout",
     "output_type": "stream",
     "text": [
      "time: 1.89 ms\n"
     ]
    }
   ],
   "source": [
    "def times2(x):\n",
    "    return x * 2\n",
    "\n",
    "map(times2, seq)"
   ]
  },
  {
   "cell_type": "code",
   "execution_count": 29,
   "metadata": {},
   "outputs": [
    {
     "data": {
      "text/plain": [
       "[22, 28, 34, 40, 46, 52, 58, 64]"
      ]
     },
     "execution_count": 29,
     "metadata": {},
     "output_type": "execute_result"
    },
    {
     "name": "stdout",
     "output_type": "stream",
     "text": [
      "time: 6.06 ms\n"
     ]
    }
   ],
   "source": [
    "list(map(times2, seq))"
   ]
  },
  {
   "cell_type": "code",
   "execution_count": 30,
   "metadata": {},
   "outputs": [
    {
     "data": {
      "text/plain": [
       "[121, 196, 289, 400, 529, 676, 841, 1024]"
      ]
     },
     "execution_count": 30,
     "metadata": {},
     "output_type": "execute_result"
    },
    {
     "name": "stdout",
     "output_type": "stream",
     "text": [
      "time: 3.1 ms\n"
     ]
    }
   ],
   "source": [
    "def squared(x):\n",
    "    return x ** 2\n",
    "\n",
    "list(map(squared, seq))"
   ]
  },
  {
   "cell_type": "markdown",
   "metadata": {},
   "source": [
    "We can also combine `map()` with `lambda`:"
   ]
  },
  {
   "cell_type": "code",
   "execution_count": 31,
   "metadata": {},
   "outputs": [
    {
     "data": {
      "text/plain": [
       "[22, 28, 34, 40, 46, 52, 58, 64]"
      ]
     },
     "execution_count": 31,
     "metadata": {},
     "output_type": "execute_result"
    },
    {
     "name": "stdout",
     "output_type": "stream",
     "text": [
      "time: 1.83 ms\n"
     ]
    }
   ],
   "source": [
    "list(map(lambda x: x * 2, seq))"
   ]
  },
  {
   "cell_type": "markdown",
   "metadata": {},
   "source": [
    "### `Exercise 5 - Map Stats`\n",
    "Assume that you gathered a list of stats (floats) about your working routines (be it the averages of customers that joined the system during each day of the month, the sums of money transactions, anything of the kind):\n",
    "\n",
    "    numbers = [0.356, 11.12, 16.534238, 3.2456, 9.1, 5, 13.6]\n",
    "    \n",
    "You want to round these numbers to have the same decimal placing via the `map()` function and the `round()` Python built-in. "
   ]
  },
  {
   "cell_type": "code",
   "execution_count": 32,
   "metadata": {},
   "outputs": [
    {
     "data": {
      "text/plain": [
       "[0, 11, 17, 3, 9, 5, 14]"
      ]
     },
     "execution_count": 32,
     "metadata": {},
     "output_type": "execute_result"
    },
    {
     "name": "stdout",
     "output_type": "stream",
     "text": [
      "time: 2.24 ms\n"
     ]
    }
   ],
   "source": [
    "numbers = [0.356, 11.12, 16.534238, 3.2456, 9.1, 5, 13.6]\n",
    "result = list(map(round, numbers))\n",
    "result"
   ]
  },
  {
   "cell_type": "markdown",
   "metadata": {},
   "source": [
    "Now change the functions, so that each of the elements is rounded to the position of it in the list. That is, round up the first element in the list to one decimal place, the second element in the list to two decimal places, the third element in the list to three decimal places, etc. \n",
    "\n",
    "`Note` Round function requires two arguments, so we need to pass in two iterables."
   ]
  },
  {
   "cell_type": "code",
   "execution_count": 33,
   "metadata": {},
   "outputs": [
    {
     "name": "stdout",
     "output_type": "stream",
     "text": [
      "[0.4, 11.12, 16.534, 3.2456, 9.1, 5]\n",
      "time: 786 µs\n"
     ]
    }
   ],
   "source": [
    "numbers = [0.356, 11.12, 16.534238, 3.2456, 9.1, 5, 13.6]\n",
    "result = list(map(round, numbers, range(1,7)))\n",
    "print(result)"
   ]
  },
  {
   "cell_type": "markdown",
   "metadata": {},
   "source": [
    "### `Exercise 6 - Map Lambda Zip...?`\n",
    "Create a custom `zip()` function using `map()` and `lambda()`:\n",
    "\n",
    "    s = ['a', 'b', 'c', 'd', 'e']\n",
    "    n = [1,2,3,4,5]\n",
    "    \n",
    "    print(zip(s,n))\n",
    "    \n",
    "    [('a', 1), ('b', 2), ('c', 3), ('d', 4), ('e', 5)]"
   ]
  },
  {
   "cell_type": "code",
   "execution_count": 34,
   "metadata": {},
   "outputs": [
    {
     "data": {
      "text/plain": [
       "[('a', 1), ('b', 2), ('c', 3), ('d', 4), ('e', 5)]"
      ]
     },
     "execution_count": 34,
     "metadata": {},
     "output_type": "execute_result"
    },
    {
     "name": "stdout",
     "output_type": "stream",
     "text": [
      "time: 4.63 ms\n"
     ]
    }
   ],
   "source": [
    "s = ['a', 'b', 'c', 'd', 'e']\n",
    "n = [1,2,3,4,5]\n",
    "\n",
    "def zip(my_strings, my_numbers): \n",
    "    return list(map(lambda x, y: (x, y), my_strings, my_numbers))\n",
    "    \n",
    "zip(s,n)"
   ]
  },
  {
   "cell_type": "markdown",
   "metadata": {},
   "source": [
    "__________________\n",
    "# `filter()`\n",
    "Having the syntax of the form: \n",
    "\n",
    "    filter(func, iterable)\n",
    "\n",
    "`filter()`then passes each element in the iterable through some function that requires to return boolean values, \"filtering\" away those that are false. In contrast, `map()` passes each element in the iterable through a function and returns the result of all elements having passed through the function.\n",
    "\n",
    "There are a few points worth remembering when thinking about `filter()`:\n",
    "\n",
    "- Unlike `map()`, only one iterable is required.\n",
    "- The `func` argument is required to return a boolean type. If it doesn't, filter simply returns the iterable passed to it. Also, as only one iterable is required, it's implicit that func must only take one argument.\n",
    "- `filter` passes each element in the iterable through `func` and returns only the ones that evaluate to `True`.\n",
    "\n",
    "Here is a simple example of a function filtering a list of numbers:"
   ]
  },
  {
   "cell_type": "code",
   "execution_count": 35,
   "metadata": {},
   "outputs": [
    {
     "data": {
      "text/plain": [
       "[90, 76, 88, 81]"
      ]
     },
     "execution_count": 35,
     "metadata": {},
     "output_type": "execute_result"
    },
    {
     "name": "stdout",
     "output_type": "stream",
     "text": [
      "time: 3.92 ms\n"
     ]
    }
   ],
   "source": [
    "scores = [66, 90, 68, 59, 76, 60, 88, 74, 81, 65]\n",
    "\n",
    "def is_A_student(score):\n",
    "    return score > 75\n",
    "\n",
    "over_75 = list(filter(is_A_student, scores))\n",
    "over_75"
   ]
  },
  {
   "cell_type": "markdown",
   "metadata": {},
   "source": [
    "And here is a palindrome detector using `filter` combined with `lambda`:"
   ]
  },
  {
   "cell_type": "code",
   "execution_count": 36,
   "metadata": {},
   "outputs": [
    {
     "data": {
      "text/plain": [
       "['madam', 'anutforajaroftuna']"
      ]
     },
     "execution_count": 36,
     "metadata": {},
     "output_type": "execute_result"
    },
    {
     "name": "stdout",
     "output_type": "stream",
     "text": [
      "time: 3.46 ms\n"
     ]
    }
   ],
   "source": [
    "dromes = (\"demigod\", \"rewire\", \"madam\", \"anutforajaroftuna\", \"kiosk\")\n",
    "palindromes = list(filter(lambda word: word == word[::-1], dromes))\n",
    "palindromes"
   ]
  },
  {
   "cell_type": "markdown",
   "metadata": {},
   "source": [
    "And a few examples more just to make it even clearer:"
   ]
  },
  {
   "cell_type": "code",
   "execution_count": 37,
   "metadata": {},
   "outputs": [
    {
     "data": {
      "text/plain": [
       "[11, 14, 17, 20, 23, 26, 29, 32]"
      ]
     },
     "execution_count": 37,
     "metadata": {},
     "output_type": "execute_result"
    },
    {
     "name": "stdout",
     "output_type": "stream",
     "text": [
      "time: 2.15 ms\n"
     ]
    }
   ],
   "source": [
    "seq"
   ]
  },
  {
   "cell_type": "code",
   "execution_count": 38,
   "metadata": {},
   "outputs": [
    {
     "data": {
      "text/plain": [
       "[23, 26, 29, 32]"
      ]
     },
     "execution_count": 38,
     "metadata": {},
     "output_type": "execute_result"
    },
    {
     "name": "stdout",
     "output_type": "stream",
     "text": [
      "time: 2.12 ms\n"
     ]
    }
   ],
   "source": [
    "list(filter(lambda x: x > 20, seq))"
   ]
  },
  {
   "cell_type": "code",
   "execution_count": 39,
   "metadata": {},
   "outputs": [
    {
     "data": {
      "text/plain": [
       "[23, 26, 29]"
      ]
     },
     "execution_count": 39,
     "metadata": {},
     "output_type": "execute_result"
    },
    {
     "name": "stdout",
     "output_type": "stream",
     "text": [
      "time: 4.94 ms\n"
     ]
    }
   ],
   "source": [
    "list(filter(lambda x: 20 < x < 30, seq))"
   ]
  },
  {
   "cell_type": "code",
   "execution_count": 40,
   "metadata": {
    "scrolled": true
   },
   "outputs": [
    {
     "data": {
      "text/plain": [
       "[10,\n",
       " 12,\n",
       " 14,\n",
       " 16,\n",
       " 18,\n",
       " 20,\n",
       " 22,\n",
       " 24,\n",
       " 26,\n",
       " 28,\n",
       " 30,\n",
       " 32,\n",
       " 34,\n",
       " 36,\n",
       " 38,\n",
       " 40,\n",
       " 42,\n",
       " 44,\n",
       " 46,\n",
       " 48,\n",
       " 50,\n",
       " 52,\n",
       " 54,\n",
       " 56,\n",
       " 58,\n",
       " 60,\n",
       " 62,\n",
       " 64,\n",
       " 66,\n",
       " 68,\n",
       " 70,\n",
       " 72,\n",
       " 74,\n",
       " 76,\n",
       " 78,\n",
       " 80,\n",
       " 82,\n",
       " 84,\n",
       " 86,\n",
       " 88,\n",
       " 90,\n",
       " 92,\n",
       " 94,\n",
       " 96,\n",
       " 98]"
      ]
     },
     "execution_count": 40,
     "metadata": {},
     "output_type": "execute_result"
    },
    {
     "name": "stdout",
     "output_type": "stream",
     "text": [
      "time: 3.11 ms\n"
     ]
    }
   ],
   "source": [
    "input_value = range(10, 100, 2)\n",
    "list(input_value)"
   ]
  },
  {
   "cell_type": "code",
   "execution_count": 41,
   "metadata": {},
   "outputs": [
    {
     "data": {
      "text/plain": [
       "[12, 18, 24, 30, 36, 42, 48, 54, 60, 66, 72, 78, 84, 90, 96]"
      ]
     },
     "execution_count": 41,
     "metadata": {},
     "output_type": "execute_result"
    },
    {
     "name": "stdout",
     "output_type": "stream",
     "text": [
      "time: 2.23 ms\n"
     ]
    }
   ],
   "source": [
    "list(filter(lambda x: x % 3 == 0, input_value))"
   ]
  },
  {
   "cell_type": "code",
   "execution_count": 42,
   "metadata": {},
   "outputs": [
    {
     "data": {
      "text/plain": [
       "[12, 18, 24, 30, 36, 42, 48, 54, 60, 66, 72, 78, 84, 90, 96]"
      ]
     },
     "execution_count": 42,
     "metadata": {},
     "output_type": "execute_result"
    },
    {
     "name": "stdout",
     "output_type": "stream",
     "text": [
      "time: 5.21 ms\n"
     ]
    }
   ],
   "source": [
    "[x for x in input_value if x % 3 == 0]"
   ]
  },
  {
   "cell_type": "code",
   "execution_count": 43,
   "metadata": {},
   "outputs": [
    {
     "name": "stdout",
     "output_type": "stream",
     "text": [
      "time: 489 µs\n"
     ]
    }
   ],
   "source": [
    "from time import time"
   ]
  },
  {
   "cell_type": "code",
   "execution_count": 44,
   "metadata": {},
   "outputs": [
    {
     "name": "stdout",
     "output_type": "stream",
     "text": [
      "time: 444 µs\n"
     ]
    }
   ],
   "source": [
    "input_value = range(10, 100000, 2)"
   ]
  },
  {
   "cell_type": "code",
   "execution_count": 45,
   "metadata": {
    "scrolled": true
   },
   "outputs": [
    {
     "name": "stdout",
     "output_type": "stream",
     "text": [
      "8.45 ms ± 288 µs per loop (mean ± std. dev. of 7 runs, 100 loops each)\n",
      "time: 6.92 s\n"
     ]
    }
   ],
   "source": [
    "%%timeit\n",
    "list(filter(lambda x: x % 3 == 0, input_value))"
   ]
  },
  {
   "cell_type": "code",
   "execution_count": 46,
   "metadata": {},
   "outputs": [
    {
     "name": "stdout",
     "output_type": "stream",
     "text": [
      "4.29 ms ± 91 µs per loop (mean ± std. dev. of 7 runs, 100 loops each)\n",
      "time: 3.45 s\n"
     ]
    }
   ],
   "source": [
    "%%timeit\n",
    "[x for x in input_value if x % 3 == 0]"
   ]
  },
  {
   "cell_type": "code",
   "execution_count": null,
   "metadata": {},
   "outputs": [],
   "source": []
  },
  {
   "cell_type": "markdown",
   "metadata": {},
   "source": [
    "### `Exercise 7 - Is Even`\n",
    "Create a function `is_even` that takes a list of numbers and returns a new list with even numbers replaced by `True` and odd numbers replaced by `False`:\n",
    "\n",
    "Input:\n",
    "    \n",
    "    is_even([1, 2, 3, 4, 4])\n",
    "\n",
    "Output:\n",
    "\n",
    "    [False, True, False, True, True]"
   ]
  },
  {
   "cell_type": "code",
   "execution_count": 51,
   "metadata": {},
   "outputs": [
    {
     "name": "stdout",
     "output_type": "stream",
     "text": [
      "CPU times: user 5 µs, sys: 0 ns, total: 5 µs\n",
      "Wall time: 7.39 µs\n",
      "time: 1.13 ms\n"
     ]
    }
   ],
   "source": [
    "%%time\n",
    "def is_even(list_of_numbers):\n",
    "    return [num % 2 == 0 for num in list_of_numbers]"
   ]
  },
  {
   "cell_type": "code",
   "execution_count": 52,
   "metadata": {},
   "outputs": [
    {
     "name": "stdout",
     "output_type": "stream",
     "text": [
      "CPU times: user 1.72 ms, sys: 0 ns, total: 1.72 ms\n",
      "Wall time: 1.74 ms\n",
      "time: 3.78 ms\n"
     ]
    }
   ],
   "source": [
    "%%time\n",
    "def is_even(list_of_numbers):\n",
    "    return list(filter(lambda even : True if (even % 2 == 0) else False, list_of_numbers))\n",
    "\n",
    "is_even(list(range(1,10000)))"
   ]
  },
  {
   "cell_type": "code",
   "execution_count": 53,
   "metadata": {},
   "outputs": [
    {
     "name": "stdout",
     "output_type": "stream",
     "text": [
      "time: 1.07 ms\n"
     ]
    }
   ],
   "source": [
    "def is_even(x: [int]) -> [bool]:\n",
    "    \"\"\"\n",
    "    Replaces even numbers in the list with True and odd with False\n",
    "    \n",
    "    Arguments:\n",
    "        x {[int]} -- list of numbers\n",
    "        \n",
    "    Returns:\n",
    "        [bool] -- list of booleans\n",
    "        \n",
    "    Examples:\n",
    "        >>> is_even([1, 2, 3, 4, 4])\n",
    "        [False, True, False, True, True]\n",
    "    \"\"\"\n",
    "    return list(map(lambda y: y % 2 == 0, x))"
   ]
  },
  {
   "cell_type": "code",
   "execution_count": null,
   "metadata": {},
   "outputs": [],
   "source": []
  },
  {
   "cell_type": "markdown",
   "metadata": {},
   "source": [
    "### `Exercise 8 - Custom Encrypt!`\n",
    "Create a function `encrypt(s, X, Y)` that takes a string `s` and 2 integers `X` and `Y` as an input, and changes its characters to encrypt the message:\n",
    "\n",
    "    s - string\n",
    "    X - int\n",
    "    Y - int\n",
    "\n",
    "    `The low tide rises at 6pm on the 10th and at 7pm on the 21st message 24 058 55 25`\n",
    "    \n",
    "- odd numeric characters are converted to their corresponding letters of the alphabet + X \n",
    "- even numeric characters are converted to their corresponding letters of the alphabet + 2X \n",
    "- alpha characters are converted to their numerical representation, where and odds get + Y, evens get +2Y."
   ]
  },
  {
   "cell_type": "code",
   "execution_count": 61,
   "metadata": {},
   "outputs": [
    {
     "name": "stdout",
     "output_type": "stream",
     "text": [
      "time: 726 µs\n"
     ]
    }
   ],
   "source": [
    "message = 'The low tide rises at 6pm on the 10th and at 7pm on the 21st message 24 058 55 25'\n",
    "x = 2\n",
    "y = 5"
   ]
  },
  {
   "cell_type": "code",
   "execution_count": 62,
   "metadata": {},
   "outputs": [
    {
     "name": "stdout",
     "output_type": "stream",
     "text": [
      "time: 1.04 ms\n"
     ]
    }
   ],
   "source": [
    "def encrypt_char(c, x, y):\n",
    "    \n",
    "    if c.isdigit():\n",
    "        c = int(c)\n",
    "        if c % 2 == 0:\n",
    "            return chr(c+x)\n",
    "        else:\n",
    "            return chr(c+2*x)\n",
    "\n",
    "    if c.isalpha():\n",
    "        num = ord(c)\n",
    "        if num % 2 == 0:\n",
    "            return chr(num+y*2)\n",
    "        else:\n",
    "            return chr(num+y)\n",
    "\n",
    "    else:\n",
    "        return c"
   ]
  },
  {
   "cell_type": "code",
   "execution_count": 65,
   "metadata": {},
   "outputs": [
    {
     "name": "stdout",
     "output_type": "stream",
     "text": [
      "^rj vt| ~nnj |nxjx f~ \bzr tx ~rj \u0005\u0002~r fxn f~ \u000b",
      "zr tx ~rj \u0004\u0005x~ rjxxflj \u0004\u0006 \u0002\t\n",
      " \t\t \u0004\t\n",
      "time: 1.24 ms\n"
     ]
    }
   ],
   "source": [
    "''.join(list(map(lambda a: encrypt_char(a, x, y), message)))"
   ]
  },
  {
   "cell_type": "code",
   "execution_count": 66,
   "metadata": {},
   "outputs": [
    {
     "name": "stdout",
     "output_type": "stream",
     "text": [
      "4029 61927 1413-29 121323923 514 e1017 198 1429 dY142 58-2 514 j1017 198 1429 ad2314 17923235119 ac Yhg hh ah\n",
      "time: 5.93 ms\n"
     ]
    }
   ],
   "source": [
    "# MARTYNAS CODE\n",
    "import string as st\n",
    "s = 'The low tide rises at 6pm on the 10th and at 7pm on the 21st message 24 058 55 25'\n",
    "#s = 'Banana 30 cm long is yellow fruit'\n",
    "CORR = st.ascii_letters\n",
    "# 'abcdefghijklmnopqrstuvwxyzABCDEFGHIJKLMNOPQRSTUVWXYZ'\n",
    "def encrypt(s, X, Y): # naudojant savo sukurtą generatrorių\n",
    "    for ch in s:\n",
    "        if ch.isnumeric() and int(ch) % 2 != 0: # numeric and odd\n",
    "            yield str(CORR[int(ch) + X])\n",
    "        elif ch.isnumeric() and int(ch) % 2 == 0: # numeric and even\n",
    "            yield str(CORR[int(ch) - X])\n",
    "        elif ch.isalpha() and ord(ch) % 2 != 0: # alpha and odd\n",
    "            yield str(CORR.index(ch) + Y) #st.ascii_letters.index(ch) + Y\n",
    "        elif ch.isalpha() and ord(ch) % 2 == 0: # alpha and even\n",
    "            yield str(CORR.index(ch) - Y) #st.ascii_letters.index(ch) + Y\n",
    "        else:\n",
    "            yield ch\n",
    "X, Y = 2, 5\n",
    "encrypted = list(encrypt(s, X, Y))\n",
    "print(''.join(encrypted))"
   ]
  },
  {
   "cell_type": "code",
   "execution_count": 68,
   "metadata": {},
   "outputs": [
    {
     "name": "stdout",
     "output_type": "stream",
     "text": [
      "time: 4.38 ms\n"
     ]
    }
   ],
   "source": [
    "def num(number, X):\n",
    "    if number % 2 == 0:\n",
    "        return chr(number - X)\n",
    "    else:\n",
    "        return chr(number + X)\n",
    "    \n",
    "def alp(letter, Y):\n",
    "    num_eq = ord(letter)\n",
    "    if num_eq % 2 == 0:\n",
    "        return (num_eq - Y)\n",
    "    else:\n",
    "        return (num_eq + Y)\n",
    "    \n",
    "def listToString(list_): \n",
    "    str1 = \"\"\n",
    "    for item in list_:\n",
    "        str1 += str(item)\n",
    "    return str1\n",
    "    #return ''.join(list_)\n",
    "\n",
    "def encrypt(s, X, Y):\n",
    "    enc = []\n",
    "    for item in s:\n",
    "        if item.isspace():\n",
    "            enc.append(ord(item))\n",
    "        elif item.isalpha():\n",
    "            enc.append(alp(item, Y))\n",
    "        elif item.isnumeric():\n",
    "            enc.append(num(int(item), X))\n",
    "    return enc\n",
    "\n",
    "    #return listToString(enc)"
   ]
  },
  {
   "cell_type": "code",
   "execution_count": null,
   "metadata": {},
   "outputs": [],
   "source": []
  },
  {
   "cell_type": "markdown",
   "metadata": {},
   "source": [
    "### `Exercise 9 - Custom Decrypt!`\n",
    "Create a decryption function that returns the original string representation when given the encrypted version as the input and the XYZ code."
   ]
  },
  {
   "cell_type": "code",
   "execution_count": null,
   "metadata": {},
   "outputs": [],
   "source": [
    "# MARTYNAS CODE"
   ]
  },
  {
   "cell_type": "code",
   "execution_count": null,
   "metadata": {},
   "outputs": [],
   "source": [
    "def iseven(i):\n",
    "    # f-ja patikrinti ar skaičius lyginis\n",
    "    return ((i) % 2) == 0\n",
    "\n",
    "def decrypt(encrypted_data, X, Y):\n",
    "    for element in encrypted_data:\n",
    "        try:\n",
    "            element = int(element)\n",
    "            if iseven(element) ^ iseven(Y): # xor, buvo atimta\n",
    "                yield CORR[element + Y]\n",
    "            else: # abu odd, buvo prideta\n",
    "                yield CORR[element - Y]\n",
    "        except:\n",
    "            if element.isalpha(): # buvo skaičius\n",
    "                if iseven(X) ^ iseven(CORR.index(element)): # buvo pridėta\n",
    "                    yield CORR.index(element) - X\n",
    "                else: # buvo atimta\n",
    "                    if (CORR.index(element) + X) >= len(CORR):\n",
    "                        yield CORR.index(element) + X - 52\n",
    "                    else:\n",
    "                        yield CORR.index(element) + X\n",
    "            else:\n",
    "                #print(' ')\n",
    "                yield ' '\n",
    "print(''.join([str(char) for char in list(decrypt(encrypted, X, Y))]))"
   ]
  }
 ],
 "metadata": {
  "kernelspec": {
   "display_name": "Python 3",
   "language": "python",
   "name": "python3"
  },
  "language_info": {
   "codemirror_mode": {
    "name": "ipython",
    "version": 3
   },
   "file_extension": ".py",
   "mimetype": "text/x-python",
   "name": "python",
   "nbconvert_exporter": "python",
   "pygments_lexer": "ipython3",
   "version": "3.7.2"
  }
 },
 "nbformat": 4,
 "nbformat_minor": 2
}
