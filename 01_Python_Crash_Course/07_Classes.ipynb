{
 "cells": [
  {
   "cell_type": "markdown",
   "metadata": {},
   "source": [
    "__________\n",
    "# 07. Classes\n",
    "__________\n",
    "Python is an object-oriented programming language, so almost everything in is in an **object**, with its specific properties (e.g., **variables**) and **methods** (functions that belong to the object).\n",
    "\n",
    "A **Class** is like an object constructor, or a \"blueprint\" for creating objects (used to define the nature of the future objects). It represent a real-world things you want to model in your programs (e.g., cars, people, etc.) and defines their behaviour. \n",
    "\n",
    "- We create classes using the <code>class</code> keyword.\n",
    "- We define methods using the <code>def</code> keyword.\n",
    "\n",
    "E.g., in order to create a class named MyClass, with a property named x:"
   ]
  },
  {
   "cell_type": "markdown",
   "metadata": {},
   "source": [
    "## Basic Classes & Class Variables"
   ]
  },
  {
   "cell_type": "code",
   "execution_count": null,
   "metadata": {},
   "outputs": [],
   "source": [
    "class Shark:\n",
    "    animal_type = \"fish\""
   ]
  },
  {
   "cell_type": "markdown",
   "metadata": {},
   "source": [
    "Here, the variable `animal_type` is assigned the value \"fish\". We can create an instance of the `Shark` class (we’ll call it `new_shark`) and print the variable by using dot notation:"
   ]
  },
  {
   "cell_type": "code",
   "execution_count": null,
   "metadata": {},
   "outputs": [],
   "source": [
    "new_shark = Shark()\n",
    "print(new_shark.animal_type)"
   ]
  },
  {
   "cell_type": "code",
   "execution_count": null,
   "metadata": {},
   "outputs": [],
   "source": [
    "class Shark:\n",
    "    animal_type = \"fish\"\n",
    "    location = \"ocean\"\n",
    "    followers = 5\n",
    "\n",
    "new_shark = Shark()\n",
    "print(new_shark.animal_type)\n",
    "print(new_shark.location)\n",
    "print(new_shark.followers)"
   ]
  },
  {
   "cell_type": "markdown",
   "metadata": {},
   "source": [
    "## `__init__` & Instance Variables"
   ]
  },
  {
   "cell_type": "markdown",
   "metadata": {},
   "source": [
    "The examples above are classes and objects in their simplest form, and are not really useful in real life applications. To understand the meaning of classes we have to understand the built-in `__init__()` function and **instance variables**\n",
    "\n",
    "All classes have a function called `__init__()`, which is always executed automatically when the class is being initiated. This function is used to assign values to object properties, or other operations necessary to perform during the object construction."
   ]
  },
  {
   "cell_type": "code",
   "execution_count": null,
   "metadata": {},
   "outputs": [],
   "source": [
    "class Person:\n",
    "    \"\"\"\n",
    "    Often, here you will find the class description. \n",
    "    \"\"\"\n",
    "    def __init__(self, name: str, age: float) -> None:\n",
    "        \"\"\"\n",
    "        When initializing this class, you can pass two arguments\n",
    "        in order to set the values to the class variables:\n",
    "            \n",
    "            name {str} -- the name of the person\n",
    "            age  {float}- the age of the person\n",
    "        \n",
    "        \"\"\"\n",
    "        self.name = name\n",
    "        self.age = age"
   ]
  },
  {
   "cell_type": "markdown",
   "metadata": {},
   "source": [
    "- N.B. The `self` parameter is a reference to the current instance of the class, and is used to access variables that belong to the class. It does not have to be named `self`, but it has to be the first parameter of any function in the class."
   ]
  },
  {
   "cell_type": "code",
   "execution_count": null,
   "metadata": {},
   "outputs": [],
   "source": [
    "class Person:\n",
    "    def __init__(mysillyobject, name, age):\n",
    "        mysillyobject.name = name\n",
    "        mysillyobject.age = age\n",
    "\n",
    "    def myfunc(abc):\n",
    "        print(\"Hello my name is \" + abc.name)\n",
    "\n",
    "p1 = Person(\"John\", 36)\n",
    "p1.myfunc() "
   ]
  },
  {
   "cell_type": "markdown",
   "metadata": {},
   "source": [
    "**Instance variables:** Instance variables are owned by instances of the class, meaning that for each object or instance of that class, the instance variables are different. Unlike class variables, instance variables are defined within methods. \n",
    "\n",
    "In the `Person` class example above, `name` and `age` are instance variables. When we create a `Person` object, we will have to define these variables, which are passed as parameters within the constructor method or another method.\n",
    "\n",
    "Since we already created the *blueprint*, let's now create an instance of the `Person` class `person_1` and interact with it."
   ]
  },
  {
   "cell_type": "code",
   "execution_count": null,
   "metadata": {},
   "outputs": [],
   "source": [
    "person_1 = Person(\"John\", 36)\n",
    "print(person_1.name, person_1.age)"
   ]
  },
  {
   "cell_type": "markdown",
   "metadata": {},
   "source": [
    "Now, let's extend the use-case of this class by adding a number of methods (functions) that it can perform."
   ]
  },
  {
   "cell_type": "code",
   "execution_count": null,
   "metadata": {},
   "outputs": [],
   "source": [
    "class Person:\n",
    "    \"\"\"\n",
    "    A person class.\n",
    "    \"\"\"\n",
    "    def __init__(self, name: str, age: float) -> None:\n",
    "        \"\"\"\n",
    "            name {str} -- the name of the person\n",
    "            age  {float}- the age of the person\n",
    "        \n",
    "        \"\"\"\n",
    "        self.name = name\n",
    "        self.age = age\n",
    "    \n",
    "    def present(self) -> None:\n",
    "        print(f\"Hello, my name is {self.name}, I am {self.age} years old.\")"
   ]
  },
  {
   "cell_type": "markdown",
   "metadata": {},
   "source": [
    "We can now initialize a class object and use the `present` function to present the defined person. "
   ]
  },
  {
   "cell_type": "code",
   "execution_count": null,
   "metadata": {},
   "outputs": [],
   "source": [
    "person_1 = Person(\"John\", 36)\n",
    "person_1.present()  "
   ]
  },
  {
   "cell_type": "markdown",
   "metadata": {},
   "source": [
    "You can learn more about method inputs and outputs (annotations) by using the `__annotations__` keyword."
   ]
  },
  {
   "cell_type": "code",
   "execution_count": null,
   "metadata": {},
   "outputs": [],
   "source": [
    "print(Person.__init__.__annotations__)\n",
    "print(Person.present.__annotations__)"
   ]
  },
  {
   "cell_type": "markdown",
   "metadata": {},
   "source": [
    "You can also modify defined object properties:"
   ]
  },
  {
   "cell_type": "code",
   "execution_count": null,
   "metadata": {},
   "outputs": [],
   "source": [
    "p1.age = 40 "
   ]
  },
  {
   "cell_type": "markdown",
   "metadata": {},
   "source": [
    "Delete the property from the object:"
   ]
  },
  {
   "cell_type": "code",
   "execution_count": null,
   "metadata": {},
   "outputs": [],
   "source": [
    "del p1.age "
   ]
  },
  {
   "cell_type": "markdown",
   "metadata": {},
   "source": [
    "Or delete the object itself:"
   ]
  },
  {
   "cell_type": "code",
   "execution_count": null,
   "metadata": {},
   "outputs": [],
   "source": [
    "del p1 "
   ]
  },
  {
   "cell_type": "markdown",
   "metadata": {},
   "source": [
    "## `pass` Statement\n",
    "Class definitions cannot be empty, but if you for some reason have a class definition with no content, put in the pass statement to avoid getting an error."
   ]
  },
  {
   "cell_type": "code",
   "execution_count": null,
   "metadata": {},
   "outputs": [],
   "source": [
    "class Person:\n",
    "    pass"
   ]
  },
  {
   "cell_type": "markdown",
   "metadata": {},
   "source": [
    "## Inheritance\n",
    "Inheritance allows us to define a class that inherits all the methods and properties from another class.\n",
    "\n",
    "- **Parent class** is the class being inherited from, also called base class.\n",
    "- **Child class** is the class that inherits from another class, also called derived class.\n",
    "\n",
    "Let's create a class named `Person`, with `firstname` and `lastname` properties, and a `printname` method:"
   ]
  },
  {
   "cell_type": "code",
   "execution_count": null,
   "metadata": {},
   "outputs": [],
   "source": [
    "class Person:\n",
    "    def __init__(self, fname, lname):\n",
    "        self.firstname = fname\n",
    "        self.lastname = lname\n",
    "\n",
    "    def printname(self):\n",
    "        print(self.firstname, self.lastname)\n",
    "\n",
    "#Use the Person class to create an object, and then execute the printname method:\n",
    "\n",
    "x = Person(\"John\", \"Doe\")\n",
    "x.printname() "
   ]
  },
  {
   "cell_type": "markdown",
   "metadata": {},
   "source": [
    "To create a class that inherits the functionality from another class, send the parent class as a parameter when creating the child class:"
   ]
  },
  {
   "cell_type": "code",
   "execution_count": null,
   "metadata": {},
   "outputs": [],
   "source": [
    "class Student(Person):\n",
    "    pass "
   ]
  },
  {
   "cell_type": "code",
   "execution_count": null,
   "metadata": {},
   "outputs": [],
   "source": [
    "x = Student(\"Mike\", \"Olsen\")\n",
    "x.printname() "
   ]
  },
  {
   "cell_type": "markdown",
   "metadata": {},
   "source": [
    "The child's `__init__()` function **overrides** the inheritance of the parent's `__init__()` function."
   ]
  },
  {
   "cell_type": "code",
   "execution_count": null,
   "metadata": {},
   "outputs": [],
   "source": [
    "class Student(Person):\n",
    "    def __init__(self, fname, lname):\n",
    "    #add properties etc. "
   ]
  },
  {
   "cell_type": "markdown",
   "metadata": {},
   "source": [
    "To keep the inheritance of the parent's `__init__()` function, add a call to the parent's `__init__()` function:"
   ]
  },
  {
   "cell_type": "code",
   "execution_count": null,
   "metadata": {},
   "outputs": [],
   "source": [
    "class Student(Person):\n",
    "    def __init__(self, fname, lname):\n",
    "        Person.__init__(self, fname, lname) "
   ]
  },
  {
   "cell_type": "markdown",
   "metadata": {},
   "source": [
    "### `super()`\n",
    "Python also has a `super()` function that will make the child class inherit all the methods and properties from its parent:"
   ]
  },
  {
   "cell_type": "code",
   "execution_count": null,
   "metadata": {},
   "outputs": [],
   "source": [
    "class Student(Person):\n",
    "    def __init__(self, fname, lname):\n",
    "        super().__init__(fname, lname) "
   ]
  },
  {
   "cell_type": "markdown",
   "metadata": {},
   "source": [
    "We can add an additional property `graduationyear` to the `Student` class:"
   ]
  },
  {
   "cell_type": "code",
   "execution_count": null,
   "metadata": {},
   "outputs": [],
   "source": [
    "class Student(Person):\n",
    "    def __init__(self, fname, lname):\n",
    "        super().__init__(fname, lname)\n",
    "        self.graduationyear = 2020"
   ]
  },
  {
   "cell_type": "markdown",
   "metadata": {},
   "source": [
    "We can also add some methods..."
   ]
  },
  {
   "cell_type": "code",
   "execution_count": null,
   "metadata": {},
   "outputs": [],
   "source": [
    "class Student(Person):\n",
    "    def __init__(self, fname, lname, year):\n",
    "        super().__init__(fname, lname)\n",
    "        self.graduationyear = year\n",
    "\n",
    "    def welcome(self):\n",
    "        print(\"Welcome\", self.firstname, self.lastname, \"to the class of\", self.graduationyear) "
   ]
  },
  {
   "cell_type": "markdown",
   "metadata": {},
   "source": [
    "## An Iterator Class"
   ]
  },
  {
   "cell_type": "markdown",
   "metadata": {},
   "source": [
    "To create an object/class as an iterator you have to implement the methods `__iter__()` and `__next__()` to your object.\n",
    "\n",
    "As mentioned previously, all classes have a function called `__init__()`, allowing you to do some initializing when the object is being created. The `__iter__()` method acts similarly. You can do operations (initializing etc.), but must always return the iterator object itself.\n",
    "\n",
    "The `__next__()` method also allows you to do operations, and must return the next item in the sequence.\n",
    "\n",
    "`Example` Create an iterator that returns numbers, starting with 1, and each sequence will increase by one (returning 1,2,3,4,5 etc.):"
   ]
  },
  {
   "cell_type": "code",
   "execution_count": null,
   "metadata": {},
   "outputs": [],
   "source": [
    "class MyNumbers:\n",
    "    def __iter__(self):\n",
    "        self.a = 1\n",
    "        return self\n",
    "\n",
    "    def __next__(self):\n",
    "        x = self.a\n",
    "        self.a += 1\n",
    "        return x\n",
    "\n",
    "myclass = MyNumbers()\n",
    "myiter = iter(myclass)\n",
    "\n",
    "print(next(myiter))\n",
    "print(next(myiter))\n",
    "print(next(myiter))\n",
    "print(next(myiter))\n",
    "print(next(myiter)) "
   ]
  },
  {
   "cell_type": "markdown",
   "metadata": {},
   "source": [
    "This example could go on forever, so to prevent this, we could use the `StopIteration` statement. In the `__next__()` method, we can add a terminating condition to raise an error if the iteration is done a specified number of times:"
   ]
  },
  {
   "cell_type": "code",
   "execution_count": null,
   "metadata": {},
   "outputs": [],
   "source": [
    "class MyNumbers:\n",
    "    def __iter__(self):\n",
    "        self.a = 1\n",
    "        return self\n",
    "\n",
    "    def __next__(self):\n",
    "        if self.a <= 20:\n",
    "            x = self.a\n",
    "            self.a += 1\n",
    "            return x\n",
    "        else:\n",
    "            raise StopIteration\n",
    "\n",
    "myclass = MyNumbers()\n",
    "myiter = iter(myclass)\n",
    "\n",
    "for x in myiter:\n",
    "    print(x)"
   ]
  },
  {
   "cell_type": "code",
   "execution_count": null,
   "metadata": {},
   "outputs": [],
   "source": []
  },
  {
   "cell_type": "markdown",
   "metadata": {},
   "source": [
    "## `Exercise 1`\n",
    "**Create a class `Dog`** which:\n",
    "- Takes `name` string and `age` float as arguments.\n",
    "- Contains methods `sit` and `roll_over` which simulate dog sitting or rolling over (return nothing but print out if the dog sat or rolled over)."
   ]
  },
  {
   "cell_type": "code",
   "execution_count": null,
   "metadata": {},
   "outputs": [],
   "source": []
  },
  {
   "cell_type": "markdown",
   "metadata": {},
   "source": [
    "## `Exercise 2`\n",
    "Create an instance of a Dog class, print out its name/age, and make it sit/roll over."
   ]
  },
  {
   "cell_type": "code",
   "execution_count": null,
   "metadata": {},
   "outputs": [],
   "source": []
  },
  {
   "cell_type": "markdown",
   "metadata": {},
   "source": [
    "## `Exercise 3`\n",
    "Extend the `Dog` class in such way that you could monitor the current dog's state (e.g., if the dog is sitting, standing, laying, etc). Adjust the current class methods accordingly (e.g., the dog's actions should also lead to changes in its state)."
   ]
  },
  {
   "cell_type": "code",
   "execution_count": null,
   "metadata": {},
   "outputs": [],
   "source": []
  },
  {
   "cell_type": "markdown",
   "metadata": {},
   "source": [
    "## `Exercise 4`\n",
    "Make the dog less obedient by adding some randomness to it's responses. E.g., the dog does not necessarily sit down or roll over if asked (make sure this is also reflected within its states). \n",
    "- **Hint**: you may use `random` standard library."
   ]
  },
  {
   "cell_type": "code",
   "execution_count": null,
   "metadata": {},
   "outputs": [],
   "source": []
  },
  {
   "cell_type": "markdown",
   "metadata": {},
   "source": [
    "## `Optional Exercise 1 (Easy)`\n",
    "Make the dog capable of learning the obedience.\n",
    "- **Hint 1**: you may need an additional variable representing the dog's obedience.\n",
    "- **Hint 2**: this variable should be related to the likelihood of the dog following the commands. "
   ]
  },
  {
   "cell_type": "code",
   "execution_count": null,
   "metadata": {},
   "outputs": [],
   "source": []
  },
  {
   "cell_type": "markdown",
   "metadata": {},
   "source": [
    "## `Optional Exercise 2 (Hard)`\n",
    "Add two additional dog commands and make it capable of learning all of the 4 commands:\n",
    "- The dog starts by not performing the commands or performing them at random. \n",
    "- The dog can be given snacks when the right command is performed, increasing the dogs capabilities of performing it right the next time it is asked to. "
   ]
  },
  {
   "cell_type": "markdown",
   "metadata": {},
   "source": [
    "# `Examples`"
   ]
  },
  {
   "cell_type": "markdown",
   "metadata": {},
   "source": [
    "## `Car` Inheritance"
   ]
  },
  {
   "cell_type": "code",
   "execution_count": null,
   "metadata": {},
   "outputs": [],
   "source": [
    "from typing import Optional\n",
    "\n",
    "EPSILON = 1e-6\n",
    "\n",
    "class Car:\n",
    "    \"\"\"\n",
    "    Cars take you places.\n",
    "    \"\"\"\n",
    "\n",
    "    def __init__(\n",
    "        self,\n",
    "        make: str,\n",
    "        model: str,\n",
    "        year: int,\n",
    "        fuel_tank_capacity: float,\n",
    "        fuel_economy: float,\n",
    "    ) -> None:\n",
    "        \"\"\"\n",
    "        Arguments:\n",
    "            make {str} -- the make of the car\n",
    "            model {str} -- the model of the car\n",
    "            year {int} -- the year of the car\n",
    "            fuel_tank_capacity {float} -- the capacity of the fuel tank in liters\n",
    "            fuel_economy {float} -- the fuel economy of the car in liters / 100km\n",
    "        \"\"\"\n",
    "        self.make = make\n",
    "        self.model = model\n",
    "        self.year = year\n",
    "        self.fuel_tank_capacity = fuel_tank_capacity\n",
    "        self.fuel_economy = fuel_economy\n",
    "        self.fuel = 5.0\n",
    "        self.odometer = 0\n",
    "\n",
    "    def __repr__(self) -> str:\n",
    "        full_name = f\"{self.year} {self.make} {self.model}\"\n",
    "        return full_name.title()\n",
    "\n",
    "    def refuel(self, amount: Optional[float]) -> float:\n",
    "        \"\"\"\n",
    "        Refuels the car.\n",
    "\n",
    "        Arguments:\n",
    "            amount {float} -- amount to refuel\n",
    "\n",
    "        Returns:\n",
    "            float -- actual amount refueled\n",
    "        \"\"\"\n",
    "        actual_amount = (\n",
    "            self.fuel_tank_capacity - self.fuel\n",
    "            if amount is None\n",
    "            else min(amount, self.fuel_tank_capacity - self.fuel)\n",
    "        )\n",
    "        self.fuel += actual_amount\n",
    "        return actual_amount\n",
    "\n",
    "    def drive(self, distance: float) -> float:\n",
    "        \"\"\"\n",
    "        Drives the car for some distance.\n",
    "\n",
    "        Arguments:\n",
    "            distance {float} -- distance to travel\n",
    "\n",
    "        Returns:\n",
    "            float -- actual distance traveled\n",
    "        \"\"\"\n",
    "        if self.is_out_of_fuel:\n",
    "            return 0.0\n",
    "\n",
    "        actual_distance = min(distance, self.range)\n",
    "        self.fuel -= actual_distance * self.fuel_economy / 100\n",
    "        self.odometer += actual_distance\n",
    "        return actual_distance\n",
    "\n",
    "    @property\n",
    "    def range(self) -> float:\n",
    "        \"\"\"\n",
    "        The range of the car with the current amount of fuel.\n",
    "\n",
    "        Returns:\n",
    "            float -- available range\n",
    "        \"\"\"\n",
    "        return self.fuel / self.fuel_economy * 100\n",
    "\n",
    "    @property\n",
    "    def is_out_of_fuel(self) -> bool:\n",
    "        \"\"\"\n",
    "        Checks if the car is out of fuel.\n",
    "\n",
    "        Returns:\n",
    "            float -- available range\n",
    "        \"\"\"\n",
    "        return self.fuel < EPSILON"
   ]
  },
  {
   "cell_type": "code",
   "execution_count": null,
   "metadata": {},
   "outputs": [],
   "source": [
    "expensive_car = Car(\"Bentley\", \"Bentayga\", 2019, 80.0, 12)"
   ]
  },
  {
   "cell_type": "code",
   "execution_count": null,
   "metadata": {},
   "outputs": [],
   "source": [
    "expensive_car"
   ]
  },
  {
   "cell_type": "code",
   "execution_count": null,
   "metadata": {},
   "outputs": [],
   "source": [
    "expensive_car.range"
   ]
  },
  {
   "cell_type": "code",
   "execution_count": null,
   "metadata": {},
   "outputs": [],
   "source": [
    "expensive_car.drive(100)"
   ]
  },
  {
   "cell_type": "code",
   "execution_count": null,
   "metadata": {},
   "outputs": [],
   "source": [
    "expensive_car.is_out_of_fuel"
   ]
  },
  {
   "cell_type": "code",
   "execution_count": null,
   "metadata": {},
   "outputs": [],
   "source": [
    "class ElectricCar(Car):\n",
    "    \"\"\"\n",
    "    Electric cars take you places without poluting the environment.\n",
    "    \"\"\"\n",
    "    \n",
    "    def __init__(self, make: str, model: str, year: int, battery_size: float) -> None:\n",
    "        \"\"\"\n",
    "        Arguments:\n",
    "            make {str} -- the make of the car\n",
    "            model {str} -- the model of the car\n",
    "            year {int} -- the year of the car\n",
    "        \"\"\"\n",
    "        super().__init__(make, model, year)\n",
    "        self.battery_size = battery_size"
   ]
  },
  {
   "cell_type": "code",
   "execution_count": null,
   "metadata": {},
   "outputs": [],
   "source": [
    "cool_car = ElectricCar(\"Tesla\", \"Model X\", 2019, 100)"
   ]
  },
  {
   "cell_type": "code",
   "execution_count": null,
   "metadata": {},
   "outputs": [],
   "source": [
    "cool_car"
   ]
  },
  {
   "cell_type": "markdown",
   "metadata": {},
   "source": [
    "## `Linear` Maths"
   ]
  },
  {
   "cell_type": "code",
   "execution_count": null,
   "metadata": {},
   "outputs": [],
   "source": [
    "class Linear:\n",
    "    \"\"\"\n",
    "    Linear function\n",
    "    \"\"\"\n",
    "    def __init__(self, a=1.0, b=0.0):\n",
    "        \"\"\"        \n",
    "        Keyword Arguments:\n",
    "            a {float} -- slope (default: {1.0})\n",
    "            b {float} -- intercept (default: {0.0})\n",
    "        \"\"\"\n",
    "        self.a = a\n",
    "        self.b = b\n",
    "\n",
    "    def __call__(self, x: float) -> float:\n",
    "        \"\"\"\n",
    "        predict the function's value\n",
    "\n",
    "        Arguments:\n",
    "            x {float} -- indepentent variable\n",
    "\n",
    "        Returns:\n",
    "            float -- result\n",
    "        \"\"\"\n",
    "        return self.a * x + self.b\n",
    "    \n",
    "    @property\n",
    "    def derivative(self):\n",
    "        return self.a"
   ]
  },
  {
   "cell_type": "code",
   "execution_count": null,
   "metadata": {},
   "outputs": [],
   "source": [
    "f = Linear(10, -4)\n",
    "f(0)"
   ]
  },
  {
   "cell_type": "code",
   "execution_count": null,
   "metadata": {},
   "outputs": [],
   "source": [
    "f.derivative"
   ]
  },
  {
   "cell_type": "markdown",
   "metadata": {},
   "source": [
    "## `Date`"
   ]
  },
  {
   "cell_type": "code",
   "execution_count": null,
   "metadata": {},
   "outputs": [],
   "source": [
    "class Date:\n",
    "    def __init__(self, day=0, month=0, year=0):\n",
    "        self.year = year\n",
    "        self.month = month\n",
    "        self.day = day\n",
    "        \n",
    "    def __repr__(self):\n",
    "        return f\"{self.year}-{self.month:02}-{self.day:02}\"\n",
    "\n",
    "    @classmethod\n",
    "    def from_string(cls, date_as_string, sep='-'):\n",
    "        year, month, day = map(int, date_as_string.split(sep))\n",
    "        new_date = cls(day, month, year)\n",
    "        return new_date\n",
    "\n",
    "    @staticmethod\n",
    "    def is_valid(date_as_string, sep='-'):\n",
    "        year, month, day = map(int, date_as_string.split(sep))\n",
    "        return day <= 31 and month <= 12 and year <= 3999"
   ]
  },
  {
   "cell_type": "code",
   "execution_count": null,
   "metadata": {},
   "outputs": [],
   "source": [
    "Date.from_string('2018-02-03')"
   ]
  },
  {
   "cell_type": "code",
   "execution_count": null,
   "metadata": {},
   "outputs": [],
   "source": [
    "Date.is_valid('1999/12/30', sep='/')"
   ]
  },
  {
   "cell_type": "code",
   "execution_count": null,
   "metadata": {},
   "outputs": [],
   "source": [
    "Date.is_valid('1999/12/32', sep='/')"
   ]
  },
  {
   "cell_type": "markdown",
   "metadata": {},
   "source": [
    "## `Shark` to `Module`"
   ]
  },
  {
   "cell_type": "code",
   "execution_count": null,
   "metadata": {},
   "outputs": [],
   "source": [
    "class Shark:\n",
    "\n",
    "    # Class variables\n",
    "    animal_type = \"fish\"\n",
    "    location = \"ocean\"\n",
    "\n",
    "    # Constructor method with instance variables name and age\n",
    "    def __init__(self, name, age):\n",
    "        self.name = name\n",
    "        self.age = age\n",
    "\n",
    "    # Method with instance variable followers\n",
    "    def set_followers(self, followers):\n",
    "        print(\"This user has \" + str(followers) + \" followers\")\n",
    "\n",
    "\n",
    "def main():\n",
    "    # First object, set up instance variables of constructor method\n",
    "    sammy = Shark(\"Sammy\", 5)\n",
    "\n",
    "    # Print out instance variable name\n",
    "    print(sammy.name)\n",
    "\n",
    "    # Print out class variable location\n",
    "    print(sammy.location)\n",
    "\n",
    "    # Second object\n",
    "    stevie = Shark(\"Stevie\", 8)\n",
    "\n",
    "    # Print out instance variable name\n",
    "    print(stevie.name)\n",
    "\n",
    "    # Use set_followers method and pass followers instance variable\n",
    "    stevie.set_followers(77)\n",
    "\n",
    "    # Print out class variable animal_type\n",
    "    print(stevie.animal_type)\n",
    "\n",
    "if __name__ == \"__main__\":\n",
    "    main()"
   ]
  }
 ],
 "metadata": {
  "kernelspec": {
   "display_name": "Python 3",
   "language": "python",
   "name": "python3"
  },
  "language_info": {
   "codemirror_mode": {
    "name": "ipython",
    "version": 3
   },
   "file_extension": ".py",
   "mimetype": "text/x-python",
   "name": "python",
   "nbconvert_exporter": "python",
   "pygments_lexer": "ipython3",
   "version": "3.7.2"
  }
 },
 "nbformat": 4,
 "nbformat_minor": 2
}
