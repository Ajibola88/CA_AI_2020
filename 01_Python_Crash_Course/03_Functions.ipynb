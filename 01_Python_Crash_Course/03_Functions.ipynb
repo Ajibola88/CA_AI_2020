{
 "cells": [
  {
   "cell_type": "markdown",
   "metadata": {},
   "source": [
    "# 03. Functions\n",
    "To make Python code more readable and reusable, we can factor it out into blocks of code, known as ***functions***. "
   ]
  },
  {
   "cell_type": "markdown",
   "metadata": {},
   "source": [
    "## Function `def`inition\n",
    "The first line of a function is its definition, marked by the keyword `def`:\n",
    "\n",
    "    def():\n",
    "    \"\"\"\n",
    "    Docstring.\n",
    "    \"\"\"\n",
    "\n",
    "A *docstring*, in triple quotes, describes what the function does. The body of a function is\n",
    "indented one level. To call a function, give the name of the function followed\n",
    "by a set of parentheses."
   ]
  },
  {
   "cell_type": "code",
   "execution_count": 1,
   "metadata": {},
   "outputs": [],
   "source": [
    "def greet_user():\n",
    "    \"\"\"Display a simple greeting.\"\"\"\n",
    "    print(\"Hello!\")"
   ]
  },
  {
   "cell_type": "code",
   "execution_count": 2,
   "metadata": {},
   "outputs": [],
   "source": [
    "??greet_user"
   ]
  },
  {
   "cell_type": "code",
   "execution_count": 3,
   "metadata": {},
   "outputs": [
    {
     "name": "stdout",
     "output_type": "stream",
     "text": [
      "Hello!\n"
     ]
    }
   ],
   "source": [
    "greet_user()"
   ]
  },
  {
   "cell_type": "code",
   "execution_count": 4,
   "metadata": {},
   "outputs": [
    {
     "name": "stdout",
     "output_type": "stream",
     "text": [
      "I'm a print function\n"
     ]
    }
   ],
   "source": [
    "print('I\\'m a print function')"
   ]
  },
  {
   "cell_type": "code",
   "execution_count": 5,
   "metadata": {},
   "outputs": [],
   "source": [
    "# ??print"
   ]
  },
  {
   "cell_type": "code",
   "execution_count": 6,
   "metadata": {},
   "outputs": [],
   "source": [
    "def square(x):\n",
    "    \"\"\"\n",
    "    Power X.\n",
    "    \"\"\"\n",
    "    return x ** 2"
   ]
  },
  {
   "cell_type": "code",
   "execution_count": 7,
   "metadata": {},
   "outputs": [
    {
     "data": {
      "text/plain": [
       "16"
      ]
     },
     "execution_count": 7,
     "metadata": {},
     "output_type": "execute_result"
    }
   ],
   "source": [
    "square(4)"
   ]
  },
  {
   "cell_type": "code",
   "execution_count": 8,
   "metadata": {},
   "outputs": [],
   "source": [
    "def square(x: float) -> float:\n",
    "    \"\"\"\n",
    "    Squares the number.\n",
    "\n",
    "    Arguments:\n",
    "        x {float} -- a number\n",
    "\n",
    "    Returns:\n",
    "        float -- the square of the number\n",
    "        \n",
    "    Examples:\n",
    "        >>> square(3)\n",
    "        9\n",
    "        >>> square(2.5)\n",
    "        6.25\n",
    "        >>> square(2.9)\n",
    "        8.41\n",
    "    \"\"\"\n",
    "    return x ** 2"
   ]
  },
  {
   "cell_type": "code",
   "execution_count": 9,
   "metadata": {},
   "outputs": [
    {
     "data": {
      "text/plain": [
       "6.25"
      ]
     },
     "execution_count": 9,
     "metadata": {},
     "output_type": "execute_result"
    }
   ],
   "source": [
    "result = square(2.5)\n",
    "result"
   ]
  },
  {
   "cell_type": "code",
   "execution_count": 10,
   "metadata": {},
   "outputs": [],
   "source": [
    "def name_age_hash(name='Povilas', age=25):\n",
    "    \"\"\"\n",
    "    Takes name and age as parameters and returns\n",
    "    a single integ er value representing their hash\n",
    "    value\n",
    "    \"\"\"\n",
    "    print(hash((name, age)))"
   ]
  },
  {
   "cell_type": "code",
   "execution_count": 11,
   "metadata": {},
   "outputs": [
    {
     "data": {
      "text/plain": [
       "<function __main__.name_age_hash(name='Povilas', age=25)>"
      ]
     },
     "execution_count": 11,
     "metadata": {},
     "output_type": "execute_result"
    }
   ],
   "source": [
    "name_age_hash"
   ]
  },
  {
   "cell_type": "code",
   "execution_count": 12,
   "metadata": {},
   "outputs": [
    {
     "name": "stdout",
     "output_type": "stream",
     "text": [
      "1670490560193514661\n"
     ]
    }
   ],
   "source": [
    "name_age_hash()"
   ]
  },
  {
   "cell_type": "code",
   "execution_count": 13,
   "metadata": {},
   "outputs": [
    {
     "name": "stdout",
     "output_type": "stream",
     "text": [
      "2737897565052200891\n"
     ]
    }
   ],
   "source": [
    "name_age_hash('Jim', age=28)"
   ]
  },
  {
   "cell_type": "code",
   "execution_count": 14,
   "metadata": {},
   "outputs": [
    {
     "name": "stdout",
     "output_type": "stream",
     "text": [
      "-8758266628709140419\n"
     ]
    }
   ],
   "source": [
    "name_age_hash('Bob', age=71)"
   ]
  },
  {
   "cell_type": "code",
   "execution_count": 15,
   "metadata": {},
   "outputs": [],
   "source": [
    "# Note - hash() is not deterministic\n",
    "from crypt import crypt\n",
    "\n",
    "def name_age_hash(name: str, age: int, salt: str = 'Pepper') -> int:\n",
    "    \"\"\"\n",
    "    Takes name and age as parameters and returns\n",
    "    a single integer value representing their hash\n",
    "    value.\n",
    "\n",
    "    Keyword Arguments:\n",
    "        name {str} -- the name of the person (default: {\"Dovydas\"})\n",
    "        age {int} -- the age of the person (default: {29})\n",
    "\n",
    "    Returns:\n",
    "        int -- the hash of the person\n",
    "\n",
    "    Examples:\n",
    "        >>> name_age_hash('Dovydas', 29)\n",
    "        'PeOwFsC3mXIiE'\n",
    "        >>> name_age_hash('Geoffrey', 71)\n",
    "        'PeZpp17pB2ang'\n",
    "        >>> name_age_hash('Dovydas', age=30)\n",
    "        'PeJ0lu1x6sT1o'\n",
    "        >>> name_age_hash('Dovydas', 29, 'Vinted')\n",
    "        'Vi5RSKuXo0qfw'\n",
    "    \"\"\"\n",
    "    return crypt(f\"{name}{age}\", salt=salt)"
   ]
  },
  {
   "cell_type": "code",
   "execution_count": 16,
   "metadata": {},
   "outputs": [
    {
     "data": {
      "text/plain": [
       "<function __main__.name_age_hash(name: str, age: int, salt: str = 'Pepper') -> int>"
      ]
     },
     "execution_count": 16,
     "metadata": {},
     "output_type": "execute_result"
    }
   ],
   "source": [
    "name_age_hash"
   ]
  },
  {
   "cell_type": "code",
   "execution_count": 17,
   "metadata": {},
   "outputs": [
    {
     "ename": "TypeError",
     "evalue": "name_age_hash() missing 2 required positional arguments: 'name' and 'age'",
     "output_type": "error",
     "traceback": [
      "\u001b[0;31m---------------------------------------------------------------------------\u001b[0m",
      "\u001b[0;31mTypeError\u001b[0m                                 Traceback (most recent call last)",
      "\u001b[0;32m<ipython-input-17-95e383d7ab53>\u001b[0m in \u001b[0;36m<module>\u001b[0;34m\u001b[0m\n\u001b[0;32m----> 1\u001b[0;31m \u001b[0mname_age_hash\u001b[0m\u001b[0;34m(\u001b[0m\u001b[0;34m)\u001b[0m\u001b[0;34m\u001b[0m\u001b[0;34m\u001b[0m\u001b[0m\n\u001b[0m",
      "\u001b[0;31mTypeError\u001b[0m: name_age_hash() missing 2 required positional arguments: 'name' and 'age'"
     ]
    }
   ],
   "source": [
    "name_age_hash()"
   ]
  },
  {
   "cell_type": "code",
   "execution_count": 18,
   "metadata": {},
   "outputs": [
    {
     "data": {
      "text/plain": [
       "'PeV6y0g255SA.'"
      ]
     },
     "execution_count": 18,
     "metadata": {},
     "output_type": "execute_result"
    }
   ],
   "source": [
    "name_age_hash('Jim', age=28)"
   ]
  },
  {
   "cell_type": "code",
   "execution_count": 19,
   "metadata": {},
   "outputs": [
    {
     "data": {
      "text/plain": [
       "'PeyiqHz1nsnuw'"
      ]
     },
     "execution_count": 19,
     "metadata": {},
     "output_type": "execute_result"
    }
   ],
   "source": [
    "name_age_hash('Bob', age=71)"
   ]
  },
  {
   "cell_type": "markdown",
   "metadata": {},
   "source": [
    "### `Exercise 1 - The Enumerate Clone`\n",
    "Create a function named `enumerate2` which behaves like `enumerate`."
   ]
  },
  {
   "cell_type": "code",
   "execution_count": 20,
   "metadata": {},
   "outputs": [],
   "source": [
    "l = ['Cat', 'Dog', 'Mouse']"
   ]
  },
  {
   "cell_type": "code",
   "execution_count": 21,
   "metadata": {},
   "outputs": [],
   "source": [
    "??enumerate"
   ]
  },
  {
   "cell_type": "code",
   "execution_count": 22,
   "metadata": {},
   "outputs": [
    {
     "data": {
      "text/plain": [
       "<enumerate at 0x7f4d581e7090>"
      ]
     },
     "execution_count": 22,
     "metadata": {},
     "output_type": "execute_result"
    }
   ],
   "source": [
    "enumerate(l)"
   ]
  },
  {
   "cell_type": "code",
   "execution_count": 23,
   "metadata": {},
   "outputs": [
    {
     "data": {
      "text/plain": [
       "[(0, 'Cat'), (1, 'Dog'), (2, 'Mouse')]"
      ]
     },
     "execution_count": 23,
     "metadata": {},
     "output_type": "execute_result"
    }
   ],
   "source": [
    "list(enumerate(l))"
   ]
  },
  {
   "cell_type": "code",
   "execution_count": 24,
   "metadata": {},
   "outputs": [
    {
     "data": {
      "text/plain": [
       "<zip at 0x7f4d5823c8c8>"
      ]
     },
     "execution_count": 24,
     "metadata": {},
     "output_type": "execute_result"
    }
   ],
   "source": [
    "from typing import Iterable\n",
    "\n",
    "def enumerate2(iterable: Iterable) -> Iterable:\n",
    "    \"\"\"\n",
    "    enumerate clone\n",
    "\n",
    "    Arguments:\n",
    "        iterable {Iterable} -- any iterable\n",
    "\n",
    "    Returns:\n",
    "        Iterable -- a result iterable\n",
    "        \n",
    "    Examples:\n",
    "        >>> list(enumerate2([1, 2, 3]))\n",
    "        [(0, 1), (1, 2), (2, 3)]\n",
    "    \"\"\"\n",
    "    return zip(range(len(iterable)), iterable)\n",
    "\n",
    "enumerate2(l)"
   ]
  },
  {
   "cell_type": "code",
   "execution_count": 25,
   "metadata": {},
   "outputs": [
    {
     "data": {
      "text/plain": [
       "[(0, 'Cat'), (1, 'Dog'), (2, 'Mouse')]"
      ]
     },
     "execution_count": 25,
     "metadata": {},
     "output_type": "execute_result"
    }
   ],
   "source": [
    "list(enumerate2(l))"
   ]
  },
  {
   "cell_type": "code",
   "execution_count": 26,
   "metadata": {},
   "outputs": [],
   "source": [
    "for data in [[1, 2, 3], 'some string', ('hi', 10, {1, 2})]:\n",
    "    assert list(enumerate(data)) == list(enumerate2(data))"
   ]
  },
  {
   "cell_type": "markdown",
   "metadata": {},
   "source": [
    "### `Exercise 2 - Generator of a Generator`\n",
    "Create a function which takes a string as a parameter and returns a list and a generator inside another list, e.g.:\n",
    "\n",
    "Input string:\n",
    "\n",
    "    'Hi'\n",
    "\n",
    "    [['H', 'i'], <generator object at ...>]"
   ]
  },
  {
   "cell_type": "code",
   "execution_count": 27,
   "metadata": {},
   "outputs": [
    {
     "data": {
      "text/plain": [
       "[['H', 'i'],\n",
       " <generator object string_to_list_and_generator.<locals>.<genexpr> at 0x7f4d581d3750>]"
      ]
     },
     "execution_count": 27,
     "metadata": {},
     "output_type": "execute_result"
    }
   ],
   "source": [
    "def string_to_list_and_generator(s):\n",
    "    return [list(s), (x for x in s)]\n",
    "\n",
    "string_to_list_and_generator('Hi')"
   ]
  },
  {
   "cell_type": "markdown",
   "metadata": {},
   "source": [
    "## Function Defaults"
   ]
  },
  {
   "cell_type": "code",
   "execution_count": 28,
   "metadata": {},
   "outputs": [],
   "source": [
    "from typing import List\n",
    "\n",
    "def dangerous_defaults(n: int, data:list=[]) -> List[float]:\n",
    "    for i in range(n):\n",
    "        data.append(i)\n",
    "    return data"
   ]
  },
  {
   "cell_type": "code",
   "execution_count": 29,
   "metadata": {},
   "outputs": [
    {
     "data": {
      "text/plain": [
       "[0, 1, 2, 3, 4]"
      ]
     },
     "execution_count": 29,
     "metadata": {},
     "output_type": "execute_result"
    }
   ],
   "source": [
    "dangerous_defaults(5)"
   ]
  },
  {
   "cell_type": "code",
   "execution_count": 30,
   "metadata": {},
   "outputs": [
    {
     "data": {
      "text/plain": [
       "[0, 1, 2, 3, 4, 0, 1, 2, 3, 4]"
      ]
     },
     "execution_count": 30,
     "metadata": {},
     "output_type": "execute_result"
    }
   ],
   "source": [
    "dangerous_defaults(5)"
   ]
  },
  {
   "cell_type": "code",
   "execution_count": 31,
   "metadata": {},
   "outputs": [
    {
     "data": {
      "text/plain": [
       "([0, 1, 2, 3, 4, 0, 1, 2, 3, 4, 0, 1, 2, 3, 4, 0, 1, 2, 3, 4],\n",
       " [0, 1, 2, 3, 4, 0, 1, 2, 3, 4, 0, 1, 2, 3, 4, 0, 1, 2, 3, 4])"
      ]
     },
     "execution_count": 31,
     "metadata": {},
     "output_type": "execute_result"
    }
   ],
   "source": [
    "dangerous_defaults(5), dangerous_defaults(5)"
   ]
  },
  {
   "cell_type": "markdown",
   "metadata": {},
   "source": [
    "### `Exercise 3 - Fixing Dangerous Defaults`\n",
    "Fix the function above to avoid the described error."
   ]
  },
  {
   "cell_type": "code",
   "execution_count": 32,
   "metadata": {},
   "outputs": [
    {
     "data": {
      "text/plain": [
       "[0, 1, 2, 3, 4]"
      ]
     },
     "execution_count": 32,
     "metadata": {},
     "output_type": "execute_result"
    }
   ],
   "source": [
    "from typing import List, Union\n",
    "\n",
    "def dangerous_defaults(n: int, data:list=None) -> List[float]:\n",
    "    if data is None:\n",
    "        data = []\n",
    "    for i in range(n):\n",
    "        data.append(i)\n",
    "    return data\n",
    "dangerous_defaults(5)"
   ]
  },
  {
   "cell_type": "markdown",
   "metadata": {},
   "source": [
    "## Multi Output Functions\n",
    "In Python, it is possible to return multiple outputs using a single function. \n",
    "\n",
    "**JK**, all functions have just a single output (but it may consist of multiple variables | values)"
   ]
  },
  {
   "cell_type": "code",
   "execution_count": 33,
   "metadata": {},
   "outputs": [
    {
     "data": {
      "text/plain": [
       "(2.5, 244140625, 25)"
      ]
     },
     "execution_count": 33,
     "metadata": {},
     "output_type": "execute_result"
    }
   ],
   "source": [
    "number = 5\n",
    "def multi_output_fun(number):\n",
    "    \n",
    "    return number/2, number**12, number*5\n",
    "\n",
    "multi_output_fun(number)"
   ]
  },
  {
   "cell_type": "code",
   "execution_count": 34,
   "metadata": {},
   "outputs": [],
   "source": [
    "def multi_output_fun(data):\n",
    "    keys, values = zip(*data)\n",
    "    return keys, values"
   ]
  },
  {
   "cell_type": "code",
   "execution_count": 35,
   "metadata": {},
   "outputs": [
    {
     "data": {
      "text/plain": [
       "(('name', 'house', 'wolf'), ('Jon', 'Snow', 'Ghost'))"
      ]
     },
     "execution_count": 35,
     "metadata": {},
     "output_type": "execute_result"
    }
   ],
   "source": [
    "multi_output_fun([('name', 'Jon'), ('house', 'Snow'), ('wolf', 'Ghost')])"
   ]
  },
  {
   "cell_type": "markdown",
   "metadata": {},
   "source": [
    "### `Exercise 4 - Multi Average Fun(ction)`\n",
    "Create a `moving_averages` function which takes a list of integers `list_of_ints` as input and returns 3 different moving averages for the input list elements. \n",
    "- Average  3 = mean(`i-1`, `i-1`, `i`) for each `i`.\n",
    "- Average  7 = .....................................\n",
    "- Average 15 = .....................................\n",
    "\n",
    "`Hint` It may be helpful to firstly define a function that takes an integer list as input and returns a single moving average, and later call it three times using a more general parent function. E.g:\n",
    "\n",
    "Input: \n",
    "\n",
    "    [41, 30, 25, 68] - List of integers \n",
    "    N = 3            - Window size for calculating the averages\n",
    "    \n",
    "Output:\n",
    "\n",
    "    List of integers (the moving average for each of the list entries)"
   ]
  },
  {
   "cell_type": "code",
   "execution_count": 60,
   "metadata": {},
   "outputs": [],
   "source": [
    "def moving_average(list_of_integers, N):\n",
    "    \n",
    "    result=[]\n",
    "    for idx, number in enumerate(list_of_integers):\n",
    "        \n",
    "        numbers = list_of_integers[:idx+1]\n",
    "        moving_numbers = numbers[-N:]\n",
    "        moving_mean = round(sum(moving_numbers)/(len(moving_numbers)), 4)\n",
    "        result.append(moving_mean)\n",
    "    \n",
    "    return result"
   ]
  },
  {
   "cell_type": "code",
   "execution_count": 61,
   "metadata": {},
   "outputs": [
    {
     "data": {
      "text/plain": [
       "[10, 15, 30, 40]"
      ]
     },
     "execution_count": 61,
     "metadata": {},
     "output_type": "execute_result"
    }
   ],
   "source": [
    "l = [10, 15, 30, 40]\n",
    "l"
   ]
  },
  {
   "cell_type": "code",
   "execution_count": 62,
   "metadata": {},
   "outputs": [
    {
     "data": {
      "text/plain": [
       "[10.0, 12.5, 18.3333, 28.3333]"
      ]
     },
     "execution_count": 62,
     "metadata": {},
     "output_type": "execute_result"
    }
   ],
   "source": [
    "moving_average(l, 3)"
   ]
  },
  {
   "cell_type": "code",
   "execution_count": 63,
   "metadata": {},
   "outputs": [
    {
     "data": {
      "text/plain": [
       "[10.0, 12.5, 18.3333, 23.75]"
      ]
     },
     "execution_count": 63,
     "metadata": {},
     "output_type": "execute_result"
    }
   ],
   "source": [
    "moving_average(l, 7)"
   ]
  },
  {
   "cell_type": "code",
   "execution_count": 64,
   "metadata": {},
   "outputs": [
    {
     "data": {
      "text/plain": [
       "[10.0, 12.5, 18.3333, 23.75]"
      ]
     },
     "execution_count": 64,
     "metadata": {},
     "output_type": "execute_result"
    }
   ],
   "source": [
    "moving_average(l, 15)"
   ]
  },
  {
   "cell_type": "code",
   "execution_count": 65,
   "metadata": {
    "scrolled": true
   },
   "outputs": [
    {
     "data": {
      "text/plain": [
       "([10.0, 12.5, 18.3333, 28.3333],\n",
       " [10.0, 12.5, 18.3333, 23.75],\n",
       " [10.0, 12.5, 18.3333, 23.75])"
      ]
     },
     "execution_count": 65,
     "metadata": {},
     "output_type": "execute_result"
    }
   ],
   "source": [
    "def multi_moving_averages(list_of_integers):\n",
    "    \n",
    "    moving_7 = moving_average(l, 7)\n",
    "    moving_30 = moving_average(l, 30)\n",
    "    moving_60 = moving_average(l, 60)\n",
    "    return moving_3, moving_7, moving_15\n",
    "\n",
    "multi_moving_averages(l)"
   ]
  },
  {
   "cell_type": "code",
   "execution_count": null,
   "metadata": {},
   "outputs": [],
   "source": []
  },
  {
   "cell_type": "markdown",
   "metadata": {},
   "source": [
    "## Built-in functions\n",
    "Some of the built-ins that I found to be the most useful (for the full list, check [this link](https://docs.python.org/3/library/functions.html)):"
   ]
  },
  {
   "cell_type": "code",
   "execution_count": 66,
   "metadata": {},
   "outputs": [
    {
     "name": "stdout",
     "output_type": "stream",
     "text": [
      "123\n"
     ]
    }
   ],
   "source": [
    "# print\n",
    "print(123)"
   ]
  },
  {
   "cell_type": "code",
   "execution_count": 67,
   "metadata": {},
   "outputs": [
    {
     "data": {
      "text/plain": [
       "(['1', '2', '3'], [1, 2, 3], [1, 2, 3])"
      ]
     },
     "execution_count": 67,
     "metadata": {},
     "output_type": "execute_result"
    }
   ],
   "source": [
    "# list\n",
    "list('123'), list({1, 2, 3}), list({1: 'a', 2: 'b', 3: 'c'})"
   ]
  },
  {
   "cell_type": "code",
   "execution_count": 68,
   "metadata": {},
   "outputs": [
    {
     "data": {
      "text/plain": [
       "[[0, 1, 2, 3],\n",
       " [-10, -9, -8, -7, -6, -5, -4, -3, -2, -1, 0, 1],\n",
       " [20, 17, 14, 11]]"
      ]
     },
     "execution_count": 68,
     "metadata": {},
     "output_type": "execute_result"
    }
   ],
   "source": [
    "# range\n",
    "list(map(list, (range(4), range(-10, 2), range(20, 10, -3))))"
   ]
  },
  {
   "cell_type": "code",
   "execution_count": 69,
   "metadata": {},
   "outputs": [
    {
     "data": {
      "text/plain": [
       "<zip at 0x7f4d581e8988>"
      ]
     },
     "execution_count": 69,
     "metadata": {},
     "output_type": "execute_result"
    }
   ],
   "source": [
    "# zip\n",
    "zip()"
   ]
  },
  {
   "cell_type": "code",
   "execution_count": 70,
   "metadata": {},
   "outputs": [
    {
     "data": {
      "text/plain": [
       "(100, 100, 10.5, 0.5)"
      ]
     },
     "execution_count": 70,
     "metadata": {},
     "output_type": "execute_result"
    }
   ],
   "source": [
    "# abs\n",
    "abs(-100), abs(100), abs(10.5), abs(-0.5)"
   ]
  },
  {
   "cell_type": "code",
   "execution_count": 71,
   "metadata": {},
   "outputs": [
    {
     "data": {
      "text/plain": [
       "(True, True, False, False, False, True)"
      ]
     },
     "execution_count": 71,
     "metadata": {},
     "output_type": "execute_result"
    }
   ],
   "source": [
    "# bool\n",
    "bool(1), bool('123'), bool(''), bool(False), bool([]), bool({'key': 'value'})"
   ]
  },
  {
   "cell_type": "code",
   "execution_count": 72,
   "metadata": {},
   "outputs": [
    {
     "data": {
      "text/plain": [
       "True"
      ]
     },
     "execution_count": 72,
     "metadata": {},
     "output_type": "execute_result"
    }
   ],
   "source": [
    "# all \n",
    "# False values: 0, False, None, '', [], set(), {}, ()\n",
    "all([-1, -2, -3])"
   ]
  },
  {
   "cell_type": "code",
   "execution_count": 73,
   "metadata": {},
   "outputs": [
    {
     "data": {
      "text/plain": [
       "(True, False)"
      ]
     },
     "execution_count": 73,
     "metadata": {},
     "output_type": "execute_result"
    }
   ],
   "source": [
    "# all\n",
    "all([10, '1', True]), all([10, '1', True, False])"
   ]
  },
  {
   "cell_type": "code",
   "execution_count": 74,
   "metadata": {},
   "outputs": [
    {
     "data": {
      "text/plain": [
       "(True, True, False)"
      ]
     },
     "execution_count": 74,
     "metadata": {},
     "output_type": "execute_result"
    }
   ],
   "source": [
    "# any\n",
    "any([10, '1', True]), any([10, '0', True, 1]), any([0, '', False, {}])"
   ]
  },
  {
   "cell_type": "code",
   "execution_count": 75,
   "metadata": {},
   "outputs": [
    {
     "data": {
      "text/plain": [
       "(False, True)"
      ]
     },
     "execution_count": 75,
     "metadata": {},
     "output_type": "execute_result"
    }
   ],
   "source": [
    "# any\n",
    "any([0, False, None, '', [], set(), {}, ()]), any([0, False, None, '', [], set(), {}, (), 1])"
   ]
  },
  {
   "cell_type": "code",
   "execution_count": 76,
   "metadata": {},
   "outputs": [
    {
     "data": {
      "text/plain": [
       "('a', 'z', 'A', 'Z')"
      ]
     },
     "execution_count": 76,
     "metadata": {},
     "output_type": "execute_result"
    }
   ],
   "source": [
    "# chr\n",
    "chr(97), chr(122), chr(65), chr(90)"
   ]
  },
  {
   "cell_type": "code",
   "execution_count": 77,
   "metadata": {},
   "outputs": [
    {
     "data": {
      "text/plain": [
       "(97, 122, 65, 90)"
      ]
     },
     "execution_count": 77,
     "metadata": {},
     "output_type": "execute_result"
    }
   ],
   "source": [
    "ord('a'), ord('z'), ord('A'), ord('Z')"
   ]
  },
  {
   "cell_type": "code",
   "execution_count": 78,
   "metadata": {},
   "outputs": [
    {
     "data": {
      "text/plain": [
       "{0: 'a', 1: 'b', 2: 'c'}"
      ]
     },
     "execution_count": 78,
     "metadata": {},
     "output_type": "execute_result"
    }
   ],
   "source": [
    "# dict\n",
    "dict([(0, 'a'), (1, 'b'), (2, 'c')])"
   ]
  },
  {
   "cell_type": "code",
   "execution_count": 79,
   "metadata": {
    "scrolled": true
   },
   "outputs": [
    {
     "data": {
      "text/plain": [
       "['__add__',\n",
       " '__class__',\n",
       " '__contains__',\n",
       " '__delattr__',\n",
       " '__delitem__',\n",
       " '__dir__',\n",
       " '__doc__',\n",
       " '__eq__',\n",
       " '__format__',\n",
       " '__ge__',\n",
       " '__getattribute__',\n",
       " '__getitem__',\n",
       " '__gt__',\n",
       " '__hash__',\n",
       " '__iadd__',\n",
       " '__imul__',\n",
       " '__init__',\n",
       " '__init_subclass__',\n",
       " '__iter__',\n",
       " '__le__',\n",
       " '__len__',\n",
       " '__lt__',\n",
       " '__mul__',\n",
       " '__ne__',\n",
       " '__new__',\n",
       " '__reduce__',\n",
       " '__reduce_ex__',\n",
       " '__repr__',\n",
       " '__reversed__',\n",
       " '__rmul__',\n",
       " '__setattr__',\n",
       " '__setitem__',\n",
       " '__sizeof__',\n",
       " '__str__',\n",
       " '__subclasshook__',\n",
       " 'append',\n",
       " 'clear',\n",
       " 'copy',\n",
       " 'count',\n",
       " 'extend',\n",
       " 'index',\n",
       " 'insert',\n",
       " 'pop',\n",
       " 'remove',\n",
       " 'reverse',\n",
       " 'sort']"
      ]
     },
     "execution_count": 79,
     "metadata": {},
     "output_type": "execute_result"
    }
   ],
   "source": [
    "# dir\n",
    "dir(list)"
   ]
  },
  {
   "cell_type": "code",
   "execution_count": 80,
   "metadata": {},
   "outputs": [
    {
     "data": {
      "text/plain": [
       "(<enumerate at 0x7f4d5820b2d0>, [(0, 'a'), (1, 'b'), (2, 'c')])"
      ]
     },
     "execution_count": 80,
     "metadata": {},
     "output_type": "execute_result"
    }
   ],
   "source": [
    "# enumerate\n",
    "enumerate('abcd'), list(enumerate('abc'))"
   ]
  },
  {
   "cell_type": "code",
   "execution_count": 81,
   "metadata": {},
   "outputs": [
    {
     "data": {
      "text/plain": [
       "[3, 4, 5]"
      ]
     },
     "execution_count": 81,
     "metadata": {},
     "output_type": "execute_result"
    }
   ],
   "source": [
    "# filter\n",
    "list(filter(lambda x: x > 2, [1, 2, 3, 4, 5]))"
   ]
  },
  {
   "cell_type": "code",
   "execution_count": 82,
   "metadata": {},
   "outputs": [
    {
     "data": {
      "text/plain": [
       "(11.0, 99.0)"
      ]
     },
     "execution_count": 82,
     "metadata": {},
     "output_type": "execute_result"
    }
   ],
   "source": [
    "# float\n",
    "float('11'), float(99)"
   ]
  },
  {
   "cell_type": "code",
   "execution_count": 83,
   "metadata": {},
   "outputs": [
    {
     "name": "stdout",
     "output_type": "stream",
     "text": [
      "Help on built-in function dir in module builtins:\n",
      "\n",
      "dir(...)\n",
      "    dir([object]) -> list of strings\n",
      "    \n",
      "    If called without an argument, return the names in the current scope.\n",
      "    Else, return an alphabetized list of names comprising (some of) the attributes\n",
      "    of the given object, and of attributes reachable from it.\n",
      "    If the object supplies a method named __dir__, it will be used; otherwise\n",
      "    the default dir() logic is used and returns:\n",
      "      for a module object: the module's attributes.\n",
      "      for a class object:  its attributes, and recursively the attributes\n",
      "        of its bases.\n",
      "      for any other object: its attributes, its class's attributes, and\n",
      "        recursively the attributes of its class's base classes.\n",
      "\n"
     ]
    }
   ],
   "source": [
    "# help\n",
    "help(dir)"
   ]
  },
  {
   "cell_type": "code",
   "execution_count": 84,
   "metadata": {},
   "outputs": [
    {
     "name": "stdout",
     "output_type": "stream",
     "text": [
      "What is the secret key?\n"
     ]
    }
   ],
   "source": [
    "# input\n",
    "secret_key = input('What is the secret key?')"
   ]
  },
  {
   "cell_type": "code",
   "execution_count": 85,
   "metadata": {},
   "outputs": [
    {
     "data": {
      "text/plain": [
       "(100, 10, 1)"
      ]
     },
     "execution_count": 85,
     "metadata": {},
     "output_type": "execute_result"
    }
   ],
   "source": [
    "# int\n",
    "int('100'), int(10.5), int(True)"
   ]
  },
  {
   "cell_type": "code",
   "execution_count": 86,
   "metadata": {},
   "outputs": [
    {
     "data": {
      "text/plain": [
       "(1, 2, 3)"
      ]
     },
     "execution_count": 86,
     "metadata": {},
     "output_type": "execute_result"
    }
   ],
   "source": [
    "# iter & next\n",
    "iterator1 = iter([1, 2, 3])\n",
    "next(iterator1), next(iterator1), next(iterator1)"
   ]
  },
  {
   "cell_type": "code",
   "execution_count": 87,
   "metadata": {},
   "outputs": [
    {
     "data": {
      "text/plain": [
       "(20, 3, 1)"
      ]
     },
     "execution_count": 87,
     "metadata": {},
     "output_type": "execute_result"
    }
   ],
   "source": [
    "# len\n",
    "len('A man a plan, Panama'), len([6, 6, 6]), len(set([6, 6, 6]))"
   ]
  },
  {
   "cell_type": "code",
   "execution_count": 88,
   "metadata": {},
   "outputs": [
    {
     "data": {
      "text/plain": [
       "[1, 2, 3]"
      ]
     },
     "execution_count": 88,
     "metadata": {},
     "output_type": "execute_result"
    }
   ],
   "source": [
    "# map\n",
    "list(map(int, list('123')))"
   ]
  },
  {
   "cell_type": "code",
   "execution_count": 89,
   "metadata": {},
   "outputs": [
    {
     "data": {
      "text/plain": [
       "(9, -100)"
      ]
     },
     "execution_count": 89,
     "metadata": {},
     "output_type": "execute_result"
    }
   ],
   "source": [
    "# max & min\n",
    "max([0, 1, 2, 3, 9, -100]), min([0, 1, 2, 3, 9, -100])"
   ]
  },
  {
   "cell_type": "code",
   "execution_count": 90,
   "metadata": {},
   "outputs": [
    {
     "data": {
      "text/plain": [
       "['a', 'b', 'c', 'd']"
      ]
     },
     "execution_count": 90,
     "metadata": {},
     "output_type": "execute_result"
    }
   ],
   "source": [
    "# reversed\n",
    "list(reversed('dcba'))"
   ]
  },
  {
   "cell_type": "code",
   "execution_count": 91,
   "metadata": {},
   "outputs": [
    {
     "data": {
      "text/plain": [
       "{1, 2, 3, 5}"
      ]
     },
     "execution_count": 91,
     "metadata": {},
     "output_type": "execute_result"
    }
   ],
   "source": [
    "# set\n",
    "set([1, 2, 1, 2, 3, 5, 5])"
   ]
  },
  {
   "cell_type": "code",
   "execution_count": 92,
   "metadata": {},
   "outputs": [
    {
     "data": {
      "text/plain": [
       "[1, 7, 8, 9]"
      ]
     },
     "execution_count": 92,
     "metadata": {},
     "output_type": "execute_result"
    }
   ],
   "source": [
    "# sorted\n",
    "sorted([1, 9, 8, 7])"
   ]
  },
  {
   "cell_type": "code",
   "execution_count": 93,
   "metadata": {},
   "outputs": [
    {
     "data": {
      "text/plain": [
       "('123', '[1, 2, 3]')"
      ]
     },
     "execution_count": 93,
     "metadata": {},
     "output_type": "execute_result"
    }
   ],
   "source": [
    "# str\n",
    "str(123), str([1, 2, 3])"
   ]
  },
  {
   "cell_type": "code",
   "execution_count": 94,
   "metadata": {},
   "outputs": [
    {
     "data": {
      "text/plain": [
       "111"
      ]
     },
     "execution_count": 94,
     "metadata": {},
     "output_type": "execute_result"
    }
   ],
   "source": [
    "# sum\n",
    "sum([100, 10, 1])"
   ]
  },
  {
   "cell_type": "code",
   "execution_count": 95,
   "metadata": {},
   "outputs": [
    {
     "data": {
      "text/plain": [
       "(1, 2, 3)"
      ]
     },
     "execution_count": 95,
     "metadata": {},
     "output_type": "execute_result"
    }
   ],
   "source": [
    "# tuple\n",
    "tuple([1, 2, 3])"
   ]
  },
  {
   "cell_type": "code",
   "execution_count": 96,
   "metadata": {},
   "outputs": [
    {
     "data": {
      "text/plain": [
       "(int, str, bool)"
      ]
     },
     "execution_count": 96,
     "metadata": {},
     "output_type": "execute_result"
    }
   ],
   "source": [
    "# type\n",
    "type(1), type('1'), type(True)"
   ]
  },
  {
   "cell_type": "markdown",
   "metadata": {},
   "source": [
    "### `Exercise 5 - Modularize`\n",
    "Rewrite all of your developed scripts from `Exercises` in `02_Control_Flow_and_Comprehensions.ipynb` as Python functions to create your first Python **module**. Essentially, a module is a `.py` file, containing a bunch of Python definitions and statements that you can access using the `import` statement. E.g., `import utils.py` imports all of the definitions to the current session and they can be accessed using their respective names."
   ]
  },
  {
   "cell_type": "code",
   "execution_count": null,
   "metadata": {},
   "outputs": [],
   "source": []
  },
  {
   "cell_type": "markdown",
   "metadata": {},
   "source": [
    "### `Exercise 6 - Fibonacci`\n",
    "Write a Python function to get the Fibonacci series up to some certain number (n). \n",
    "\n",
    "**N.B.** The Fibonacci Sequence is a series of numbers, where every following number is defined by the sum of the two previous numbers: \n",
    "\n",
    "    0, 1, 1, 2, 3, 5....\n",
    "    \n",
    "Input:\n",
    "\n",
    "    fibonacci(10)\n",
    "    \n",
    "Output:\n",
    "    \n",
    "    [1, 1, 2, 3, 5, 8, 13, 21, 34, 55]"
   ]
  },
  {
   "cell_type": "code",
   "execution_count": null,
   "metadata": {},
   "outputs": [],
   "source": [
    "def fibonacci(n):\n",
    "    result = []\n",
    "    a, b = 0, 1\n",
    "    while len(result) < n:\n",
    "        (a, b) = [b, a + b]\n",
    "        result.append(a)\n",
    "    return result\n",
    "\n",
    "fibonacci(10)"
   ]
  },
  {
   "cell_type": "markdown",
   "metadata": {},
   "source": [
    "### `Exercise 7 - Upper/Lower`\n",
    "Write a Python function that accepts a string and calculates the number of upper case letters and lower case letters it has. E.g.:\n",
    "\n",
    "    Input   :  The quick Brown Fox\n",
    "    N Upper :  3\n",
    "    N Lower :  13\n"
   ]
  },
  {
   "cell_type": "code",
   "execution_count": null,
   "metadata": {},
   "outputs": [],
   "source": [
    "def string_test(s):\n",
    "    d={\"UPPER_CASE\":0, \n",
    "       \"LOWER_CASE\":0}\n",
    "    for c in s:\n",
    "        if c.isupper():\n",
    "            d[\"UPPER_CASE\"]+=1\n",
    "        elif c.islower():\n",
    "            d[\"LOWER_CASE\"]+=1\n",
    "        else:\n",
    "            pass\n",
    "    print (\"Input   : \", s)\n",
    "    print (\"N Upper : \", d[\"UPPER_CASE\"])\n",
    "    print (\"N Lower : \", d[\"LOWER_CASE\"])\n",
    "\n",
    "string_test('The quick Brown Fox')"
   ]
  },
  {
   "cell_type": "markdown",
   "metadata": {},
   "source": [
    "### `Exercise 8 - The Mover`\n",
    "Write a Python function that returns no output bus moves files from one directory to another. Bring a dummy folder with some files to the present working directory to play around (nothing important, for your own good:)).\n",
    "    \n",
    "Inputs:\n",
    "\n",
    "    input_path (string)       - the directory containing the files that have to be movied/copied.\n",
    "    output_path (string)      - the directory to which the files have to be moved.\n",
    "    copy (boolean)            - if `True` (default), keep the original directory intact (otherwise delete it).\n",
    "    \n",
    "Check Python built-in libraries `glob`, `os`, and `shutil` to complete the task:\n",
    "\n",
    "**N.B.** Don't forget that you will have to create the output path before moving the files, possibly recursively if you directory is nested."
   ]
  },
  {
   "cell_type": "code",
   "execution_count": 107,
   "metadata": {},
   "outputs": [],
   "source": [
    "import os\n",
    "from glob import glob\n",
    "import shutil"
   ]
  },
  {
   "cell_type": "code",
   "execution_count": 100,
   "metadata": {},
   "outputs": [],
   "source": [
    "??shutil"
   ]
  },
  {
   "cell_type": "code",
   "execution_count": 101,
   "metadata": {},
   "outputs": [
    {
     "data": {
      "text/plain": [
       "['.ipynb_checkpoints',\n",
       " 'README.md',\n",
       " '04_Generators_and_More_Functions.ipynb',\n",
       " 'data',\n",
       " '03_Functions.ipynb',\n",
       " '02_Control_Flow_and_Comprehensions.ipynb',\n",
       " '01_Introduction_to_Python_and_Jupyter.ipynb']"
      ]
     },
     "execution_count": 101,
     "metadata": {},
     "output_type": "execute_result"
    }
   ],
   "source": [
    "os.listdir()"
   ]
  },
  {
   "cell_type": "code",
   "execution_count": 118,
   "metadata": {},
   "outputs": [
    {
     "data": {
      "text/plain": [
       "'/home/ondes/Desktop/CA_AI_2020/01_Python_Crash_Course'"
      ]
     },
     "execution_count": 118,
     "metadata": {},
     "output_type": "execute_result"
    }
   ],
   "source": [
    "os.getcwd()"
   ]
  },
  {
   "cell_type": "code",
   "execution_count": 114,
   "metadata": {},
   "outputs": [
    {
     "data": {
      "text/plain": [
       "['data/clinton_trump_corpus/Trump/Trump_2016-09-12-A.txt',\n",
       " 'data/clinton_trump_corpus/Trump/Trump_2016-09-01-A.txt',\n",
       " 'data/clinton_trump_corpus/Trump/Trump_2016-07-25.txt',\n",
       " 'data/clinton_trump_corpus/Trump/Trump_2016-10-06.txt',\n",
       " 'data/clinton_trump_corpus/Trump/Trump_2016-07-22.txt',\n",
       " 'data/clinton_trump_corpus/Trump/Trump_2016-08-05.txt',\n",
       " 'data/clinton_trump_corpus/Trump/Trump_2016-08-12-B.txt',\n",
       " 'data/clinton_trump_corpus/Trump/Trump_2016-10-18.txt',\n",
       " 'data/clinton_trump_corpus/Trump/Trump_2016-10-10-B.txt',\n",
       " 'data/clinton_trump_corpus/Trump/Trump_2016-08-02.txt',\n",
       " 'data/clinton_trump_corpus/Trump/Trump_2016-08-24-B.txt',\n",
       " 'data/clinton_trump_corpus/Trump/Trump_2016-10-13.txt',\n",
       " 'data/clinton_trump_corpus/Trump/Trump_2016-11-07-C.txt',\n",
       " 'data/clinton_trump_corpus/Trump/Trump_2016-08-15.txt',\n",
       " 'data/clinton_trump_corpus/Trump/Trump_2016-08-18.txt',\n",
       " 'data/clinton_trump_corpus/Trump/Trump_2016-11-04-A.txt',\n",
       " 'data/clinton_trump_corpus/Trump/Trump_2016-09-30.txt',\n",
       " 'data/clinton_trump_corpus/Trump/Trump_2016-10-11.txt',\n",
       " 'data/clinton_trump_corpus/Trump/Trump_2016-07-27-B.txt',\n",
       " 'data/clinton_trump_corpus/Trump/Trump_2016-08-25.txt',\n",
       " 'data/clinton_trump_corpus/Trump/Trump_2016-09-13.txt',\n",
       " 'data/clinton_trump_corpus/Trump/Trump_2016-10-21-B.txt',\n",
       " 'data/clinton_trump_corpus/Trump/Trump_2016-09-09-B.txt',\n",
       " 'data/clinton_trump_corpus/Trump/Trump_2016-11-07-B.txt',\n",
       " 'data/clinton_trump_corpus/Trump/Trump_2016-09-06-B.txt',\n",
       " 'data/clinton_trump_corpus/Trump/Trump_2016-09-07-A.txt',\n",
       " 'data/clinton_trump_corpus/Trump/Trump_2016-09-08.txt',\n",
       " 'data/clinton_trump_corpus/Trump/Trump_2016-10-14-B.txt',\n",
       " 'data/clinton_trump_corpus/Trump/Trump_2016-10-14-A.txt',\n",
       " 'data/clinton_trump_corpus/Trump/Trump_2016-10-28.txt',\n",
       " 'data/clinton_trump_corpus/Trump/Trump_2016-10-12.txt',\n",
       " 'data/clinton_trump_corpus/Trump/Trump_2016-09-09.txt',\n",
       " 'data/clinton_trump_corpus/Trump/Trump_2016-11-04-B.txt',\n",
       " 'data/clinton_trump_corpus/Trump/Trump_2016-10-31.txt',\n",
       " 'data/clinton_trump_corpus/Trump/Trump_2016-08-31.txt',\n",
       " 'data/clinton_trump_corpus/Trump/Trump_2016-08-16.txt',\n",
       " 'data/clinton_trump_corpus/Trump/Trump_2016-10-17.txt',\n",
       " 'data/clinton_trump_corpus/Trump/Trump_2016-09-12-B.txt',\n",
       " 'data/clinton_trump_corpus/Trump/Trump_2016-11-02-B.txt',\n",
       " 'data/clinton_trump_corpus/Trump/Trump_2016-11-03-A.txt',\n",
       " 'data/clinton_trump_corpus/Trump/Trump_2016-08-24-A.txt',\n",
       " 'data/clinton_trump_corpus/Trump/Trump_2016-10-05.txt',\n",
       " 'data/clinton_trump_corpus/Trump/Trump_2016-07-26.txt',\n",
       " 'data/clinton_trump_corpus/Trump/Trump_2016-09-29.txt',\n",
       " 'data/clinton_trump_corpus/Trump/Trump_2016-09-01-B.txt',\n",
       " 'data/clinton_trump_corpus/Trump/Trump_2016-11-02-C.txt',\n",
       " 'data/clinton_trump_corpus/Trump/Trump_2016-10-10-A.txt',\n",
       " 'data/clinton_trump_corpus/Trump/Trump_2016-10-27.txt',\n",
       " 'data/clinton_trump_corpus/Trump/Trump_2016-08-01.txt',\n",
       " 'data/clinton_trump_corpus/Trump/Trump_2016-11-01-B.txt',\n",
       " 'data/clinton_trump_corpus/Trump/Trump_2016-09-09-A.txt',\n",
       " 'data/clinton_trump_corpus/Trump/Trump_2016-08-04.txt',\n",
       " 'data/clinton_trump_corpus/Trump/Trump_2016-11-04-C.txt',\n",
       " 'data/clinton_trump_corpus/Trump/Trump_2016-10-03-A.txt',\n",
       " 'data/clinton_trump_corpus/Trump/Trump_2016-09-07-B.txt',\n",
       " 'data/clinton_trump_corpus/Trump/Trump_2016-08-12-A.txt',\n",
       " 'data/clinton_trump_corpus/Trump/Trump_2016-08-08.txt',\n",
       " 'data/clinton_trump_corpus/Trump/Trump_2016-11-07-A.txt',\n",
       " 'data/clinton_trump_corpus/Trump/Trump_2016-08-30.txt',\n",
       " 'data/clinton_trump_corpus/Trump/Trump_2016-11-09.txt',\n",
       " 'data/clinton_trump_corpus/Trump/Trump_2016-09-06-A.txt',\n",
       " 'data/clinton_trump_corpus/Trump/Trump_2016-08-17.txt',\n",
       " 'data/clinton_trump_corpus/Trump/Trump_2016-11-06.txt',\n",
       " 'data/clinton_trump_corpus/Trump/Trump_2016-11-02-A.txt',\n",
       " 'data/clinton_trump_corpus/Trump/Trump_2016-09-13-A.txt',\n",
       " 'data/clinton_trump_corpus/Trump/Trump_2016-09-13-B.txt',\n",
       " 'data/clinton_trump_corpus/Trump/Trump_2016-08-22.txt',\n",
       " 'data/clinton_trump_corpus/Trump/Trump_2016-11-05-A.txt',\n",
       " 'data/clinton_trump_corpus/Trump/Trump_2016-10-03-B.txt',\n",
       " 'data/clinton_trump_corpus/Trump/Trump_2016-08-19.txt',\n",
       " 'data/clinton_trump_corpus/Trump/Trump_2016-10-21-A.txt',\n",
       " 'data/clinton_trump_corpus/Trump/Trump_2016-11-03-B.txt',\n",
       " 'data/clinton_trump_corpus/Trump/Trump_2016-11-07-D.txt',\n",
       " 'data/clinton_trump_corpus/Trump/Trump_2016-09-17.txt',\n",
       " 'data/clinton_trump_corpus/Trump/Trump_2016-08-10.txt',\n",
       " 'data/clinton_trump_corpus/Trump/Trump_2016-07-27-A.txt',\n",
       " 'data/clinton_trump_corpus/Trump/Trump_2016-11-05-B.txt',\n",
       " 'data/clinton_trump_corpus/Trump/Trump_2016-11-08.txt',\n",
       " 'data/clinton_trump_corpus/Trump/Trump_2016-10-21-C.txt',\n",
       " 'data/clinton_trump_corpus/Trump/Trump_2016-11-01-A.txt',\n",
       " 'data/clinton_trump_corpus/Trump/Trump_2016-09-16.txt',\n",
       " 'data/clinton_trump_corpus/Trump/Trump_2016-08-23.txt',\n",
       " 'data/clinton_trump_corpus/Clinton/Clinton_2016-11-06-B.txt',\n",
       " 'data/clinton_trump_corpus/Clinton/Clinton_2016-11-07-C.txt',\n",
       " 'data/clinton_trump_corpus/Clinton/Clinton_2016-08-25.txt',\n",
       " 'data/clinton_trump_corpus/Clinton/Clinton_2016-10-31-B.txt',\n",
       " 'data/clinton_trump_corpus/Clinton/Clinton_2016-08-11.txt',\n",
       " 'data/clinton_trump_corpus/Clinton/Clinton_2016-09-05-A.txt',\n",
       " 'data/clinton_trump_corpus/Clinton/Clinton_2016-08-01.txt',\n",
       " 'data/clinton_trump_corpus/Clinton/Clinton_2016-09-06.txt',\n",
       " 'data/clinton_trump_corpus/Clinton/Clinton_2016-11-05.txt',\n",
       " 'data/clinton_trump_corpus/Clinton/Clinton_2016-09-05-B.txt',\n",
       " 'data/clinton_trump_corpus/Clinton/Clinton_2016-11-09.txt',\n",
       " 'data/clinton_trump_corpus/Clinton/Clinton_2016-08-16.txt',\n",
       " 'data/clinton_trump_corpus/Clinton/Clinton_2016-07-28.txt',\n",
       " 'data/clinton_trump_corpus/Clinton/Clinton_2016-10-03.txt',\n",
       " 'data/clinton_trump_corpus/Clinton/Clinton_2016-11-08.txt',\n",
       " 'data/clinton_trump_corpus/Clinton/Clinton_2016-11-07-B.txt',\n",
       " 'data/clinton_trump_corpus/Clinton/Clinton_2016-09-29.txt',\n",
       " 'data/clinton_trump_corpus/Clinton/Clinton_2016-07-29.txt',\n",
       " 'data/clinton_trump_corpus/Clinton/Clinton_2016-08-15.txt',\n",
       " 'data/clinton_trump_corpus/Clinton/Clinton_2016-11-01-B.txt',\n",
       " 'data/clinton_trump_corpus/Clinton/Clinton_2016-08-05.txt',\n",
       " 'data/clinton_trump_corpus/Clinton/Clinton_2016-10-31-A.txt',\n",
       " 'data/clinton_trump_corpus/Clinton/Clinton_2016-11-07-A.txt',\n",
       " 'data/clinton_trump_corpus/Clinton/Clinton_2016-11-04-B.txt',\n",
       " 'data/clinton_trump_corpus/Clinton/Clinton_2016-10-24.txt',\n",
       " 'data/clinton_trump_corpus/Clinton/Clinton_2016-10-26.txt',\n",
       " 'data/clinton_trump_corpus/Clinton/Clinton_2016-11-04-A.txt',\n",
       " 'data/clinton_trump_corpus/Clinton/Clinton_2016-11-06-A.txt',\n",
       " 'data/clinton_trump_corpus/Clinton/Clinton_2016-09-08-A.txt',\n",
       " 'data/clinton_trump_corpus/Clinton/Clinton_2016-08-17.txt',\n",
       " 'data/clinton_trump_corpus/Clinton/Clinton_2016-09-08-C.txt',\n",
       " 'data/clinton_trump_corpus/Clinton/Clinton_2016-09-30.txt',\n",
       " 'data/clinton_trump_corpus/Clinton/Clinton_2016-09-08-B.txt',\n",
       " 'data/clinton_trump_corpus/Clinton/Clinton_2016-08-10.txt',\n",
       " 'data/clinton_trump_corpus/Clinton/Clinton_2016-11-01-A.txt',\n",
       " 'data/clinton_trump_corpus/Clinton/Clinton_2016-08-31.txt']"
      ]
     },
     "execution_count": 114,
     "metadata": {},
     "output_type": "execute_result"
    }
   ],
   "source": [
    "glob('data/*/*/*')"
   ]
  },
  {
   "cell_type": "code",
   "execution_count": 124,
   "metadata": {},
   "outputs": [
    {
     "data": {
      "text/plain": [
       "['data/clinton_trump_corpus/Trump/Trump_2016-09-12-A.txt',\n",
       " 'data/clinton_trump_corpus/Trump/Trump_2016-09-01-A.txt',\n",
       " 'data/clinton_trump_corpus/Trump/Trump_2016-07-25.txt',\n",
       " 'data/clinton_trump_corpus/Trump/Trump_2016-10-06.txt',\n",
       " 'data/clinton_trump_corpus/Trump/Trump_2016-07-22.txt',\n",
       " 'data/clinton_trump_corpus/Trump/Trump_2016-08-05.txt',\n",
       " 'data/clinton_trump_corpus/Trump/Trump_2016-08-12-B.txt',\n",
       " 'data/clinton_trump_corpus/Trump/Trump_2016-10-18.txt',\n",
       " 'data/clinton_trump_corpus/Trump/Trump_2016-10-10-B.txt',\n",
       " 'data/clinton_trump_corpus/Trump/Trump_2016-08-02.txt',\n",
       " 'data/clinton_trump_corpus/Trump/Trump_2016-08-24-B.txt',\n",
       " 'data/clinton_trump_corpus/Trump/Trump_2016-10-13.txt',\n",
       " 'data/clinton_trump_corpus/Trump/Trump_2016-11-07-C.txt',\n",
       " 'data/clinton_trump_corpus/Trump/Trump_2016-08-15.txt',\n",
       " 'data/clinton_trump_corpus/Trump/Trump_2016-08-18.txt',\n",
       " 'data/clinton_trump_corpus/Trump/Trump_2016-11-04-A.txt',\n",
       " 'data/clinton_trump_corpus/Trump/Trump_2016-09-30.txt',\n",
       " 'data/clinton_trump_corpus/Trump/Trump_2016-10-11.txt',\n",
       " 'data/clinton_trump_corpus/Trump/Trump_2016-07-27-B.txt',\n",
       " 'data/clinton_trump_corpus/Trump/Trump_2016-08-25.txt',\n",
       " 'data/clinton_trump_corpus/Trump/Trump_2016-09-13.txt',\n",
       " 'data/clinton_trump_corpus/Trump/Trump_2016-10-21-B.txt',\n",
       " 'data/clinton_trump_corpus/Trump/Trump_2016-09-09-B.txt',\n",
       " 'data/clinton_trump_corpus/Trump/Trump_2016-11-07-B.txt',\n",
       " 'data/clinton_trump_corpus/Trump/Trump_2016-09-06-B.txt',\n",
       " 'data/clinton_trump_corpus/Trump/Trump_2016-09-07-A.txt',\n",
       " 'data/clinton_trump_corpus/Trump/Trump_2016-09-08.txt',\n",
       " 'data/clinton_trump_corpus/Trump/Trump_2016-10-14-B.txt',\n",
       " 'data/clinton_trump_corpus/Trump/Trump_2016-10-14-A.txt',\n",
       " 'data/clinton_trump_corpus/Trump/Trump_2016-10-28.txt',\n",
       " 'data/clinton_trump_corpus/Trump/Trump_2016-10-12.txt',\n",
       " 'data/clinton_trump_corpus/Trump/Trump_2016-09-09.txt',\n",
       " 'data/clinton_trump_corpus/Trump/Trump_2016-11-04-B.txt',\n",
       " 'data/clinton_trump_corpus/Trump/Trump_2016-10-31.txt',\n",
       " 'data/clinton_trump_corpus/Trump/Trump_2016-08-31.txt',\n",
       " 'data/clinton_trump_corpus/Trump/Trump_2016-08-16.txt',\n",
       " 'data/clinton_trump_corpus/Trump/Trump_2016-10-17.txt',\n",
       " 'data/clinton_trump_corpus/Trump/Trump_2016-09-12-B.txt',\n",
       " 'data/clinton_trump_corpus/Trump/Trump_2016-11-02-B.txt',\n",
       " 'data/clinton_trump_corpus/Trump/Trump_2016-11-03-A.txt',\n",
       " 'data/clinton_trump_corpus/Trump/Trump_2016-08-24-A.txt',\n",
       " 'data/clinton_trump_corpus/Trump/Trump_2016-10-05.txt',\n",
       " 'data/clinton_trump_corpus/Trump/Trump_2016-07-26.txt',\n",
       " 'data/clinton_trump_corpus/Trump/Trump_2016-09-29.txt',\n",
       " 'data/clinton_trump_corpus/Trump/Trump_2016-09-01-B.txt',\n",
       " 'data/clinton_trump_corpus/Trump/Trump_2016-11-02-C.txt',\n",
       " 'data/clinton_trump_corpus/Trump/Trump_2016-10-10-A.txt',\n",
       " 'data/clinton_trump_corpus/Trump/Trump_2016-10-27.txt',\n",
       " 'data/clinton_trump_corpus/Trump/Trump_2016-08-01.txt',\n",
       " 'data/clinton_trump_corpus/Trump/Trump_2016-11-01-B.txt',\n",
       " 'data/clinton_trump_corpus/Trump/Trump_2016-09-09-A.txt',\n",
       " 'data/clinton_trump_corpus/Trump/Trump_2016-08-04.txt',\n",
       " 'data/clinton_trump_corpus/Trump/Trump_2016-11-04-C.txt',\n",
       " 'data/clinton_trump_corpus/Trump/Trump_2016-10-03-A.txt',\n",
       " 'data/clinton_trump_corpus/Trump/Trump_2016-09-07-B.txt',\n",
       " 'data/clinton_trump_corpus/Trump/Trump_2016-08-12-A.txt',\n",
       " 'data/clinton_trump_corpus/Trump/Trump_2016-08-08.txt',\n",
       " 'data/clinton_trump_corpus/Trump/Trump_2016-11-07-A.txt',\n",
       " 'data/clinton_trump_corpus/Trump/Trump_2016-08-30.txt',\n",
       " 'data/clinton_trump_corpus/Trump/Trump_2016-11-09.txt',\n",
       " 'data/clinton_trump_corpus/Trump/Trump_2016-09-06-A.txt',\n",
       " 'data/clinton_trump_corpus/Trump/Trump_2016-08-17.txt',\n",
       " 'data/clinton_trump_corpus/Trump/Trump_2016-11-06.txt',\n",
       " 'data/clinton_trump_corpus/Trump/Trump_2016-11-02-A.txt',\n",
       " 'data/clinton_trump_corpus/Trump/Trump_2016-09-13-A.txt',\n",
       " 'data/clinton_trump_corpus/Trump/Trump_2016-09-13-B.txt',\n",
       " 'data/clinton_trump_corpus/Trump/Trump_2016-08-22.txt',\n",
       " 'data/clinton_trump_corpus/Trump/Trump_2016-11-05-A.txt',\n",
       " 'data/clinton_trump_corpus/Trump/Trump_2016-10-03-B.txt',\n",
       " 'data/clinton_trump_corpus/Trump/Trump_2016-08-19.txt',\n",
       " 'data/clinton_trump_corpus/Trump/Trump_2016-10-21-A.txt',\n",
       " 'data/clinton_trump_corpus/Trump/Trump_2016-11-03-B.txt',\n",
       " 'data/clinton_trump_corpus/Trump/Trump_2016-11-07-D.txt',\n",
       " 'data/clinton_trump_corpus/Trump/Trump_2016-09-17.txt',\n",
       " 'data/clinton_trump_corpus/Trump/Trump_2016-08-10.txt',\n",
       " 'data/clinton_trump_corpus/Trump/Trump_2016-07-27-A.txt',\n",
       " 'data/clinton_trump_corpus/Trump/Trump_2016-11-05-B.txt',\n",
       " 'data/clinton_trump_corpus/Trump/Trump_2016-11-08.txt',\n",
       " 'data/clinton_trump_corpus/Trump/Trump_2016-10-21-C.txt',\n",
       " 'data/clinton_trump_corpus/Trump/Trump_2016-11-01-A.txt',\n",
       " 'data/clinton_trump_corpus/Trump/Trump_2016-09-16.txt',\n",
       " 'data/clinton_trump_corpus/Trump/Trump_2016-08-23.txt',\n",
       " 'data/clinton_trump_corpus/Clinton/Clinton_2016-11-06-B.txt',\n",
       " 'data/clinton_trump_corpus/Clinton/Clinton_2016-11-07-C.txt',\n",
       " 'data/clinton_trump_corpus/Clinton/Clinton_2016-08-25.txt',\n",
       " 'data/clinton_trump_corpus/Clinton/Clinton_2016-10-31-B.txt',\n",
       " 'data/clinton_trump_corpus/Clinton/Clinton_2016-08-11.txt',\n",
       " 'data/clinton_trump_corpus/Clinton/Clinton_2016-09-05-A.txt',\n",
       " 'data/clinton_trump_corpus/Clinton/Clinton_2016-08-01.txt',\n",
       " 'data/clinton_trump_corpus/Clinton/Clinton_2016-09-06.txt',\n",
       " 'data/clinton_trump_corpus/Clinton/Clinton_2016-11-05.txt',\n",
       " 'data/clinton_trump_corpus/Clinton/Clinton_2016-09-05-B.txt',\n",
       " 'data/clinton_trump_corpus/Clinton/Clinton_2016-11-09.txt',\n",
       " 'data/clinton_trump_corpus/Clinton/Clinton_2016-08-16.txt',\n",
       " 'data/clinton_trump_corpus/Clinton/Clinton_2016-07-28.txt',\n",
       " 'data/clinton_trump_corpus/Clinton/Clinton_2016-10-03.txt',\n",
       " 'data/clinton_trump_corpus/Clinton/Clinton_2016-11-08.txt',\n",
       " 'data/clinton_trump_corpus/Clinton/Clinton_2016-11-07-B.txt',\n",
       " 'data/clinton_trump_corpus/Clinton/Clinton_2016-09-29.txt',\n",
       " 'data/clinton_trump_corpus/Clinton/Clinton_2016-07-29.txt',\n",
       " 'data/clinton_trump_corpus/Clinton/Clinton_2016-08-15.txt',\n",
       " 'data/clinton_trump_corpus/Clinton/Clinton_2016-11-01-B.txt',\n",
       " 'data/clinton_trump_corpus/Clinton/Clinton_2016-08-05.txt',\n",
       " 'data/clinton_trump_corpus/Clinton/Clinton_2016-10-31-A.txt',\n",
       " 'data/clinton_trump_corpus/Clinton/Clinton_2016-11-07-A.txt',\n",
       " 'data/clinton_trump_corpus/Clinton/Clinton_2016-11-04-B.txt',\n",
       " 'data/clinton_trump_corpus/Clinton/Clinton_2016-10-24.txt',\n",
       " 'data/clinton_trump_corpus/Clinton/Clinton_2016-10-26.txt',\n",
       " 'data/clinton_trump_corpus/Clinton/Clinton_2016-11-04-A.txt',\n",
       " 'data/clinton_trump_corpus/Clinton/Clinton_2016-11-06-A.txt',\n",
       " 'data/clinton_trump_corpus/Clinton/Clinton_2016-09-08-A.txt',\n",
       " 'data/clinton_trump_corpus/Clinton/Clinton_2016-08-17.txt',\n",
       " 'data/clinton_trump_corpus/Clinton/Clinton_2016-09-08-C.txt',\n",
       " 'data/clinton_trump_corpus/Clinton/Clinton_2016-09-30.txt',\n",
       " 'data/clinton_trump_corpus/Clinton/Clinton_2016-09-08-B.txt',\n",
       " 'data/clinton_trump_corpus/Clinton/Clinton_2016-08-10.txt',\n",
       " 'data/clinton_trump_corpus/Clinton/Clinton_2016-11-01-A.txt',\n",
       " 'data/clinton_trump_corpus/Clinton/Clinton_2016-08-31.txt']"
      ]
     },
     "execution_count": 124,
     "metadata": {},
     "output_type": "execute_result"
    }
   ],
   "source": [
    "glob('data/clinton_trump_corpus/*/*')"
   ]
  },
  {
   "cell_type": "code",
   "execution_count": null,
   "metadata": {},
   "outputs": [],
   "source": [
    "def mover(inp_path, out_path, copy=True):\n",
    "    if copy:\n",
    "        os.shutil(inp_path, out_path)\n",
    "    else:\n",
    "        os.rename(inp_path, out_path)\n",
    "    \n",
    "mover('data/clinton_trump_corpus/Trump/Trump_2016-09-12-A.txt', 'data/clinton_trump_corpus/Clinton/Trump_2016-09-12-A.txt')"
   ]
  },
  {
   "cell_type": "code",
   "execution_count": null,
   "metadata": {},
   "outputs": [],
   "source": [
    "# Check these functions\n",
    "os.rename()\n",
    "os.remove()\n",
    "os.listdir()\n",
    "shutil.copy()\n",
    "if not os.path.exists():\n",
    "    os.mkdir()"
   ]
  },
  {
   "cell_type": "code",
   "execution_count": null,
   "metadata": {},
   "outputs": [],
   "source": [
    "# YOUR CODE GOES HERE"
   ]
  },
  {
   "cell_type": "markdown",
   "metadata": {},
   "source": [
    "### `Exercise 9 - Reader`\n",
    "Write a Python function `def reader(....)` that reads the contents of a of `.txt` file (use one of the speeches within the `data/clinton_trump_corpus`.\n",
    "   \n",
    "Input:\n",
    "\n",
    "    input_path (string)       - the path to the `.txt` file that will be read.\n",
    "    \n",
    "Output\n",
    "\n",
    "    lines                     - a list of lines (strings) from the `.txt` file."
   ]
  },
  {
   "cell_type": "code",
   "execution_count": null,
   "metadata": {},
   "outputs": [],
   "source": [
    "def reader(in_fn):\n",
    "    \n",
    "    with open(in_fn, 'r') as inputfile:\n",
    "        lines = inputfile.readlines()\n",
    "    return lines\n",
    "    "
   ]
  },
  {
   "cell_type": "markdown",
   "metadata": {},
   "source": [
    "### `Exercise 10 - Multi-Reader`\n",
    "Write a Python function `def multi_reader(...)` that uses **The Reader** in order to get the contents of all text `.txt` files within a directory.\n",
    "   \n",
    "Input:\n",
    "\n",
    "    input_path (string)       - the path to the directory containing a bunch of .txt files. \n",
    "        \n",
    "Output\n",
    "\n",
    "    documents                 - a list of line-lists (for each of the corresponding .txt files)."
   ]
  },
  {
   "cell_type": "code",
   "execution_count": null,
   "metadata": {},
   "outputs": [],
   "source": [
    "def multi_reader(folder_path):\n",
    "    \n",
    "    result=[]\n",
    "    for file in os.listdir(folder_path):\n",
    "        lines = reader(file)\n",
    "        result.append(lines)\n"
   ]
  },
  {
   "cell_type": "markdown",
   "metadata": {},
   "source": [
    "### `Exercise 11 - Stats-Reader`\n",
    "Write a Python function `def stats_reader(...)` that uses **Multi Reader** to get the contents of multiple text files (e.g., a corpus of documents for a single person), and returns a variety of stats about them:\n",
    "\n",
    "Input:\n",
    "\n",
    "    documents         - a list of line-lists (for each of the corresponding .txt files).\n",
    "    \n",
    "Output\n",
    "\n",
    "    word_count        - total amount of words in all of the documents.\n",
    "    vocab_size        - total amount of unique words in all of the documebts.\n",
    "    mean_word_count   - average amount of words per document.\n",
    "    n_lines           - average amount of lines per document.\n",
    "    top_words         - top 50 most common words."
   ]
  },
  {
   "cell_type": "code",
   "execution_count": 126,
   "metadata": {},
   "outputs": [
    {
     "data": {
      "text/plain": [
       "['data/clinton_trump_corpus/Trump/Trump_2016-09-12-A.txt',\n",
       " 'data/clinton_trump_corpus/Trump/Trump_2016-09-01-A.txt',\n",
       " 'data/clinton_trump_corpus/Trump/Trump_2016-07-25.txt',\n",
       " 'data/clinton_trump_corpus/Trump/Trump_2016-10-06.txt',\n",
       " 'data/clinton_trump_corpus/Trump/Trump_2016-07-22.txt',\n",
       " 'data/clinton_trump_corpus/Trump/Trump_2016-08-05.txt',\n",
       " 'data/clinton_trump_corpus/Trump/Trump_2016-08-12-B.txt',\n",
       " 'data/clinton_trump_corpus/Trump/Trump_2016-10-18.txt',\n",
       " 'data/clinton_trump_corpus/Trump/Trump_2016-10-10-B.txt',\n",
       " 'data/clinton_trump_corpus/Trump/Trump_2016-08-02.txt',\n",
       " 'data/clinton_trump_corpus/Trump/Trump_2016-08-24-B.txt',\n",
       " 'data/clinton_trump_corpus/Trump/Trump_2016-10-13.txt',\n",
       " 'data/clinton_trump_corpus/Trump/Trump_2016-11-07-C.txt',\n",
       " 'data/clinton_trump_corpus/Trump/Trump_2016-08-15.txt',\n",
       " 'data/clinton_trump_corpus/Trump/Trump_2016-08-18.txt',\n",
       " 'data/clinton_trump_corpus/Trump/Trump_2016-11-04-A.txt',\n",
       " 'data/clinton_trump_corpus/Trump/Trump_2016-09-30.txt',\n",
       " 'data/clinton_trump_corpus/Trump/Trump_2016-10-11.txt',\n",
       " 'data/clinton_trump_corpus/Trump/Trump_2016-07-27-B.txt',\n",
       " 'data/clinton_trump_corpus/Trump/Trump_2016-08-25.txt',\n",
       " 'data/clinton_trump_corpus/Trump/Trump_2016-09-13.txt',\n",
       " 'data/clinton_trump_corpus/Trump/Trump_2016-10-21-B.txt',\n",
       " 'data/clinton_trump_corpus/Trump/Trump_2016-09-09-B.txt',\n",
       " 'data/clinton_trump_corpus/Trump/Trump_2016-11-07-B.txt',\n",
       " 'data/clinton_trump_corpus/Trump/Trump_2016-09-06-B.txt',\n",
       " 'data/clinton_trump_corpus/Trump/Trump_2016-09-07-A.txt',\n",
       " 'data/clinton_trump_corpus/Trump/Trump_2016-09-08.txt',\n",
       " 'data/clinton_trump_corpus/Trump/Trump_2016-10-14-B.txt',\n",
       " 'data/clinton_trump_corpus/Trump/Trump_2016-10-14-A.txt',\n",
       " 'data/clinton_trump_corpus/Trump/Trump_2016-10-28.txt',\n",
       " 'data/clinton_trump_corpus/Trump/Trump_2016-10-12.txt',\n",
       " 'data/clinton_trump_corpus/Trump/Trump_2016-09-09.txt',\n",
       " 'data/clinton_trump_corpus/Trump/Trump_2016-11-04-B.txt',\n",
       " 'data/clinton_trump_corpus/Trump/Trump_2016-10-31.txt',\n",
       " 'data/clinton_trump_corpus/Trump/Trump_2016-08-31.txt',\n",
       " 'data/clinton_trump_corpus/Trump/Trump_2016-08-16.txt',\n",
       " 'data/clinton_trump_corpus/Trump/Trump_2016-10-17.txt',\n",
       " 'data/clinton_trump_corpus/Trump/Trump_2016-09-12-B.txt',\n",
       " 'data/clinton_trump_corpus/Trump/Trump_2016-11-02-B.txt',\n",
       " 'data/clinton_trump_corpus/Trump/Trump_2016-11-03-A.txt',\n",
       " 'data/clinton_trump_corpus/Trump/Trump_2016-08-24-A.txt',\n",
       " 'data/clinton_trump_corpus/Trump/Trump_2016-10-05.txt',\n",
       " 'data/clinton_trump_corpus/Trump/Trump_2016-07-26.txt',\n",
       " 'data/clinton_trump_corpus/Trump/Trump_2016-09-29.txt',\n",
       " 'data/clinton_trump_corpus/Trump/Trump_2016-09-01-B.txt',\n",
       " 'data/clinton_trump_corpus/Trump/Trump_2016-11-02-C.txt',\n",
       " 'data/clinton_trump_corpus/Trump/Trump_2016-10-10-A.txt',\n",
       " 'data/clinton_trump_corpus/Trump/Trump_2016-10-27.txt',\n",
       " 'data/clinton_trump_corpus/Trump/Trump_2016-08-01.txt',\n",
       " 'data/clinton_trump_corpus/Trump/Trump_2016-11-01-B.txt',\n",
       " 'data/clinton_trump_corpus/Trump/Trump_2016-09-09-A.txt',\n",
       " 'data/clinton_trump_corpus/Trump/Trump_2016-08-04.txt',\n",
       " 'data/clinton_trump_corpus/Trump/Trump_2016-11-04-C.txt',\n",
       " 'data/clinton_trump_corpus/Trump/Trump_2016-10-03-A.txt',\n",
       " 'data/clinton_trump_corpus/Trump/Trump_2016-09-07-B.txt',\n",
       " 'data/clinton_trump_corpus/Trump/Trump_2016-08-12-A.txt',\n",
       " 'data/clinton_trump_corpus/Trump/Trump_2016-08-08.txt',\n",
       " 'data/clinton_trump_corpus/Trump/Trump_2016-11-07-A.txt',\n",
       " 'data/clinton_trump_corpus/Trump/Trump_2016-08-30.txt',\n",
       " 'data/clinton_trump_corpus/Trump/Trump_2016-11-09.txt',\n",
       " 'data/clinton_trump_corpus/Trump/Trump_2016-09-06-A.txt',\n",
       " 'data/clinton_trump_corpus/Trump/Trump_2016-08-17.txt',\n",
       " 'data/clinton_trump_corpus/Trump/Trump_2016-11-06.txt',\n",
       " 'data/clinton_trump_corpus/Trump/Trump_2016-11-02-A.txt',\n",
       " 'data/clinton_trump_corpus/Trump/Trump_2016-09-13-A.txt',\n",
       " 'data/clinton_trump_corpus/Trump/Trump_2016-09-13-B.txt',\n",
       " 'data/clinton_trump_corpus/Trump/Trump_2016-08-22.txt',\n",
       " 'data/clinton_trump_corpus/Trump/Trump_2016-11-05-A.txt',\n",
       " 'data/clinton_trump_corpus/Trump/Trump_2016-10-03-B.txt',\n",
       " 'data/clinton_trump_corpus/Trump/Trump_2016-08-19.txt',\n",
       " 'data/clinton_trump_corpus/Trump/Trump_2016-10-21-A.txt',\n",
       " 'data/clinton_trump_corpus/Trump/Trump_2016-11-03-B.txt',\n",
       " 'data/clinton_trump_corpus/Trump/Trump_2016-11-07-D.txt',\n",
       " 'data/clinton_trump_corpus/Trump/Trump_2016-09-17.txt',\n",
       " 'data/clinton_trump_corpus/Trump/Trump_2016-08-10.txt',\n",
       " 'data/clinton_trump_corpus/Trump/Trump_2016-07-27-A.txt',\n",
       " 'data/clinton_trump_corpus/Trump/Trump_2016-11-05-B.txt',\n",
       " 'data/clinton_trump_corpus/Trump/Trump_2016-11-08.txt',\n",
       " 'data/clinton_trump_corpus/Trump/Trump_2016-10-21-C.txt',\n",
       " 'data/clinton_trump_corpus/Trump/Trump_2016-11-01-A.txt',\n",
       " 'data/clinton_trump_corpus/Trump/Trump_2016-09-16.txt',\n",
       " 'data/clinton_trump_corpus/Trump/Trump_2016-08-23.txt',\n",
       " 'data/clinton_trump_corpus/Clinton/Clinton_2016-11-06-B.txt',\n",
       " 'data/clinton_trump_corpus/Clinton/Clinton_2016-11-07-C.txt',\n",
       " 'data/clinton_trump_corpus/Clinton/Clinton_2016-08-25.txt',\n",
       " 'data/clinton_trump_corpus/Clinton/Clinton_2016-10-31-B.txt',\n",
       " 'data/clinton_trump_corpus/Clinton/Clinton_2016-08-11.txt',\n",
       " 'data/clinton_trump_corpus/Clinton/Clinton_2016-09-05-A.txt',\n",
       " 'data/clinton_trump_corpus/Clinton/Clinton_2016-08-01.txt',\n",
       " 'data/clinton_trump_corpus/Clinton/Clinton_2016-09-06.txt',\n",
       " 'data/clinton_trump_corpus/Clinton/Clinton_2016-11-05.txt',\n",
       " 'data/clinton_trump_corpus/Clinton/Clinton_2016-09-05-B.txt',\n",
       " 'data/clinton_trump_corpus/Clinton/Clinton_2016-11-09.txt',\n",
       " 'data/clinton_trump_corpus/Clinton/Clinton_2016-08-16.txt',\n",
       " 'data/clinton_trump_corpus/Clinton/Clinton_2016-07-28.txt',\n",
       " 'data/clinton_trump_corpus/Clinton/Clinton_2016-10-03.txt',\n",
       " 'data/clinton_trump_corpus/Clinton/Clinton_2016-11-08.txt',\n",
       " 'data/clinton_trump_corpus/Clinton/Clinton_2016-11-07-B.txt',\n",
       " 'data/clinton_trump_corpus/Clinton/Clinton_2016-09-29.txt',\n",
       " 'data/clinton_trump_corpus/Clinton/Clinton_2016-07-29.txt',\n",
       " 'data/clinton_trump_corpus/Clinton/Clinton_2016-08-15.txt',\n",
       " 'data/clinton_trump_corpus/Clinton/Clinton_2016-11-01-B.txt',\n",
       " 'data/clinton_trump_corpus/Clinton/Clinton_2016-08-05.txt',\n",
       " 'data/clinton_trump_corpus/Clinton/Clinton_2016-10-31-A.txt',\n",
       " 'data/clinton_trump_corpus/Clinton/Clinton_2016-11-07-A.txt',\n",
       " 'data/clinton_trump_corpus/Clinton/Clinton_2016-11-04-B.txt',\n",
       " 'data/clinton_trump_corpus/Clinton/Clinton_2016-10-24.txt',\n",
       " 'data/clinton_trump_corpus/Clinton/Clinton_2016-10-26.txt',\n",
       " 'data/clinton_trump_corpus/Clinton/Clinton_2016-11-04-A.txt',\n",
       " 'data/clinton_trump_corpus/Clinton/Clinton_2016-11-06-A.txt',\n",
       " 'data/clinton_trump_corpus/Clinton/Clinton_2016-09-08-A.txt',\n",
       " 'data/clinton_trump_corpus/Clinton/Clinton_2016-08-17.txt',\n",
       " 'data/clinton_trump_corpus/Clinton/Clinton_2016-09-08-C.txt',\n",
       " 'data/clinton_trump_corpus/Clinton/Clinton_2016-09-30.txt',\n",
       " 'data/clinton_trump_corpus/Clinton/Clinton_2016-09-08-B.txt',\n",
       " 'data/clinton_trump_corpus/Clinton/Clinton_2016-08-10.txt',\n",
       " 'data/clinton_trump_corpus/Clinton/Clinton_2016-11-01-A.txt',\n",
       " 'data/clinton_trump_corpus/Clinton/Clinton_2016-08-31.txt']"
      ]
     },
     "execution_count": 126,
     "metadata": {},
     "output_type": "execute_result"
    }
   ],
   "source": [
    "glob('data/*/*/*')"
   ]
  },
  {
   "cell_type": "markdown",
   "metadata": {},
   "source": [
    "Now use the stats reader to compare the presidential Donald Trumph's and Hilary Clinton's speeches, think about answering these questions:\n",
    "\n",
    "    What did you observe?\n",
    "    What could this mean?\n",
    "    Are there any technical flaws? What could be done better?\n",
    "    What further analysis might be useful in providing more information about the candidates?\n",
    "\n",
    "Discuss these questions in groups, compare your `stats_reader` implementations, and outline a plan for improving your analysis, including any code changes that may be necessary (think simple this time, let's stick to basic Python, not some fancy NLP libraries)."
   ]
  },
  {
   "cell_type": "markdown",
   "metadata": {},
   "source": [
    "Collect your notes in one place, e.g.: HERE"
   ]
  },
  {
   "cell_type": "markdown",
   "metadata": {},
   "source": [
    "Actually improve the design of the `stats_reader` and review the new results. Share your thought process and findings with your colleagues."
   ]
  },
  {
   "cell_type": "code",
   "execution_count": null,
   "metadata": {},
   "outputs": [],
   "source": [
    "# YOUR CODE GOES HERE"
   ]
  },
  {
   "cell_type": "markdown",
   "metadata": {},
   "source": [
    "## Extended Iterable Unpacking\n",
    "### The Star `*` Operator\n",
    "    The `*` operator in Python let's you to contain an arbitrary number of arguments within one paremeter."
   ]
  },
  {
   "cell_type": "code",
   "execution_count": null,
   "metadata": {},
   "outputs": [],
   "source": [
    "ai_list = list('AI')\n",
    "ai_list"
   ]
  },
  {
   "cell_type": "code",
   "execution_count": null,
   "metadata": {},
   "outputs": [],
   "source": [
    "first_letter, second_letter = ai_list\n",
    "first_letter, second_letter"
   ]
  },
  {
   "cell_type": "code",
   "execution_count": null,
   "metadata": {},
   "outputs": [],
   "source": [
    "first_letter = ai_list[0]\n",
    "second_letter = ai_list[1]\n",
    "first_letter, second_letter"
   ]
  },
  {
   "cell_type": "code",
   "execution_count": null,
   "metadata": {},
   "outputs": [],
   "source": [
    "ai_word_list = ['Anyone', 'can', 'learn', 'AI']"
   ]
  },
  {
   "cell_type": "code",
   "execution_count": null,
   "metadata": {},
   "outputs": [],
   "source": [
    "first_word, *other_words = ai_word_list\n",
    "first_word, other_words"
   ]
  },
  {
   "cell_type": "code",
   "execution_count": null,
   "metadata": {},
   "outputs": [],
   "source": [
    "first_word, *middle_words, last_word = ai_word_list\n",
    "first_word, middle_words, last_word"
   ]
  },
  {
   "cell_type": "markdown",
   "metadata": {},
   "source": [
    "## Function arguments - the `*` operator\n",
    "    -- Python let's you to contain an arbitrary number of arguments within one paremeter using the `*` operator\n",
    "    -- The `**` operator allows a parameter to collect an arbitrary number of keyword arguments\n",
    "    -- A parameter that accepts an arbitrary number of arguments must come last in the function definition"
   ]
  },
  {
   "cell_type": "code",
   "execution_count": null,
   "metadata": {},
   "outputs": [],
   "source": [
    "sum(1, 2, 3)"
   ]
  },
  {
   "cell_type": "code",
   "execution_count": null,
   "metadata": {},
   "outputs": [],
   "source": [
    "??sum"
   ]
  },
  {
   "cell_type": "markdown",
   "metadata": {},
   "source": [
    "From the docstring: `sum(iterable, start=0, /)`\n",
    "\n",
    "    `sum` takes just two arguments - an iterable and a starting point."
   ]
  },
  {
   "cell_type": "code",
   "execution_count": null,
   "metadata": {},
   "outputs": [],
   "source": [
    "sum([1,2,3], 0)"
   ]
  },
  {
   "cell_type": "code",
   "execution_count": null,
   "metadata": {},
   "outputs": [],
   "source": [
    "sum([1,2,3], 5)"
   ]
  },
  {
   "cell_type": "markdown",
   "metadata": {},
   "source": [
    "Let's make a `sum2` function, which takes as many parameters as needed:"
   ]
  },
  {
   "cell_type": "code",
   "execution_count": null,
   "metadata": {},
   "outputs": [],
   "source": [
    "def sum2(*args):\n",
    "    return sum(args)"
   ]
  },
  {
   "cell_type": "code",
   "execution_count": null,
   "metadata": {},
   "outputs": [],
   "source": [
    "sum2(1, 2, 3, 4)"
   ]
  },
  {
   "cell_type": "markdown",
   "metadata": {},
   "source": [
    "The problem now is that we can't add a starting point as a param anymore. Let's fix itL"
   ]
  },
  {
   "cell_type": "code",
   "execution_count": null,
   "metadata": {},
   "outputs": [],
   "source": [
    "def sum2(*args, start=0):\n",
    "    return sum(args, start)"
   ]
  },
  {
   "cell_type": "code",
   "execution_count": null,
   "metadata": {},
   "outputs": [],
   "source": [
    "sum2(1, 2, 3, 4, start=100)"
   ]
  },
  {
   "cell_type": "markdown",
   "metadata": {},
   "source": [
    "***Collecting an arbitrary number of arguments:***"
   ]
  },
  {
   "cell_type": "code",
   "execution_count": null,
   "metadata": {},
   "outputs": [],
   "source": [
    "def make_pizza(size, *toppings):\n",
    "    \"\"\"Make a pizza.\"\"\"\n",
    "    print(\"\\nMaking a \" + size + \" pizza.\")\n",
    "    print(\"Toppings:\")\n",
    "    for topping in toppings:\n",
    "        print(\"- \" + topping)"
   ]
  },
  {
   "cell_type": "code",
   "execution_count": null,
   "metadata": {},
   "outputs": [],
   "source": [
    "make_pizza('small', 'pepperoni')"
   ]
  },
  {
   "cell_type": "code",
   "execution_count": null,
   "metadata": {},
   "outputs": [],
   "source": [
    "make_pizza('large', 'bacon bits', 'pineapple')"
   ]
  },
  {
   "cell_type": "code",
   "execution_count": null,
   "metadata": {},
   "outputs": [],
   "source": [
    "make_pizza('medium', 'mushrooms', 'peppers', 'onions', 'extra cheese')"
   ]
  },
  {
   "cell_type": "markdown",
   "metadata": {},
   "source": [
    "***Collecting an arbitrary number of keyword arguments:***"
   ]
  },
  {
   "cell_type": "code",
   "execution_count": null,
   "metadata": {},
   "outputs": [],
   "source": [
    "def build_profile(first, last, **user_info):\n",
    "    \"\"\"Build a user's profile dictionary.\"\"\"\n",
    "    \n",
    "    # Build a dict with the required keys.\n",
    "    profile = {'first': first, 'last': last}\n",
    "    \n",
    "    # Add any other keys and values.\n",
    "    for key, value in user_info.items():\n",
    "        profile[key] = value\n",
    "        \n",
    "    return profile"
   ]
  },
  {
   "cell_type": "code",
   "execution_count": null,
   "metadata": {},
   "outputs": [],
   "source": [
    "# Create two users with different kinds of information.\n",
    "user_0 = build_profile('albert', 'einstein', location='princeton')\n",
    "user_0"
   ]
  },
  {
   "cell_type": "code",
   "execution_count": null,
   "metadata": {},
   "outputs": [],
   "source": [
    "user_1 = build_profile('marie', 'curie', location='paris', field='chemistry')\n",
    "user_1"
   ]
  },
  {
   "cell_type": "markdown",
   "metadata": {},
   "source": [
    "***Collecting an arbitrary number of arguments | keyword arguments:***"
   ]
  },
  {
   "cell_type": "code",
   "execution_count": null,
   "metadata": {},
   "outputs": [],
   "source": [
    "def inner(a=1, b=2, c=3):\n",
    "    return a + b + c\n",
    "\n",
    "def outer(fn, *args, **kwargs):\n",
    "    return fn(*args, **kwargs)"
   ]
  },
  {
   "cell_type": "code",
   "execution_count": null,
   "metadata": {},
   "outputs": [],
   "source": [
    "outer(print, 100, 200, 300, sep=' + ')"
   ]
  },
  {
   "cell_type": "code",
   "execution_count": null,
   "metadata": {},
   "outputs": [],
   "source": [
    "outer(print, 100, 200, 300, sep=' + ', end='\\t')\n",
    "outer(print, 100, 200, 300, sep=' + ', end='\\t')"
   ]
  },
  {
   "cell_type": "code",
   "execution_count": null,
   "metadata": {},
   "outputs": [],
   "source": [
    "def catch_all(*args, **kwargs):\n",
    "    print(args)\n",
    "    print(kwargs)\n",
    "    \n",
    "catch_all(1, 2, 3, test=True, is_valid=False)"
   ]
  },
  {
   "cell_type": "code",
   "execution_count": null,
   "metadata": {},
   "outputs": [],
   "source": [
    "catch_all(1, 2, 3, **{'test': True, 'is_valid': False})"
   ]
  },
  {
   "cell_type": "markdown",
   "metadata": {},
   "source": [
    "### `Exercise 12`\n",
    "Create a `build_student_profile` function that takes as input:\n",
    "- Students name and surname.\n",
    "- An arbitrary number of middle names.\n",
    "- An arbitrary number of arguments representing students phone, address, etc.\n",
    "\n",
    "The function should return user profile dictionary as given in the example above, but the middle names should be stored together as a single string (separated by whitespaces)."
   ]
  },
  {
   "cell_type": "code",
   "execution_count": null,
   "metadata": {},
   "outputs": [],
   "source": []
  },
  {
   "cell_type": "markdown",
   "metadata": {},
   "source": [
    "## What is the best way to structure a function?\n",
    "As you have observed previously, there are multiple ways to write and call a function. When you are starting out, try to simply ***make it work, later polish it to be reliable and efficient***. After you develop an understanding of the more subtle advantages of the different structures | syntax, just ***explore and time it***.\n",
    "\n",
    "For automatic timing on Jupyter Notebook cells, go to your anaconda prompt, activate the working environment, and run (in terminal): \n",
    "\n",
    "    pip install ipython-autotime\n",
    "    \n",
    "Then add this line at the top of the notebook near the imports and run the cell:\n",
    "    \n",
    "    %load_ext autotime"
   ]
  },
  {
   "cell_type": "code",
   "execution_count": null,
   "metadata": {},
   "outputs": [],
   "source": []
  }
 ],
 "metadata": {
  "kernelspec": {
   "display_name": "Python 3",
   "language": "python",
   "name": "python3"
  },
  "language_info": {
   "codemirror_mode": {
    "name": "ipython",
    "version": 3
   },
   "file_extension": ".py",
   "mimetype": "text/x-python",
   "name": "python",
   "nbconvert_exporter": "python",
   "pygments_lexer": "ipython3",
   "version": "3.7.2"
  }
 },
 "nbformat": 4,
 "nbformat_minor": 2
}
