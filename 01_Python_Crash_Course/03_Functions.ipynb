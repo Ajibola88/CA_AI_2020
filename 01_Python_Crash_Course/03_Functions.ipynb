{
 "cells": [
  {
   "cell_type": "markdown",
   "metadata": {},
   "source": [
    "# 03. Functions\n",
    "So far, our scripts have been simple, single-use code blocks. One way to organize Python code and make it more readable, is to factor-out useful pieces into reusable ***functions**.\n",
    "\n",
    "Here we'll cover two ways of creating functions: \n",
    "- the ``def`` statement, useful for any type of function.\n",
    "- the ``lambda`` statement, useful for creating short anonymous functions. \n",
    "\n",
    "Finally, we will also review some functions that are *built-in* the Python language."
   ]
  },
  {
   "cell_type": "markdown",
   "metadata": {},
   "source": [
    "## Introduction to Functions"
   ]
  },
  {
   "cell_type": "code",
   "execution_count": null,
   "metadata": {},
   "outputs": [],
   "source": [
    "print('I\\'m a print function')"
   ]
  },
  {
   "cell_type": "markdown",
   "metadata": {},
   "source": [
    "The `def` statement (standing for *definition*) is what we use to define functions in Python:"
   ]
  },
  {
   "cell_type": "code",
   "execution_count": null,
   "metadata": {},
   "outputs": [],
   "source": [
    "def square(x):\n",
    "    return x ** 2"
   ]
  },
  {
   "cell_type": "code",
   "execution_count": null,
   "metadata": {},
   "outputs": [],
   "source": [
    "square(4)"
   ]
  },
  {
   "cell_type": "code",
   "execution_count": null,
   "metadata": {},
   "outputs": [],
   "source": [
    "def square(x: float) -> float:\n",
    "    \"\"\"\n",
    "    Squares the number.\n",
    "\n",
    "    Arguments:\n",
    "        x {float} -- a number\n",
    "\n",
    "    Returns:\n",
    "        float -- the square of the number\n",
    "        \n",
    "    Examples:\n",
    "        >>> square(3)\n",
    "        9\n",
    "        >>> square(2.5)\n",
    "        6.25\n",
    "        >>> square(2.9)\n",
    "        8.41\n",
    "    \"\"\"\n",
    "    return x ** 2"
   ]
  },
  {
   "cell_type": "code",
   "execution_count": null,
   "metadata": {},
   "outputs": [],
   "source": [
    "result = square(2.5)\n",
    "result"
   ]
  },
  {
   "cell_type": "code",
   "execution_count": null,
   "metadata": {},
   "outputs": [],
   "source": [
    "def name_age_hash(name='Povilas', age=25):\n",
    "    \"\"\"\n",
    "    Takes name and age as parameters and returns\n",
    "    a single integ er value representing their hash\n",
    "    value\n",
    "    \"\"\"\n",
    "    print(hash((name, age)))"
   ]
  },
  {
   "cell_type": "code",
   "execution_count": null,
   "metadata": {},
   "outputs": [],
   "source": [
    "name_age_hash"
   ]
  },
  {
   "cell_type": "code",
   "execution_count": null,
   "metadata": {},
   "outputs": [],
   "source": [
    "name_age_hash()"
   ]
  },
  {
   "cell_type": "code",
   "execution_count": null,
   "metadata": {},
   "outputs": [],
   "source": [
    "name_age_hash('Jim', age=28)"
   ]
  },
  {
   "cell_type": "code",
   "execution_count": null,
   "metadata": {},
   "outputs": [],
   "source": [
    "name_age_hash('Bob', age=71)"
   ]
  },
  {
   "cell_type": "code",
   "execution_count": null,
   "metadata": {},
   "outputs": [],
   "source": [
    "# Note - hash() is not deterministic\n",
    "from crypt import crypt\n",
    "\n",
    "def name_age_hash(name: str, age: int, salt: str = 'Pepper') -> int:\n",
    "    \"\"\"\n",
    "    Takes name and age as parameters and returns\n",
    "    a single integer value representing their hash\n",
    "    value.\n",
    "\n",
    "    Keyword Arguments:\n",
    "        name {str} -- the name of the person (default: {\"Dovydas\"})\n",
    "        age {int} -- the age of the person (default: {29})\n",
    "\n",
    "    Returns:\n",
    "        int -- the hash of the person\n",
    "\n",
    "    Examples:\n",
    "        >>> name_age_hash('Dovydas', 29)\n",
    "        'PeOwFsC3mXIiE'\n",
    "        >>> name_age_hash('Geoffrey', 71)\n",
    "        'PeZpp17pB2ang'\n",
    "        >>> name_age_hash('Dovydas', age=30)\n",
    "        'PeJ0lu1x6sT1o'\n",
    "        >>> name_age_hash('Dovydas', 29, 'Vinted')\n",
    "        'Vi5RSKuXo0qfw'\n",
    "    \"\"\"\n",
    "    return crypt(f\"{name}{age}\", salt=salt)"
   ]
  },
  {
   "cell_type": "code",
   "execution_count": null,
   "metadata": {},
   "outputs": [],
   "source": [
    "name_age_hash"
   ]
  },
  {
   "cell_type": "code",
   "execution_count": null,
   "metadata": {},
   "outputs": [],
   "source": [
    "name_age_hash()"
   ]
  },
  {
   "cell_type": "code",
   "execution_count": null,
   "metadata": {},
   "outputs": [],
   "source": [
    "name_age_hash('Jim', age=28)"
   ]
  },
  {
   "cell_type": "code",
   "execution_count": null,
   "metadata": {},
   "outputs": [],
   "source": [
    "name_age_hash('Bob', age=71)"
   ]
  },
  {
   "cell_type": "markdown",
   "metadata": {},
   "source": [
    "### `Exercise 1 - The Enumerate Clone`\n",
    "Create a function named `enumerate2`, which behaves exactly like `enumerate`"
   ]
  },
  {
   "cell_type": "code",
   "execution_count": null,
   "metadata": {},
   "outputs": [],
   "source": [
    "list(enumerate(range(5)))"
   ]
  },
  {
   "cell_type": "code",
   "execution_count": null,
   "metadata": {},
   "outputs": [],
   "source": [
    "for ix, item in enumerate(range(5)):\n",
    "    print (ix, item)"
   ]
  },
  {
   "cell_type": "code",
   "execution_count": null,
   "metadata": {},
   "outputs": [],
   "source": [
    "# Your CODE"
   ]
  },
  {
   "cell_type": "markdown",
   "metadata": {},
   "source": [
    "### `Exercise 2 - Generator of a Generator`\n",
    "Create a function which takes a string as a parameter and returns a list and a generator inside another list, e.g.:\n",
    "\n",
    "Input string:\n",
    "\n",
    "    'Hi'\n",
    "\n",
    "    [['H', 'i'], <generator object at ...>]"
   ]
  },
  {
   "cell_type": "code",
   "execution_count": null,
   "metadata": {},
   "outputs": [],
   "source": [
    "# CODE"
   ]
  },
  {
   "cell_type": "markdown",
   "metadata": {},
   "source": [
    "## Function Defaults"
   ]
  },
  {
   "cell_type": "code",
   "execution_count": null,
   "metadata": {},
   "outputs": [],
   "source": [
    "from typing import List\n",
    "\n",
    "def dangerous_defaults(n: int, data:list=[]) -> List[float]:\n",
    "    for i in range(n):\n",
    "        data.append(i)\n",
    "    return data"
   ]
  },
  {
   "cell_type": "code",
   "execution_count": null,
   "metadata": {},
   "outputs": [],
   "source": [
    "dangerous_defaults(5)"
   ]
  },
  {
   "cell_type": "code",
   "execution_count": null,
   "metadata": {},
   "outputs": [],
   "source": [
    "dangerous_defaults(5)"
   ]
  },
  {
   "cell_type": "code",
   "execution_count": null,
   "metadata": {},
   "outputs": [],
   "source": [
    "dangerous_defaults(5), dangerous_defaults(5)"
   ]
  },
  {
   "cell_type": "markdown",
   "metadata": {},
   "source": [
    "### `Exercise 3 - Fixing Dangerous Defaults`\n",
    "Fix the function above to avoid the described error."
   ]
  },
  {
   "cell_type": "code",
   "execution_count": null,
   "metadata": {},
   "outputs": [],
   "source": [
    "# CODE"
   ]
  },
  {
   "cell_type": "markdown",
   "metadata": {},
   "source": [
    "## Multi Output Functions\n",
    "In Python, it is possible to return multiple outputs using a single function. \n",
    "\n",
    "**JK**, all functions have just a single output (but it may consist of multiple variables | values)"
   ]
  },
  {
   "cell_type": "code",
   "execution_count": null,
   "metadata": {},
   "outputs": [],
   "source": [
    "def multi_output_fun(data):\n",
    "    keys, values = zip(*data)\n",
    "    return keys, values"
   ]
  },
  {
   "cell_type": "code",
   "execution_count": null,
   "metadata": {},
   "outputs": [],
   "source": [
    "multi_output_fun([('name', 'Jon'), ('house', 'Snow'), ('wolf', 'Ghost')])"
   ]
  },
  {
   "cell_type": "markdown",
   "metadata": {},
   "source": [
    "### `Exercise 4 - Multi Average Fun(ction)`\n",
    "Create a `moving_averages` function which takes a list of integers `list_of_ints` as input and returns 3 different moving averages for the input list elements. \n",
    "- Average  3 = mean(`i-1`, `i`, `i+1`) for each `i`.\n",
    "- Average  7 = .....................................\n",
    "- Average 15 = .....................................\n",
    "\n",
    "`Hint` It may be helpful to firstly define a function that takes an integer list as input and returns a single moving average, and later call it three times using a more general parent function."
   ]
  },
  {
   "cell_type": "code",
   "execution_count": null,
   "metadata": {},
   "outputs": [],
   "source": [
    "# CODE"
   ]
  },
  {
   "cell_type": "markdown",
   "metadata": {},
   "source": [
    "## Built-in functions"
   ]
  },
  {
   "cell_type": "markdown",
   "metadata": {},
   "source": [
    "### `Exercise 5 - Write all the built-in functions that you already know`\n",
    "Despite the fact that we did not talk specifically about built-in Python functions, you are already acquainted with a large variety of them. Try listing out as much as possible (you should definitely hit at least 20)!"
   ]
  },
  {
   "cell_type": "markdown",
   "metadata": {},
   "source": [
    "The full list of these built-in functions is given [here](https://docs.python.org/3/library/functions.html), but those that I find the most useful are also given below:"
   ]
  },
  {
   "cell_type": "code",
   "execution_count": null,
   "metadata": {},
   "outputs": [],
   "source": [
    "# CODE"
   ]
  },
  {
   "cell_type": "markdown",
   "metadata": {},
   "source": [
    "### `Exercise 6 - Modularize`\n",
    "Rewrite all of your developed scripts from `Exercises` in `02_Control_Flow_and_Comprehensions.ipynb` as Python functions to create your first Python **module**. Essentially, a module is a `.py` file, containing a bunch of Python definitions and statements that you can access using the `import` statement. E.g., `import utils.py` imports all of the definitions to the current session and they can be accessed using their respective names."
   ]
  },
  {
   "cell_type": "code",
   "execution_count": null,
   "metadata": {},
   "outputs": [],
   "source": [
    "# CODE"
   ]
  },
  {
   "cell_type": "markdown",
   "metadata": {},
   "source": [
    "### `Exercise 7 - Fibonacci`\n",
    "Write a Python function to get the Fibonacci series up to some certain number (n). \n",
    "\n",
    "**N.B.** The Fibonacci Sequence is a series of numbers, where every following number is defined by the sum of the two previous numbers: \n",
    "\n",
    "    0, 1, 1, 2, 3, 5....\n",
    "    \n",
    "Input:\n",
    "\n",
    "    fibonacci(10)\n",
    "    \n",
    "Output:\n",
    "    \n",
    "    [1, 1, 2, 3, 5, 8, 13, 21, 34, 55]"
   ]
  },
  {
   "cell_type": "code",
   "execution_count": null,
   "metadata": {},
   "outputs": [],
   "source": [
    "# CODE"
   ]
  },
  {
   "cell_type": "markdown",
   "metadata": {},
   "source": [
    "### `Exercise 8 - Upper/Lower`\n",
    "Write a Python function that accepts a string and calculates the number of upper case letters and lower case letters it has. E.g.:\n",
    "\n",
    "    Input   :  The quick Brown Fox\n",
    "    N Upper :  3\n",
    "    N Lower :  13\n"
   ]
  },
  {
   "cell_type": "code",
   "execution_count": null,
   "metadata": {},
   "outputs": [],
   "source": [
    "# CODE"
   ]
  },
  {
   "cell_type": "markdown",
   "metadata": {},
   "source": [
    "### `Exercise 9 - The Mover`\n",
    "Write a Python function that returns no output bus moves files from one directory to another. Bring a dummy folder with some files to the present working directory to play around (nothing important, for your own good:)).\n",
    "    \n",
    "Inputs:\n",
    "\n",
    "    input_path (string)       - the directory containing the files that have to be movied/copied.\n",
    "    output_path (string)      - the directory to which the files have to be moved.\n",
    "    copy (boolean)            - if `True` (default), keep the original directory intact (otherwise delete it).\n",
    "    \n",
    "Check Python built-in libraries `glob`, `os`, and `shutil` to complete the task:\n",
    "\n",
    "**N.B.** Don't forget that you will have to create the output path before moving the files, possibly recursively if you directory is nested."
   ]
  },
  {
   "cell_type": "code",
   "execution_count": null,
   "metadata": {},
   "outputs": [],
   "source": [
    "import os\n",
    "import glob\n",
    "import shutil"
   ]
  },
  {
   "cell_type": "code",
   "execution_count": null,
   "metadata": {},
   "outputs": [],
   "source": [
    "??shutil"
   ]
  },
  {
   "cell_type": "code",
   "execution_count": null,
   "metadata": {},
   "outputs": [],
   "source": [
    "os.listdir()"
   ]
  },
  {
   "cell_type": "code",
   "execution_count": null,
   "metadata": {},
   "outputs": [],
   "source": [
    "# CODE"
   ]
  },
  {
   "cell_type": "markdown",
   "metadata": {},
   "source": [
    "### `Exercise 10 - Reader`\n",
    "Write a Python function `def reader(....)` that reads the contents of a of `.txt` file (use one of the speeches within the `data/clinton_trump_corpus`.\n",
    "   \n",
    "Input:\n",
    "\n",
    "    input_path (string)       - the path to the `.txt` file that will be read.\n",
    "    \n",
    "Output\n",
    "\n",
    "    lines                     - a list of lines (strings) from the `.txt` file."
   ]
  },
  {
   "cell_type": "code",
   "execution_count": null,
   "metadata": {},
   "outputs": [],
   "source": [
    "# CODE"
   ]
  },
  {
   "cell_type": "markdown",
   "metadata": {},
   "source": [
    "### `Exercise 11 - Multi-Reader`\n",
    "Write a Python function `def multi_reader(...)` that uses **The Reader** in order to get the contents of all text `.txt` files within a directory.\n",
    "   \n",
    "Input:\n",
    "\n",
    "    input_path (string)       - the path to the directory containing a bunch of .txt files. \n",
    "        \n",
    "Output\n",
    "\n",
    "    documents                 - a list of line-lists (for each of the corresponding .txt files)."
   ]
  },
  {
   "cell_type": "code",
   "execution_count": null,
   "metadata": {},
   "outputs": [],
   "source": [
    "# CODE"
   ]
  },
  {
   "cell_type": "markdown",
   "metadata": {},
   "source": [
    "### `Exercise 12 - Stats-Reader`\n",
    "Write a Python function `def stats_reader(...)` that uses **Multi Reader** to get the contents of multiple text files (e.g., a corpus of documents for a single person), and returns a variety of stats about them:\n",
    "\n",
    "Input:\n",
    "\n",
    "    documents         - a list of line-lists (for each of the corresponding .txt files).\n",
    "    \n",
    "Output\n",
    "\n",
    "    word_count        - total amount of words in all of the documents.\n",
    "    vocab_size        - total amount of unique words in all of the documebts.\n",
    "    mean_word_count   - average amount of words per document.\n",
    "    n_lines           - average amount of lines per document.\n",
    "    top_words         - top 50 most common words."
   ]
  },
  {
   "cell_type": "code",
   "execution_count": null,
   "metadata": {},
   "outputs": [],
   "source": [
    "# CODE"
   ]
  },
  {
   "cell_type": "markdown",
   "metadata": {},
   "source": [
    "Now use the stats reader to compare the presidential Donald Trumph's and Hilary Clinton's speeches, think about answering these questions:\n",
    "\n",
    "    What did you observe?\n",
    "    What could this mean?\n",
    "    Are there any technical flaws? What could be done better?\n",
    "    What further analysis might be useful in providing more information about the candidates?\n",
    "\n",
    "Discuss these questions in groups, compare your `stats_reader` implementations, and outline a plan for improving your analysis, including any code changes that may be necessary (think simple this time, let's stick to basic Python, not some fancy NLP libraries)."
   ]
  },
  {
   "cell_type": "markdown",
   "metadata": {},
   "source": [
    "Collect your notes in one place, e.g.: HERE"
   ]
  },
  {
   "cell_type": "markdown",
   "metadata": {},
   "source": [
    "Actually improve the design of the `stats_reader` and review the new results. Share your thought process and findings with your colleagues."
   ]
  },
  {
   "cell_type": "code",
   "execution_count": null,
   "metadata": {},
   "outputs": [],
   "source": [
    "# CODE"
   ]
  },
  {
   "cell_type": "markdown",
   "metadata": {},
   "source": [
    "## `lambda` Expressions\n",
    "A lambda function is a small anonymous function that can take any number of arguments, but can only have one expression in the form of: \n",
    "\n",
    "***lambda*** *arguments*: *expression*\n",
    "\n",
    "Here is a lambda function that adds 10 to the number passed in as an argument:"
   ]
  },
  {
   "cell_type": "code",
   "execution_count": null,
   "metadata": {},
   "outputs": [],
   "source": [
    "x = lambda a : a + 10\n",
    "x"
   ]
  },
  {
   "cell_type": "code",
   "execution_count": null,
   "metadata": {},
   "outputs": [],
   "source": [
    "x(5)"
   ]
  },
  {
   "cell_type": "markdown",
   "metadata": {},
   "source": [
    "And another one that multiplies argument a with argument b:"
   ]
  },
  {
   "cell_type": "code",
   "execution_count": null,
   "metadata": {},
   "outputs": [],
   "source": [
    "x = lambda a, b : a * b\n",
    "x"
   ]
  },
  {
   "cell_type": "code",
   "execution_count": null,
   "metadata": {},
   "outputs": [],
   "source": [
    "x(5, 6) "
   ]
  },
  {
   "cell_type": "code",
   "execution_count": null,
   "metadata": {},
   "outputs": [],
   "source": [
    "def times2(x):\n",
    "    return x * 2"
   ]
  },
  {
   "cell_type": "code",
   "execution_count": null,
   "metadata": {},
   "outputs": [],
   "source": [
    "times2(2)"
   ]
  },
  {
   "cell_type": "code",
   "execution_count": null,
   "metadata": {},
   "outputs": [],
   "source": [
    "times2([111, 222])"
   ]
  },
  {
   "cell_type": "code",
   "execution_count": null,
   "metadata": {},
   "outputs": [],
   "source": [
    "times2('We don\\'t need no education')"
   ]
  },
  {
   "cell_type": "code",
   "execution_count": null,
   "metadata": {},
   "outputs": [],
   "source": [
    "x = lambda var: var*2\n",
    "x"
   ]
  },
  {
   "cell_type": "code",
   "execution_count": null,
   "metadata": {},
   "outputs": [],
   "source": [
    "x(2)"
   ]
  },
  {
   "cell_type": "code",
   "execution_count": null,
   "metadata": {},
   "outputs": [],
   "source": [
    "x([111,222])"
   ]
  },
  {
   "cell_type": "markdown",
   "metadata": {},
   "source": [
    "### `Exercise 13 - Lambda Sorting Tuples`\n",
    "Sort a list of tuples using a `lambda` expression.\n",
    "\n",
    "E.g.,\n",
    "\n",
    "Input:\n",
    "\n",
    "    marks = [('EN', 80), ('IT', 88), ('DE', 95)]\n",
    "    \n",
    "Output:\n",
    "    \n",
    "    Sorting the tuple list:\n",
    "\n",
    "    [('EN', 80), ('IT', 88), ('DE', 95)]    "
   ]
  },
  {
   "cell_type": "code",
   "execution_count": null,
   "metadata": {},
   "outputs": [],
   "source": [
    "# CODE"
   ]
  },
  {
   "cell_type": "markdown",
   "metadata": {},
   "source": [
    "### `Exercise 14 - Lambda Sorting Dict`\n",
    "Sort a list of dictionaries using a `lambda` expression.\n",
    "\n",
    "Input:\n",
    "\n",
    "    models = [{'make':'Nokia', 'model':216, 'color':'Black'}, \n",
    "              {'make':'Mi Max', 'model':'2', 'color':'Gold'}, \n",
    "              {'make':'Samsung', 'model': 7, 'color':'Blue'}]\n",
    "                 \n",
    "Output:\n",
    "    \n",
    "\n",
    "    Sorting the dictionary list :\n",
    "    [{'make': 'Nokia', 'model': 216, 'color': 'Black'}, {'make': 'Samsung', 'model': 7, 'color': 'Blue'}, {'make': 'Mi Max', 'model': 2, 'color': 'Gold'}]\n",
    " "
   ]
  },
  {
   "cell_type": "code",
   "execution_count": null,
   "metadata": {},
   "outputs": [],
   "source": [
    "models = [{'make':'Nokia', 'model':216, 'color':'Black'}, \n",
    "          {'make':'Mi Max', 'model':2, 'color':'Gold'}, \n",
    "          {'make':'Samsung', 'model': 7, 'color':'Blue'}]\n",
    "\n",
    "# CODE"
   ]
  },
  {
   "cell_type": "markdown",
   "metadata": {},
   "source": [
    "### `Exercise 15 - Date Time Lambda`\n",
    "Extract year, month, date and time using Lambda:\n",
    "\n",
    "Input:\n",
    "\n",
    "    datetime.datetime(2020, 3, 28, 1, 3, 54, 121736)\n",
    "    \n",
    "Output:\n",
    "    \n",
    "    Datetime: 2020-03-28 01:06:28.325593\n",
    "    Year    : 2020\n",
    "    Month   : 3\n",
    "    Day     : 28\n",
    "    Now     : 01:06:28.325593"
   ]
  },
  {
   "cell_type": "code",
   "execution_count": null,
   "metadata": {},
   "outputs": [],
   "source": [
    "import datetime\n",
    "now = datetime.datetime.now()\n",
    "now"
   ]
  },
  {
   "cell_type": "code",
   "execution_count": null,
   "metadata": {},
   "outputs": [],
   "source": [
    "??datetime"
   ]
  },
  {
   "cell_type": "code",
   "execution_count": null,
   "metadata": {},
   "outputs": [],
   "source": [
    "# CODE"
   ]
  },
  {
   "cell_type": "code",
   "execution_count": null,
   "metadata": {},
   "outputs": [],
   "source": []
  },
  {
   "cell_type": "markdown",
   "metadata": {},
   "source": [
    "## `map` and `filter`"
   ]
  },
  {
   "cell_type": "code",
   "execution_count": null,
   "metadata": {},
   "outputs": [],
   "source": [
    "seq = range(11, 33, 3)\n",
    "seq"
   ]
  },
  {
   "cell_type": "code",
   "execution_count": null,
   "metadata": {},
   "outputs": [],
   "source": [
    "seq = list(seq)\n",
    "seq"
   ]
  },
  {
   "cell_type": "code",
   "execution_count": null,
   "metadata": {},
   "outputs": [],
   "source": [
    "map(times2, seq)"
   ]
  },
  {
   "cell_type": "code",
   "execution_count": null,
   "metadata": {},
   "outputs": [],
   "source": [
    "list(map(times2, seq))"
   ]
  },
  {
   "cell_type": "code",
   "execution_count": null,
   "metadata": {},
   "outputs": [],
   "source": [
    "def squared(x):\n",
    "    return x ** 2\n",
    "\n",
    "list(map(squared, seq))"
   ]
  },
  {
   "cell_type": "code",
   "execution_count": null,
   "metadata": {},
   "outputs": [],
   "source": [
    "list(map(lambda x: x * 2, seq))"
   ]
  },
  {
   "cell_type": "code",
   "execution_count": null,
   "metadata": {},
   "outputs": [],
   "source": [
    "list(filter(lambda x: x > 20, seq))"
   ]
  },
  {
   "cell_type": "code",
   "execution_count": null,
   "metadata": {},
   "outputs": [],
   "source": [
    "list(filter(lambda x: 20 < x < 30, seq))"
   ]
  },
  {
   "cell_type": "code",
   "execution_count": null,
   "metadata": {},
   "outputs": [],
   "source": [
    "input_value = range(10, 100, 2)"
   ]
  },
  {
   "cell_type": "code",
   "execution_count": null,
   "metadata": {
    "scrolled": true
   },
   "outputs": [],
   "source": [
    "list(filter(lambda x: x % 3 == 0, input_value))"
   ]
  },
  {
   "cell_type": "code",
   "execution_count": null,
   "metadata": {},
   "outputs": [],
   "source": [
    "[x for x in input_value if x % 3 == 0]"
   ]
  },
  {
   "cell_type": "code",
   "execution_count": null,
   "metadata": {},
   "outputs": [],
   "source": [
    "from time import time"
   ]
  },
  {
   "cell_type": "code",
   "execution_count": null,
   "metadata": {},
   "outputs": [],
   "source": [
    "t = time()\n",
    "list(filter(lambda x: x % 3 == 0, input_value))\n",
    "time() - t"
   ]
  },
  {
   "cell_type": "code",
   "execution_count": null,
   "metadata": {},
   "outputs": [],
   "source": [
    "t = time()\n",
    "[x for x in input_value if x % 3 == 0]\n",
    "time() - t"
   ]
  },
  {
   "cell_type": "code",
   "execution_count": null,
   "metadata": {},
   "outputs": [],
   "source": [
    "input_value = range(10, 10000000, 2)"
   ]
  },
  {
   "cell_type": "code",
   "execution_count": null,
   "metadata": {},
   "outputs": [],
   "source": [
    "t = time()\n",
    "list(filter(lambda x: x % 3 == 0, input_value))\n",
    "time() - t"
   ]
  },
  {
   "cell_type": "code",
   "execution_count": null,
   "metadata": {},
   "outputs": [],
   "source": [
    "t = time()\n",
    "[x for x in input_value if x % 3 == 0]\n",
    "time() - t"
   ]
  },
  {
   "cell_type": "markdown",
   "metadata": {},
   "source": [
    "### `Exercise 16 - Is Even`\n",
    "Create a function `is_even` that takes a list of numbers and returns a new list with even numbers replaced by `True` and odd numbers replaced by `False`:\n",
    "\n",
    "Input:\n",
    "    \n",
    "    is_even([1, 2, 3, 4, 4])\n",
    "\n",
    "Output:\n",
    "\n",
    "    [False, True, False, True, True]"
   ]
  },
  {
   "cell_type": "code",
   "execution_count": null,
   "metadata": {},
   "outputs": [],
   "source": [
    "# CODE"
   ]
  }
 ],
 "metadata": {
  "kernelspec": {
   "display_name": "Python 3",
   "language": "python",
   "name": "python3"
  },
  "language_info": {
   "codemirror_mode": {
    "name": "ipython",
    "version": 3
   },
   "file_extension": ".py",
   "mimetype": "text/x-python",
   "name": "python",
   "nbconvert_exporter": "python",
   "pygments_lexer": "ipython3",
   "version": "3.7.2"
  }
 },
 "nbformat": 4,
 "nbformat_minor": 2
}
