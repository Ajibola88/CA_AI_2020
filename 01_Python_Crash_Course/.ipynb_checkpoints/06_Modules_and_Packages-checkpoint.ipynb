{
 "cells": [
  {
   "cell_type": "markdown",
   "metadata": {},
   "source": [
    "______\n",
    "# 06. Modules & Packages\n",
    "______\n",
    "Modular programming refers to the process of breaking a large, unwieldy programming task into smaller and more manageable subtasks. In Python, we usually separate batches of related functions into a number of individual modules, which can then be combined together to create a larger application, such as a package. \n",
    "\n",
    "There are several advantages to modularizing code in a large application:\n",
    "\n",
    "1. ***Simplicity***: Rather than focusing on the entire problem at hand, a module typically focuses on one relatively small portion of the problem, meaning that it is easier to wrap your head around it and debug any issues. Essentially, this makes the development easier and less error-prone.\n",
    "    \n",
    "2. ***Maintainability***: Modules are typically designed so that they enforce logical boundaries between different problem domains. If modules are written in a way that minimizes interdependency, there is decreased likelihood that modifications to a single module will have an impact on other parts of the program. (You may even be able to make changes to a module without having any knowledge of the application outside that module.) This makes it more viable for a team of many programmers to work collaboratively on a large application.\n",
    "\n",
    "3. ***Reusability***: Functionality defined in a single module can be easily reused (through an appropriately defined interface) by other parts of the application. This eliminates the need to recreate duplicate code.\n",
    "\n",
    "4. ***Scoping***: Modules typically define a separate namespace, which helps avoid collisions between identifiers in different areas of a program. (One of the tenets in the Zen of Python is Namespaces are one honking great idea—let’s do more of those!)\n",
    "\n",
    "There are actually three different ways to define a module in Python, but all if them are ***loaded using the `import`*** statement:\n",
    "\n",
    "1. A module can be written in Python itself.\n",
    "2. A module can be written in C and loaded dynamically at run-time, like the re (regular expression) module.\n",
    "3. A built-in module is intrinsically contained in the interpreter, like the itertools module.\n",
    "\n",
    "Here, we will mostly focus on 1 and 3, the modules that are written in Python or the built-ins, such as `math` or `itertools`."
   ]
  },
  {
   "cell_type": "markdown",
   "metadata": {},
   "source": [
    "## Importing from Python's Standard Library\n",
    "\n",
    "Python's standard library contains many useful built-in modules, which you can read about fully in [Python's documentation](https://docs.python.org/3/library/).\n",
    "Any of these can be imported with the ``import`` statement, and then explored using the help function seen in the previous section. Here is an extremely incomplete list of some of the modules you might want to check more thoroughly (some of them you've already seen in the previous notebooks).\n",
    "\n",
    "- ``os`` and ``sys``: Tools for interfacing with the operating system, including navigating file directory structures and executing shell commands\n",
    "- ``math`` and ``cmath``: Mathematical functions and operations on real and complex numbers\n",
    "- ``itertools``: Tools for constructing and interacting with iterators and generators\n",
    "- ``functools``: Tools that assist with functional programming\n",
    "- ``random``: Tools for generating pseudorandom numbers\n",
    "- ``pickle``: Tools for object persistence: saving objects to and loading objects from disk\n",
    "- ``json`` and ``csv``: Tools for reading JSON-formatted and CSV-formatted files.\n",
    "- ``urllib``: Tools for doing HTTP and other web requests."
   ]
  },
  {
   "cell_type": "code",
   "execution_count": null,
   "metadata": {},
   "outputs": [],
   "source": [
    "import os\n",
    "import math"
   ]
  },
  {
   "cell_type": "markdown",
   "metadata": {},
   "source": [
    "## Importing from Third-Party Modules\n",
    "These can be imported just as the built-in modules, but they have to be installed on your system first. The standard registry for such modules is the [Python Package Index](http://pypi.python.org/) (*PyPI* for short), and Python comes with a program ``pip``, which will automatically fetch packages released and listed on PyPI.\n",
    "\n",
    "### `Autotiming` with Jupyter\n",
    "For example, if you'd like to install the ``autotime``, an automatic timer for Jupyter Notebook cells, all you need to do is to type the following at the command line on your anaconda promp (terminal):\n",
    "\n",
    "**`N.B.`** Activate your environment first!\n",
    "\n",
    "```\n",
    "$ pip install ipython-autotime\n",
    "```\n",
    "\n",
    "The source code for the package will be automatically downloaded from the PyPI repository, and the package installed in the standard Python path (assuming you have permission to do so on the computer you're using).\n",
    "    \n",
    "**`N.B.`** To use `autotime`, you will also have to add this line at the top of the notebook near the imports and running the cell:\n",
    "    \n",
    "    %load_ext autotime"
   ]
  },
  {
   "cell_type": "code",
   "execution_count": null,
   "metadata": {},
   "outputs": [],
   "source": [
    "import autotime\n",
    "%load_ext autotime"
   ]
  },
  {
   "cell_type": "code",
   "execution_count": null,
   "metadata": {},
   "outputs": [],
   "source": [
    "import numpy"
   ]
  },
  {
   "cell_type": "markdown",
   "metadata": {},
   "source": [
    "## `Example` -  Storing a function in a module\n",
    "Create a `pizza.py` file in the present directory with the following code:"
   ]
  },
  {
   "cell_type": "code",
   "execution_count": null,
   "metadata": {},
   "outputs": [],
   "source": [
    "def make_pizza(size, *toppings):\n",
    "    \"\"\"Make a pizza.\"\"\"\n",
    "    print(\"\\nMaking a \" + size + \" pizza.\")\n",
    "    print(\"Toppings:\")\n",
    "    for topping in toppings:\n",
    "        print(\"- \" + topping)"
   ]
  },
  {
   "cell_type": "markdown",
   "metadata": {},
   "source": [
    "### Types: `Explicit import of the module`\n",
    "Explicit import of a module preserves the module's content in a namespace.\n",
    "The namespace is then used to refer to its contents with a \"``.``\" between them.\n",
    "For example, here we'll import the built-in ``math`` module and compute the cosine of pi:"
   ]
  },
  {
   "cell_type": "code",
   "execution_count": null,
   "metadata": {},
   "outputs": [],
   "source": [
    "import math\n",
    "math.cos(math.pi)"
   ]
  },
  {
   "cell_type": "code",
   "execution_count": null,
   "metadata": {},
   "outputs": [],
   "source": [
    "import pizza\n",
    "pizza.make_pizza('medium', 'pepperoni')\n",
    "pizza.make_pizza('small', 'bacon', 'pineapple')"
   ]
  },
  {
   "cell_type": "markdown",
   "metadata": {},
   "source": [
    "In cases where the model name is very long, it might be also useful to use an alias for it:\n",
    "    \n",
    "    import ... as ...\n",
    "    \n",
    "In fact, some of the more popular libraries have well known conventions for the aliases to shorten the module names. E.g., the NumPy (Numerical Python) package, a popular third-party package useful for data science, is by convention imported under the alias ``np``:"
   ]
  },
  {
   "cell_type": "code",
   "execution_count": null,
   "metadata": {},
   "outputs": [],
   "source": [
    "import numpy as np\n",
    "np.cos(np.pi)"
   ]
  },
  {
   "cell_type": "code",
   "execution_count": null,
   "metadata": {},
   "outputs": [],
   "source": [
    "import pizza as p\n",
    "p.make_pizza('medium', 'pepperoni')\n",
    "p.make_pizza('small', 'bacon', 'pineapple')"
   ]
  },
  {
   "cell_type": "markdown",
   "metadata": {},
   "source": [
    "## Types: `Explicit import of the module contents`\n",
    "Sometimes rather than importing the module namespace, you would just like to import a few particular items from the module. This can be done with the \"``from ... import ...``\" pattern.\n",
    "\n",
    "For example, we can import just the ``cos`` function and the ``pi`` constant from the ``math`` module:"
   ]
  },
  {
   "cell_type": "code",
   "execution_count": null,
   "metadata": {},
   "outputs": [],
   "source": [
    "from math import cos, pi\n",
    "cos(pi)"
   ]
  },
  {
   "cell_type": "code",
   "execution_count": null,
   "metadata": {},
   "outputs": [],
   "source": [
    "from pizza import make_pizza\n",
    "make_pizza('medium', 'pepperoni')\n",
    "make_pizza('small', 'bacon', 'pineapple')"
   ]
  },
  {
   "cell_type": "code",
   "execution_count": null,
   "metadata": {},
   "outputs": [],
   "source": [
    "from pizza import make_pizza as mp\n",
    "mp('medium', 'pepperoni')\n",
    "mp('small', 'bacon', 'pineapple')"
   ]
  },
  {
   "cell_type": "markdown",
   "metadata": {},
   "source": [
    "## Types: `Implicit import of the module contents`\n",
    "Finally, it is sometimes useful to import the entirety of the module contents into the local namespace.\n",
    "This can be done with the \"``from ... import *``\" pattern:"
   ]
  },
  {
   "cell_type": "code",
   "execution_count": null,
   "metadata": {},
   "outputs": [],
   "source": [
    "from math import *\n",
    "sin(pi) ** 2 + cos(pi) ** 2"
   ]
  },
  {
   "cell_type": "code",
   "execution_count": null,
   "metadata": {},
   "outputs": [],
   "source": [
    "from pizza import *\n",
    "make_pizza('medium', 'pepperoni')\n",
    "make_pizza('small', 'bacon', 'pineapple')"
   ]
  },
  {
   "cell_type": "markdown",
   "metadata": {},
   "source": [
    "However, this should be used rarely, if at all, since these may overwrite function names that you do not intend to overwrite, and the implicitness of the statement makes it difficult to determine what has changed.\n",
    "\n",
    "For example, Python has a built-in ``sum`` function that can be used for various operations:"
   ]
  },
  {
   "cell_type": "code",
   "execution_count": null,
   "metadata": {},
   "outputs": [],
   "source": [
    "help(sum)"
   ]
  },
  {
   "cell_type": "markdown",
   "metadata": {},
   "source": [
    "We can use this to compute the sum of a sequence, starting with a certain value (here, we'll start with ``-1``):"
   ]
  },
  {
   "cell_type": "code",
   "execution_count": null,
   "metadata": {},
   "outputs": [],
   "source": [
    "sum(range(5), -1)"
   ]
  },
  {
   "cell_type": "markdown",
   "metadata": {},
   "source": [
    "Now observe what happens if we make the *exact same function call* after importing ``*`` from ``numpy``:"
   ]
  },
  {
   "cell_type": "code",
   "execution_count": null,
   "metadata": {},
   "outputs": [],
   "source": [
    "from numpy import *"
   ]
  },
  {
   "cell_type": "code",
   "execution_count": null,
   "metadata": {},
   "outputs": [],
   "source": [
    "sum(range(5), -1)"
   ]
  },
  {
   "cell_type": "markdown",
   "metadata": {},
   "source": [
    "The result is off by one!\n",
    "The reason for this is that the ``import *`` statement *replaces* the built-in ``sum`` function with the ``numpy.sum`` function, which has a different call signature: in the former, we're summing ``range(5)`` starting at ``-1``; in the latter, we're summing ``range(5)`` along the last axis (indicated by ``-1``).\n",
    "\n",
    "This is the type of situation that may arise if care is not taken when using \"``import *``\" – for this reason, it is best to avoid this unless you know exactly what you are doing."
   ]
  },
  {
   "cell_type": "markdown",
   "metadata": {},
   "source": [
    "## Variables in a Module\n",
    "\n",
    "The module can contain functions, as already described, but also variables of all types (arrays, dictionaries, objects etc). E.g., save the code below to the `pizza.py` module:"
   ]
  },
  {
   "cell_type": "code",
   "execution_count": null,
   "metadata": {},
   "outputs": [],
   "source": [
    "buyer = {\n",
    "  \"name\": \"John\",\n",
    "  \"age\": 25,\n",
    "  \"country\": \"London\"\n",
    "} "
   ]
  },
  {
   "cell_type": "code",
   "execution_count": null,
   "metadata": {},
   "outputs": [],
   "source": [
    "import pizza\n",
    "a = mymodule.buyer[\"age\"]\n",
    "print(a) "
   ]
  },
  {
   "cell_type": "markdown",
   "metadata": {},
   "source": [
    "## Module Contents\n",
    "`dir()` lists all of the defined names belonging to the input module:"
   ]
  },
  {
   "cell_type": "code",
   "execution_count": null,
   "metadata": {
    "scrolled": true
   },
   "outputs": [],
   "source": [
    "dir(math)"
   ]
  },
  {
   "cell_type": "markdown",
   "metadata": {},
   "source": [
    "## The Module Search Path\n",
    "Continuing with the above example, let’s take a look at what happens when Python executes the statement:"
   ]
  },
  {
   "cell_type": "code",
   "execution_count": null,
   "metadata": {},
   "outputs": [],
   "source": [
    "import pizza"
   ]
  },
  {
   "cell_type": "markdown",
   "metadata": {},
   "source": [
    "When the interpreter executes the above import statement, it searches for `pizza.py` in a list of directories assembled from the following sources:\n",
    "\n",
    "- The directory from which the input script was run or the current directory if the interpreter is being run interactively.\n",
    "- The list of directories contained in the `PYTHONPATH` environment variable, if it is set. (The format for `PYTHONPATH` is OS-dependent but should mimic the `PATH` environment variable.)\n",
    "- An installation-dependent list of directories configured at the time Python is installed.\n",
    "\n",
    "The resulting search path is accessible in the Python variable `pizza.path`, which is obtained from a module named `os`:"
   ]
  },
  {
   "cell_type": "code",
   "execution_count": null,
   "metadata": {},
   "outputs": [],
   "source": [
    "pizza.path"
   ]
  },
  {
   "cell_type": "markdown",
   "metadata": {},
   "source": [
    "**Note:** The exact contents of os.path are installation-dependent, so they will almost certainly look different on your computer."
   ]
  },
  {
   "cell_type": "markdown",
   "metadata": {},
   "source": [
    "Thus, to ensure your module is found, you need to do one of the following:\n",
    "\n",
    "- Put `pizza.py` in the directory where the input script is located or the current directory, if interactive.\n",
    "- Modify the `PYTHONPATH` environment variable to contain the directory where `pizza.py` is located before starting the interpreter or put `pizza.py` in one of the directories already contained in the PYTHONPATH variable.\n",
    "- Put `pizza.py` in one of the installation-dependent directories, which you may or may not have write-access to, depending on the OS\n"
   ]
  },
  {
   "cell_type": "markdown",
   "metadata": {},
   "source": [
    "Once a module has been imported, you can determine the location where it was found with the module’s `__file__` attribute:"
   ]
  },
  {
   "cell_type": "code",
   "execution_count": null,
   "metadata": {},
   "outputs": [],
   "source": [
    "pizza.__file__"
   ]
  },
  {
   "cell_type": "code",
   "execution_count": null,
   "metadata": {},
   "outputs": [],
   "source": [
    "os.__file__"
   ]
  },
  {
   "cell_type": "markdown",
   "metadata": {},
   "source": [
    "## Executing a Module as a Script\n",
    "Any `.py` file that contains a **module** is essentially also a Python **script**. Let's say we define a `module.py` having the following code:"
   ]
  },
  {
   "cell_type": "code",
   "execution_count": null,
   "metadata": {},
   "outputs": [],
   "source": [
    "s = \"I will meet you on the dark side of the moon.\"\n",
    "a = [100, 200, 300]\n",
    "\n",
    "def func(arg):\n",
    "    print(f'arg = {arg}')"
   ]
  },
  {
   "cell_type": "markdown",
   "metadata": {},
   "source": [
    "Now, this can be run as a script:\n",
    "\n",
    "    C:\\Users\\povilas\\Desktop\\CA_AI_2020>python mod.py\n",
    "    C:\\Users\\povilas\\Desktop\\CA_AI_2020>\n",
    "\n",
    "If there are no errors, it must have worked. However, it only defines an object and does not do anything with it nor it generates any output.\n",
    "\n",
    "Let's modify it:"
   ]
  },
  {
   "cell_type": "code",
   "execution_count": null,
   "metadata": {},
   "outputs": [],
   "source": [
    "s = \"I will meet you on the dark side of the moon.\"\n",
    "a = [100, 200, 300]\n",
    "\n",
    "def func(arg):\n",
    "    print(f'arg = {arg}')\n",
    "    \n",
    "print(s)\n",
    "print(a)\n",
    "func('quux')"
   ]
  },
  {
   "cell_type": "markdown",
   "metadata": {},
   "source": [
    "However, now it also generates output when it is imported:\n",
    "    \n",
    "    >>> import mod"
   ]
  },
  {
   "cell_type": "markdown",
   "metadata": {},
   "source": [
    "When a `.py` file is imported as a module, Python sets the special dunder variable `__name__` to the name of the module. However, if a file is run as a standalone script, `__name__` is (creatively) set to the string `'__main__'`. Using this fact, you can distinguish between when the file is loaded as a module and when it is run as a standalone script at run-time (and alter behavior accordingly):"
   ]
  },
  {
   "cell_type": "code",
   "execution_count": null,
   "metadata": {},
   "outputs": [],
   "source": [
    "s = \"I will meet you on the dark side of the moon.\"\n",
    "a = [100, 200, 300]\n",
    "\n",
    "def func(arg):\n",
    "    print(f'arg = {arg}')\n",
    "\n",
    "if __name__ == '__main__':\n",
    "    print('Executing as standalone script')\n",
    "    print(s)\n",
    "    print(a)\n",
    "    foo('quux')"
   ]
  },
  {
   "cell_type": "markdown",
   "metadata": {},
   "source": [
    "Now try running the script and importing it as a module again like previously and you will see that its behaviour has changed. Let's see another example using a function that you have met previously `factorial` (add the following code to a file `factorial.py`):"
   ]
  },
  {
   "cell_type": "code",
   "execution_count": null,
   "metadata": {},
   "outputs": [],
   "source": [
    "def factorial(n):\n",
    "    return 1 if n == 1 else n * fact(n-1)\n",
    "\n",
    "if __name__ == '__main__':\n",
    "    import sys\n",
    "    if len(sys.argv) > 1:\n",
    "        print(fact(int(sys.argv[1])))"
   ]
  },
  {
   "cell_type": "markdown",
   "metadata": {},
   "source": [
    "Now, the `factorial()` can be imported as a module (including it's functions):"
   ]
  },
  {
   "cell_type": "code",
   "execution_count": null,
   "metadata": {},
   "outputs": [],
   "source": [
    "from factorial import factorial"
   ]
  },
  {
   "cell_type": "markdown",
   "metadata": {},
   "source": [
    "As well as capable of being run standalone by passing an integer argument on the command-line for testing:\n",
    "\n",
    "    C:\\Users\\povilas\\Desktop\\CA_AI_2020>python factorial.py 6\n"
   ]
  },
  {
   "cell_type": "markdown",
   "metadata": {},
   "source": [
    "## Reloading a Module\n",
    "For reasons of efficiency, a module is only loaded once per interpreter session. That is fine for function and class definitions, which typically make up the bulk of a module’s contents. But a module can contain executable statements as well, usually for initialization. Be aware that these statements will only be executed the first time a module is imported."
   ]
  },
  {
   "cell_type": "markdown",
   "metadata": {},
   "source": [
    "`mod.py`\n",
    "\n",
    "    a = [100, 200, 300]\n",
    "    print('a =', a)"
   ]
  },
  {
   "cell_type": "code",
   "execution_count": null,
   "metadata": {},
   "outputs": [],
   "source": [
    "import mod"
   ]
  },
  {
   "cell_type": "code",
   "execution_count": null,
   "metadata": {},
   "outputs": [],
   "source": []
  },
  {
   "cell_type": "code",
   "execution_count": null,
   "metadata": {},
   "outputs": [],
   "source": [
    "import mod"
   ]
  },
  {
   "cell_type": "code",
   "execution_count": null,
   "metadata": {},
   "outputs": [],
   "source": [
    "mod.a"
   ]
  },
  {
   "cell_type": "markdown",
   "metadata": {},
   "source": [
    "The `print()` statement gets executed only once (not on subsequent imports). However, displaying the value of `mod.a` we can see that it still gets assigned and kept. \n",
    "\n",
    "If you make a change to a module and need to reload i, you either need to restart the interpreter, or use a function called `reload()` from the module `importlib`:"
   ]
  },
  {
   "cell_type": "code",
   "execution_count": null,
   "metadata": {},
   "outputs": [],
   "source": [
    "import importlib"
   ]
  },
  {
   "cell_type": "code",
   "execution_count": null,
   "metadata": {},
   "outputs": [],
   "source": [
    "importlib.reload(mod)"
   ]
  },
  {
   "attachments": {
    "image.png": {
     "image/png": "[encoded data removed]"
    }
   },
   "cell_type": "markdown",
   "metadata": {},
   "source": [
    "# Packages \n",
    "Suppose you have developed a very large application that includes many modules. As the number of modules grows, it becomes difficult to keep track of them all if they are dumped into one location. This is particularly so if they have similar names or functionality. You might wish for a means of grouping and organizing them.\n",
    "\n",
    "**Packages** allow for a hierarchical structuring of the module namespace using **dot notation**. In the same way that **modules** help avoid collisions between global variable names, **packages** help avoid collisions between module names.\n",
    "\n",
    "Creating a **package** is quite straightforward, since it makes use of the operating system’s inherent hierarchical file structure:\n",
    "\n",
    "![image.png](attachment:image.png)\n",
    "\n",
    "There is a directory named `pkg` that contains two modules, `mod1.py` and `mod2.py`.\n",
    "\n",
    "Given that `pkg` directory resides in a location where it can be gound (e.g., in one of the directories contained in `sys.path`), you can refer to these 2 modules with dot notation (`pkg.mod1`, `pkg.mod2`) and import them with:\n",
    "\n",
    "    import <module_name>[, <module_name> ...]"
   ]
  },
  {
   "cell_type": "code",
   "execution_count": null,
   "metadata": {},
   "outputs": [],
   "source": [
    "import pkg.mod1, pkg.mod2"
   ]
  },
  {
   "cell_type": "code",
   "execution_count": null,
   "metadata": {},
   "outputs": [],
   "source": [
    "# pkg.mod1...."
   ]
  },
  {
   "cell_type": "code",
   "execution_count": null,
   "metadata": {},
   "outputs": [],
   "source": [
    "# pkg.mod2....."
   ]
  },
  {
   "cell_type": "markdown",
   "metadata": {},
   "source": [
    "    from <module_name> import <name(s)>"
   ]
  },
  {
   "cell_type": "code",
   "execution_count": null,
   "metadata": {},
   "outputs": [],
   "source": []
  },
  {
   "cell_type": "markdown",
   "metadata": {},
   "source": [
    "    from <module_name> import <name> as <alt_name>"
   ]
  },
  {
   "cell_type": "code",
   "execution_count": null,
   "metadata": {},
   "outputs": [],
   "source": []
  },
  {
   "cell_type": "markdown",
   "metadata": {},
   "source": [
    "    from <package_name> import <modules_name>[, <module_name> ...]\n",
    "    from <package_name> import <module_name> as <alt_name>"
   ]
  },
  {
   "cell_type": "code",
   "execution_count": null,
   "metadata": {},
   "outputs": [],
   "source": []
  },
  {
   "cell_type": "markdown",
   "metadata": {},
   "source": [
    "    import <package_name>\n",
    "    \n",
    "Is also possible, but it does not place any of the package modules into the local namespace."
   ]
  },
  {
   "cell_type": "markdown",
   "metadata": {},
   "source": [
    "## Package Initialization\n",
    "If a file named `__init__.py` is present in a package directory, it is invoked when the package or a module in the package is imported. This can be used for execution of package initialization code, such as initialization of package-level data.\n",
    "\n",
    "For example, consider the following `__init__.py` file:\n",
    "\n",
    "    `__init__.py`"
   ]
  },
  {
   "cell_type": "code",
   "execution_count": null,
   "metadata": {},
   "outputs": [],
   "source": [
    "print(f'Invoking __init__.py for {__name__}')\n",
    "A = ['quux', 'corge', 'grault']"
   ]
  },
  {
   "attachments": {
    "image.png": {
     "image/png": "[encoded data removed]"
    }
   },
   "cell_type": "markdown",
   "metadata": {},
   "source": [
    "Let’s add this file to the pkg directory from the above example:\n",
    "\n",
    "![image.png](attachment:image.png)\n"
   ]
  },
  {
   "cell_type": "markdown",
   "metadata": {},
   "source": [
    "Now when the package is imported, global list `A` defined above is initialized, and this can be accessed by the usual import:\n",
    "\n",
    "`mod1.py`"
   ]
  },
  {
   "cell_type": "code",
   "execution_count": null,
   "metadata": {},
   "outputs": [],
   "source": [
    "def foo():\n",
    "    from pkg import A\n",
    "    print('[mod1] foo() / A = ', A)"
   ]
  },
  {
   "cell_type": "markdown",
   "metadata": {},
   "source": [
    "`__init__.py` can also be used to effect automatic importing of modules from a package. For example, earlier you saw that the statement `import pkg` only places the name pkg in the caller’s local symbol table and doesn’t import any modules. But if `__init__.py` in the `pkg` directory contains the following:\n",
    "\n",
    "`__init__.py`"
   ]
  },
  {
   "cell_type": "code",
   "execution_count": null,
   "metadata": {},
   "outputs": [],
   "source": [
    "print(f'Invoking __init__.py for {__name__}')\n",
    "import pkg.mod1, pkg.mod2"
   ]
  },
  {
   "cell_type": "code",
   "execution_count": null,
   "metadata": {},
   "outputs": [],
   "source": [
    "import pkg"
   ]
  },
  {
   "cell_type": "code",
   "execution_count": null,
   "metadata": {},
   "outputs": [],
   "source": [
    "pkg.mod1"
   ]
  },
  {
   "cell_type": "code",
   "execution_count": null,
   "metadata": {},
   "outputs": [],
   "source": [
    "pkg.mod2"
   ]
  },
  {
   "cell_type": "markdown",
   "metadata": {},
   "source": [
    "**N.B.**: Much of the Python documentation states that an __init__.py file must be present in the package directory when creating a package, but this is not true anymore. It used to be that the very presence of __init__.py signified to Python that a package was being defined. The file could contain initialization code or even be empty, but it had to be present.\n",
    "\n",
    "Starting with Python 3.3, Implicit Namespace Packages were introduced. These allow for the creation of a package without any __init__.py file. Of course, it can still be present if package initialization is needed. "
   ]
  },
  {
   "attachments": {
    "image.png": {
     "image/png": "[encoded data removed]"
    }
   },
   "cell_type": "markdown",
   "metadata": {},
   "source": [
    "## Importing * From a Package\n",
    "For the purposes of the following discussion, the previously defined package is expanded to contain some additional modules:\n",
    "\n",
    "![image.png](attachment:image.png)\n",
    "\n",
    "There are now four modules defined in the pkg directory. Their contents are as shown below:\n",
    "\n",
    "\n",
    "`mod1.py`\n",
    "\n",
    "    def foo():\n",
    "        print('[mod1] foo()')\n",
    "\n",
    "    class Foo:\n",
    "        pass\n",
    "\n",
    "`mod2.py`\n",
    "\n",
    "    def bar():\n",
    "        print('[mod2] bar()')\n",
    "\n",
    "    class Bar:\n",
    "        pass\n",
    "\n",
    "`mod3.py`\n",
    "\n",
    "    def baz():\n",
    "        print('[mod3] baz()')\n",
    "\n",
    "    class Baz:\n",
    "        pass\n",
    "\n",
    "`mod4.py`\n",
    "\n",
    "    def qux():\n",
    "        print('[mod4] qux()')\n",
    "\n",
    "    class Qux:\n",
    "        pass\n",
    "        \n",
    "You have already seen that when `import *` is used for a **module**, *all* objects from the module are imported into the local symbol table, except those whose names begin with an underscore, as always:"
   ]
  },
  {
   "cell_type": "code",
   "execution_count": null,
   "metadata": {
    "scrolled": true
   },
   "outputs": [],
   "source": [
    "dir()"
   ]
  },
  {
   "cell_type": "code",
   "execution_count": null,
   "metadata": {},
   "outputs": [],
   "source": [
    "from pkg.mod3 import *"
   ]
  },
  {
   "cell_type": "code",
   "execution_count": null,
   "metadata": {},
   "outputs": [],
   "source": [
    "dir()"
   ]
  },
  {
   "cell_type": "code",
   "execution_count": null,
   "metadata": {},
   "outputs": [],
   "source": [
    "baz()"
   ]
  },
  {
   "cell_type": "code",
   "execution_count": null,
   "metadata": {},
   "outputs": [],
   "source": [
    "Baz"
   ]
  },
  {
   "cell_type": "markdown",
   "metadata": {},
   "source": [
    "The analogous statement for a **package** is this:\n",
    "\n",
    "        from <package_name> import *\n",
    "        \n",
    "Let's try this:"
   ]
  },
  {
   "cell_type": "code",
   "execution_count": null,
   "metadata": {},
   "outputs": [],
   "source": [
    "dir()"
   ]
  },
  {
   "cell_type": "code",
   "execution_count": null,
   "metadata": {},
   "outputs": [],
   "source": [
    "from pkg import *"
   ]
  },
  {
   "cell_type": "code",
   "execution_count": null,
   "metadata": {},
   "outputs": [],
   "source": [
    "dir()"
   ]
  },
  {
   "cell_type": "markdown",
   "metadata": {},
   "source": [
    "Hmm...Nothing really happens, whilst you might have expected that Python would dive down into the package directory, find all the modules, and import them. By default that is not what happens.\n",
    "\n",
    "Instead, Python follows this convention: \n",
    "\n",
    "If the `__init__.py` file in the package directory contains a list named `__all__`, it is taken to be a list of modules that should be imported when the statement from `<package_name> import *` is encountered.\n",
    "\n",
    "For the present example, suppose you create an `__init__.py` in the `pkg` directory like this:\n",
    "\n",
    "\n",
    "`pkg/__init__.py`\n",
    "\n",
    "    __all__ = [\n",
    "            'mod1',\n",
    "            'mod2',\n",
    "            'mod3',\n",
    "            'mod4'\n",
    "            ]\n",
    "\n",
    "Now try the previous import statement:"
   ]
  },
  {
   "cell_type": "code",
   "execution_count": null,
   "metadata": {},
   "outputs": [],
   "source": [
    "dir()"
   ]
  },
  {
   "cell_type": "code",
   "execution_count": null,
   "metadata": {},
   "outputs": [],
   "source": [
    "from pkg import *"
   ]
  },
  {
   "cell_type": "code",
   "execution_count": null,
   "metadata": {},
   "outputs": [],
   "source": [
    "dir()"
   ]
  },
  {
   "cell_type": "code",
   "execution_count": null,
   "metadata": {},
   "outputs": [],
   "source": [
    "mod2.bar()"
   ]
  },
  {
   "cell_type": "code",
   "execution_count": null,
   "metadata": {},
   "outputs": [],
   "source": [
    "mod4.Qux"
   ]
  },
  {
   "cell_type": "markdown",
   "metadata": {},
   "source": [
    "Using `import *` still isn’t considered terrific form, any more for packages than for modules. But this facility at least gives the creator of the package some control over what happens when `import *` is specified. In fact, it provides the capability to disallow it entirely, simply by declining to define __all__ at all. As you have seen, the default behavior for packages is to import nothing.\n",
    "\n",
    "By the way, `__all__` can be defined in a module as well and serves the same purpose: to control what is imported with `import *`. For example, modify `mod1.py` as follows:\n",
    "\n",
    "\n",
    "`pkg/mod1.py`\n",
    "\n",
    "    __all__ = ['foo']\n",
    "\n",
    "    def foo():\n",
    "        print('[mod1] foo()')\n",
    "\n",
    "    class Foo:\n",
    "        pass\n",
    "        \n",
    "Now an `import *` statement `from pkg.mod1` will only import what is contained in `__all__`:"
   ]
  },
  {
   "cell_type": "code",
   "execution_count": null,
   "metadata": {},
   "outputs": [],
   "source": [
    "dir()"
   ]
  },
  {
   "cell_type": "code",
   "execution_count": null,
   "metadata": {},
   "outputs": [],
   "source": [
    "from pkg.mod1 import *"
   ]
  },
  {
   "cell_type": "code",
   "execution_count": null,
   "metadata": {},
   "outputs": [],
   "source": [
    "dir()"
   ]
  },
  {
   "cell_type": "code",
   "execution_count": null,
   "metadata": {},
   "outputs": [],
   "source": [
    "foo()"
   ]
  },
  {
   "cell_type": "code",
   "execution_count": null,
   "metadata": {},
   "outputs": [],
   "source": [
    "Foo"
   ]
  },
  {
   "cell_type": "markdown",
   "metadata": {},
   "source": [
    "`foo()` (the function) is now defined in the local namespace, but Foo (the class) is not, because the latter is not in `__all__`.\n",
    "\n",
    "In summary, `__all__` is used by both **packages** and **modules** to control what is imported when `import *` is specified. But the default behavior differs:\n",
    "\n",
    "    For a package, when __all__ is not defined, import * does not import anything.\n",
    "    For a module, when __all__ is not defined, import * imports everything (except—you guessed it—names starting with an underscore)."
   ]
  },
  {
   "cell_type": "markdown",
   "metadata": {},
   "source": [
    "## Subpackages\n",
    "Packages can contain nested **subpackages** to arbitrary depth. For example, let’s make one more modification to the example **package** directory as follows:\n",
    "\n",
    "`pkg`\n",
    "\n",
    "    `sub_pkg1`\n",
    "        mod1.py\n",
    "        mod2.py\n",
    "     \n",
    "     `sub_pkg2`\n",
    "        mod3.py\n",
    "        mod4.py \n",
    "        \n",
    "Importing still works the same as shown previously. Syntax is similar, but additional **dot notation** is used to separate **package** name from **subpackage** name:"
   ]
  },
  {
   "cell_type": "code",
   "execution_count": null,
   "metadata": {},
   "outputs": [],
   "source": [
    "import pkg.sub_pkg1.mod1"
   ]
  },
  {
   "cell_type": "code",
   "execution_count": null,
   "metadata": {},
   "outputs": [],
   "source": [
    "pkg.sub_pkg1.mod1.foo()"
   ]
  },
  {
   "cell_type": "code",
   "execution_count": null,
   "metadata": {},
   "outputs": [],
   "source": [
    "from pkg.sub_pkg1 import mod2"
   ]
  },
  {
   "cell_type": "code",
   "execution_count": null,
   "metadata": {},
   "outputs": [],
   "source": [
    "mod2.bar()"
   ]
  },
  {
   "cell_type": "code",
   "execution_count": null,
   "metadata": {},
   "outputs": [],
   "source": [
    "from pkg.sub_pkg2.mod3 import baz"
   ]
  },
  {
   "cell_type": "code",
   "execution_count": null,
   "metadata": {},
   "outputs": [],
   "source": [
    "baz()"
   ]
  },
  {
   "cell_type": "code",
   "execution_count": null,
   "metadata": {},
   "outputs": [],
   "source": [
    "from pkg.sub_pkg2.mod4 import qux as grault"
   ]
  },
  {
   "cell_type": "code",
   "execution_count": null,
   "metadata": {},
   "outputs": [],
   "source": [
    "grault()"
   ]
  },
  {
   "cell_type": "markdown",
   "metadata": {},
   "source": [
    "In addition, a module in one **subpackage** can reference objects in a **sibling** **subpackage** (in the event that the sibling contains some functionality that you need). For example, suppose you want to import and execute function `foo()` (defined in module `mod1`) from within module `mod3`. You can either use an **absolute import**:\n",
    "\n",
    "`pkg/sub__pkg2/mod3.py`\n",
    "\n",
    "    def baz():\n",
    "        print('[mod3] baz()')\n",
    "\n",
    "    class Baz:\n",
    "        pass\n",
    "\n",
    "    from pkg.sub_pkg1.mod1 import foo\n",
    "    foo()\n"
   ]
  },
  {
   "cell_type": "code",
   "execution_count": null,
   "metadata": {},
   "outputs": [],
   "source": [
    "from pkg.sub_pkg2 import mod3"
   ]
  },
  {
   "cell_type": "code",
   "execution_count": null,
   "metadata": {},
   "outputs": [],
   "source": [
    "mod3.foo()"
   ]
  },
  {
   "cell_type": "markdown",
   "metadata": {},
   "source": [
    "Or you can use a **relative import**, where `..` refers to the package one level up. From within `mod3.py`, which is in subpackage `sub_pkg2`,\n",
    "\n",
    "    .. evaluates to the parent package (pkg), and\n",
    "    ..sub_pkg1 evaluates to subpackage sub_pkg1 of the parent package.\n",
    "\n",
    "`pkg/sub__pkg2/mod3.py`\n",
    "\n",
    "    def baz():\n",
    "        print('[mod3] baz()')\n",
    "\n",
    "    class Baz:\n",
    "        pass\n",
    "\n",
    "    from .. import sub_pkg1\n",
    "    print(sub_pkg1)\n",
    "\n",
    "    from ..sub_pkg1.mod1 import foo\n",
    "    foo()\n",
    "\n"
   ]
  },
  {
   "cell_type": "code",
   "execution_count": null,
   "metadata": {},
   "outputs": [],
   "source": [
    "from pkg.sub_pkg2 import mod3"
   ]
  },
  {
   "cell_type": "markdown",
   "metadata": {},
   "source": [
    "For more info about Python Modules & Packages, check this [Real Python Tutorial](https://realpython.com/python-modules-packages/), from which a large amount of the presented material was taken."
   ]
  }
 ],
 "metadata": {
  "kernelspec": {
   "display_name": "Python 3",
   "language": "python",
   "name": "python3"
  },
  "language_info": {
   "codemirror_mode": {
    "name": "ipython",
    "version": 3
   },
   "file_extension": ".py",
   "mimetype": "text/x-python",
   "name": "python",
   "nbconvert_exporter": "python",
   "pygments_lexer": "ipython3",
   "version": "3.7.2"
  }
 },
 "nbformat": 4,
 "nbformat_minor": 2
}
