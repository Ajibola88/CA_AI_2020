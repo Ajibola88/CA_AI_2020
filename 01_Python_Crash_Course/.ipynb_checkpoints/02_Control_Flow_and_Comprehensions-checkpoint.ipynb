{
 "cells": [
  {
   "cell_type": "markdown",
   "metadata": {},
   "source": [
    "_____\n",
    "# 02. Python Control Flow\n",
    "_____\n",
    "Certain code blocks conditionally and/or repeatedly, and such control flow allows to create surprisingly sophisticate programs. The following notebook will cover these Python control flow topics:\n",
    "- `input()`\n",
    "- *conditional statements* (including \"``if``\", \"``elif``\", and \"``else``\")\n",
    "- *loop statements* (including \"``for``\" and \"``while``\")\n",
    "- accompanying statements, such as ``break``\", \"``continue``\", and \"``pass``\".\n",
    "_____\n",
    "Go through the notebook, play around with the cells and their outputs, attempt to complete the exercises."
   ]
  },
  {
   "cell_type": "markdown",
   "metadata": {},
   "source": [
    "## User inputs with `input()` \n",
    "Essentially, allows to pass a value to some variable via user inputting."
   ]
  },
  {
   "cell_type": "code",
   "execution_count": null,
   "metadata": {},
   "outputs": [],
   "source": [
    "my_name = input(\"What is your name? \")"
   ]
  },
  {
   "cell_type": "code",
   "execution_count": null,
   "metadata": {},
   "outputs": [],
   "source": [
    "secret_key = input(\"Enter the key \")"
   ]
  },
  {
   "cell_type": "markdown",
   "metadata": {},
   "source": [
    "### `Exercise 1 - Input Formatting`\n",
    "Write a one-liner, which:\n",
    "- Gets the user's first name, last name, and age via `input()`.\n",
    "- Formats these values to a nice-looking strings.\n",
    "- Prints out the string."
   ]
  },
  {
   "cell_type": "code",
   "execution_count": null,
   "metadata": {},
   "outputs": [],
   "source": [
    "print(f'Your name is {input(\"First name: \")} {input(\"Last name: \")}. You are {input(\"Age: \")} years old.')"
   ]
  },
  {
   "cell_type": "markdown",
   "metadata": {},
   "source": [
    "## Conditional Statements: ``if``-``elif``-``else``:\n",
    "Conditional statements, often referred to as *if-then* statements, allow the programmer to execute certain pieces of code depending on some Boolean condition. A basic example of a Python conditional statement is this:"
   ]
  },
  {
   "cell_type": "code",
   "execution_count": null,
   "metadata": {},
   "outputs": [],
   "source": [
    "x = -15\n",
    "\n",
    "if x == 0:\n",
    "    print(x, \"is zero\")\n",
    "elif x > 0:\n",
    "    print(x, \"is positive\")\n",
    "elif x < 0:\n",
    "    print(x, \"is negative\")\n",
    "else:\n",
    "    print(x, \"is unlike anything I've ever seen...\")"
   ]
  },
  {
   "cell_type": "markdown",
   "metadata": {},
   "source": [
    "Note the use of colons (``:``) and whitespace to denote separate blocks of code.\n",
    "\n",
    "Python adopts the ``if`` and ``else`` often used in other languages; its more unique keyword is ``elif``, a contraction of \"else if\". In these conditional clauses, ``elif`` and ``else`` blocks are optional, you can include as many/few as you like;"
   ]
  },
  {
   "cell_type": "markdown",
   "metadata": {},
   "source": [
    "## `for` loops\n",
    "Loops in Python are a way to repeatedly execute some code statement, and the `for` loop is arguably the simplest. To be specific, we only have to specify the variable we want to use, the sequence we want to loop over, and use the \"``in``\" operator to link them together in an intuitive and readable way.\n",
    "\n",
    "E.g., to print each of the items in a list:"
   ]
  },
  {
   "cell_type": "code",
   "execution_count": null,
   "metadata": {},
   "outputs": [],
   "source": [
    "seq = [20, 23, 26, 29, 32, 35, 38]\n",
    "for x in seq:\n",
    "    print(x)"
   ]
  },
  {
   "cell_type": "markdown",
   "metadata": {},
   "source": [
    "More precisely, the object to the right of the \"``in``\" can be any Python *iterator*, which can be thought of as of a generalized sequence (for more info, check [iterators](10-Iterators.ipynb). For example, one of the most commonly-used iterators in Python is the ``range`` object discussed earlier (generates a sequence of numbers). "
   ]
  },
  {
   "cell_type": "markdown",
   "metadata": {},
   "source": [
    "### `Exercise 2 - Sequence & Indices`\n",
    "Print `seq` items with their indices, e.g.:\n",
    "\n",
    "    Index: 0\tValue: 20\n",
    "    Index: 1\tValue: 23\n",
    "    ..."
   ]
  },
  {
   "cell_type": "code",
   "execution_count": null,
   "metadata": {},
   "outputs": [],
   "source": [
    "# index = 0\n",
    "# for value in seq:\n",
    "#     print(f'Index: {index}\\tValue: {value}')\n",
    "#     index += 1"
   ]
  },
  {
   "cell_type": "code",
   "execution_count": null,
   "metadata": {},
   "outputs": [],
   "source": [
    "# for index, value in enumerate(seq):\n",
    "#     print(f'Index: {index}\\tValue: {value}')"
   ]
  },
  {
   "cell_type": "markdown",
   "metadata": {},
   "source": [
    "### `Exercise 3 - Err...Multiplication Table?...What for?`\n",
    "Write a Python program to create the multiplication table (from 1 to 10) of a single number given by `input()`. Expected Output:\n",
    "\n",
    "    Input a number: 6                                                       \n",
    "    6 x 1 = 6                                                               \n",
    "    6 x 2 = 12                                                              \n",
    "    6 x 3 = 18                                                              \n",
    "    6 x 4 = 24                                                              \n",
    "    6 x 5 = 30                                                              \n",
    "    6 x 6 = 36                                                              \n",
    "    6 x 7 = 42                                                              \n",
    "    6 x 8 = 48                                                              \n",
    "    6 x 9 = 54                                                              \n",
    "    6 x 10 = 60 "
   ]
  },
  {
   "cell_type": "code",
   "execution_count": null,
   "metadata": {},
   "outputs": [],
   "source": [
    "n = int(input('Input a number: '))\n",
    "for i in range(1,11):\n",
    "    print(f'{n} x {i} =', n*i)"
   ]
  },
  {
   "cell_type": "markdown",
   "metadata": {},
   "source": [
    "### `Exercise 4 - Err...Multiplication Table?...Again?`\n",
    "Using `for` and what you've learnt about Python printing, recreate the full multiplication table (from 1 to 10).\n",
    "\n",
    "    1   2   3   4 ..                                                \n",
    "    2   4   6   8 ..\n",
    "    3   6   9 ......  \n",
    "    4   ............\n",
    "    5   ............\n",
    "    ................\n"
   ]
  },
  {
   "cell_type": "code",
   "execution_count": null,
   "metadata": {},
   "outputs": [],
   "source": [
    "for x in range(1,11):\n",
    "    print('\\n')\n",
    "    for y in range(1,11):\n",
    "        print(x*y, end = '\\t')"
   ]
  },
  {
   "cell_type": "markdown",
   "metadata": {},
   "source": [
    "## ``break`` and ``continue``: Fine-Tuning Your Loops\n",
    "There are two useful statements that can be used within loops to fine-tune how they are executed:\n",
    "\n",
    "- The ``break`` statement breaks-out of the loop entirely\n",
    "- The ``continue`` statement skips the remainder of the current loop, and goes to the next iteration\n",
    "\n",
    "These can be used in both ``for`` and ``while`` loops."
   ]
  },
  {
   "cell_type": "code",
   "execution_count": null,
   "metadata": {},
   "outputs": [],
   "source": [
    "for something in seq:\n",
    "    print(something + something)\n",
    "    if something + something == 52:\n",
    "        break"
   ]
  },
  {
   "cell_type": "code",
   "execution_count": null,
   "metadata": {},
   "outputs": [],
   "source": [
    "for x in seq:\n",
    "    if x ** 2 < 900: \n",
    "        continue\n",
    "    print(x)"
   ]
  },
  {
   "cell_type": "code",
   "execution_count": null,
   "metadata": {},
   "outputs": [],
   "source": [
    "for x in seq: print(x)"
   ]
  },
  {
   "cell_type": "code",
   "execution_count": null,
   "metadata": {},
   "outputs": [],
   "source": [
    "for x in seq:\n",
    "    print(x)\n",
    "else:\n",
    "    print('All done!')"
   ]
  },
  {
   "cell_type": "code",
   "execution_count": null,
   "metadata": {},
   "outputs": [],
   "source": [
    "for x in seq:\n",
    "    print(x)\n",
    "    if x == 26:\n",
    "        print('Oh no! We encountered 26!')\n",
    "        break\n",
    "else:\n",
    "    print('All done!')"
   ]
  },
  {
   "cell_type": "code",
   "execution_count": null,
   "metadata": {},
   "outputs": [],
   "source": [
    "# Buil-in library import\n",
    "import random\n",
    "\n",
    "# Define the haystack size and choose a secret index at which the needle may appear\n",
    "haystack_length = 1000\n",
    "haystack = [0] * haystack_length\n",
    "secret_index = random.randint(0, haystack_length - 1)\n",
    "\n",
    "# Needle appears within the secret haystack index randomly (coin flip)\n",
    "if random.random() > 0.5:\n",
    "    haystack[secret_index] = 1\n",
    "\n",
    "for i, x in enumerate(haystack):\n",
    "    if x:\n",
    "        print(f'Needle\\'s position in the haystack is {i}')\n",
    "        break\n",
    "\n",
    "# else clause happens if no break was encountered\n",
    "else:\n",
    "    print('Needle is not in the haystack')"
   ]
  },
  {
   "cell_type": "code",
   "execution_count": null,
   "metadata": {},
   "outputs": [],
   "source": [
    "x = 1, 4, 10, -10\n",
    "the_sum = 0\n",
    "\n",
    "for value in x:\n",
    "#     the_sum += value\n",
    "    the_sum = the_sum + value\n",
    "    \n",
    "the_sum"
   ]
  },
  {
   "cell_type": "code",
   "execution_count": null,
   "metadata": {},
   "outputs": [],
   "source": [
    "for c in 'My favourite color is blue':\n",
    "    if c in 'color':\n",
    "        print(\"c is in the string color\")\n",
    "    elif c in ['f', 'b']:\n",
    "        print(\"c is either f or b\")\n",
    "        print(c)"
   ]
  },
  {
   "cell_type": "markdown",
   "metadata": {},
   "source": [
    "### `Exercise 5 - Palindrome`\n",
    "Write a python program that checks if the `input()` string is a **palindrome** - word, number, phrase, or other sequence of characters which reads the same backward as forward, e.g.: madam, bob, 12121.\n",
    "\n",
    "    Input string: abc\n",
    "    \n",
    "Expected output:\n",
    "    \n",
    "    String 'abc' is not a palindrome.\n",
    "    \n",
    "    String '121' is a palindrome."
   ]
  },
  {
   "cell_type": "code",
   "execution_count": null,
   "metadata": {},
   "outputs": [],
   "source": [
    "s = input(\"Input a string: \")\n",
    "inp = list(s)\n",
    "inp_reverse = inp[::-1]\n",
    "if inp == inp_reverse:\n",
    "    print(f\"String \\'{s}\\' is a palindrome.\")\n",
    "else:\n",
    "    print(f\"String \\'{s}\\' is not a palindrome.\")"
   ]
  },
  {
   "cell_type": "markdown",
   "metadata": {},
   "source": [
    "### `Exercise 6 - Moving Averages`\n",
    "Write a python program iterates over a list of numbers and calculates:\n",
    "\n",
    "- Current mean - the current average (up to the current `for` iteration), should be printed during each cycle.\n",
    "- Moving average - mean of the last three itegers observed within the `for` cycle, should be printed during each cycle\n",
    "- Total average - should be printed at the end of the cycle.\n",
    "\n",
    "E.g.:\n",
    "\n",
    "    input_list = [10, 15, 30, 40]\n",
    "    \n",
    "Expected output:\n",
    "        \n",
    "    Iterating over the `input_list`...\n",
    "\n",
    "        Index: 0\tNumber: 10\tCurrent Mean: 10.0\t\tMoving: 10.0\n",
    "        Index: 1\tNumber: 15\tCurrent Mean: 12.5\t\tMoving: 12.5\n",
    "        Index: 2\tNumber: 30\tCurrent Mean: 18.33\t\tMoving: 18.33\n",
    "        Index: 3\tNumber: 40\tCurrent Mean: 23.75\t\tMoving: 28.33\n",
    "\n",
    "    Total Mean: 23.75\n"
   ]
  },
  {
   "cell_type": "code",
   "execution_count": null,
   "metadata": {},
   "outputs": [],
   "source": [
    "input_list = [10, 15, 30, 40]\n",
    "\n",
    "print ('Iterating over the `input_list`...\\n')\n",
    "for idx, number in enumerate(input_list):\n",
    "\n",
    "    # Calculate the cumulative mean (average across )\n",
    "    summed = 0\n",
    "    numbers = input_list[:idx+1]\n",
    "    for n in numbers:\n",
    "        summed+=n\n",
    "    current_mean = round(summed/len(numbers), 2)\n",
    "    \n",
    "    # Calculate the moving average\n",
    "    summed = 0\n",
    "    moving_numbers = numbers[-3:]\n",
    "    for n in moving_numbers:\n",
    "        summed+=n\n",
    "    moving_mean = round(summed/len(moving_numbers), 2)\n",
    "    \n",
    "    print (f'\\tIndex: {idx}\\tNumber: {number}\\tCurrent Mean: {current_mean}\\t\\tMoving: {moving_mean}')\n",
    "print (f'\\nTotal Mean: {current_mean}')"
   ]
  },
  {
   "cell_type": "markdown",
   "metadata": {},
   "source": [
    "## ``while`` loops\n",
    "Another type of a loop in Python is the ``while`` loop, which iterates until some given condition is met:"
   ]
  },
  {
   "cell_type": "code",
   "execution_count": null,
   "metadata": {},
   "outputs": [],
   "source": [
    "i = 1\n",
    "while i < 5:\n",
    "    print(f'i is {i}')\n",
    "    i = i + 1"
   ]
  },
  {
   "cell_type": "markdown",
   "metadata": {},
   "source": [
    "This can be also used together with `break` or `continue`, allowing us to get out of the loop or skip some iterations whenever necessary."
   ]
  },
  {
   "cell_type": "code",
   "execution_count": null,
   "metadata": {},
   "outputs": [],
   "source": [
    "i = 100\n",
    "while True:\n",
    "    print(i)\n",
    "    if i >= 10:\n",
    "        break\n",
    "    i += 1"
   ]
  },
  {
   "cell_type": "code",
   "execution_count": null,
   "metadata": {},
   "outputs": [],
   "source": [
    "# continue start a new loop cycle\n",
    "for n in range(12):\n",
    "    if n % 2 == 0:\n",
    "        continue\n",
    "    print(n, end=', ')"
   ]
  },
  {
   "cell_type": "markdown",
   "metadata": {},
   "source": [
    "### `else` for `while` and `for` loops"
   ]
  },
  {
   "cell_type": "code",
   "execution_count": null,
   "metadata": {},
   "outputs": [],
   "source": [
    "loss = 10\n",
    "target_loss = 5\n",
    "while target_loss < loss:\n",
    "    print('Training: current loss is {}'.format(loss))\n",
    "    loss -= 1\n",
    "else:\n",
    "    print('Finished training')"
   ]
  },
  {
   "cell_type": "code",
   "execution_count": null,
   "metadata": {},
   "outputs": [],
   "source": [
    "l = []\n",
    "n = 15\n",
    "\n",
    "for i in range(2, n):\n",
    "    for factor in l:\n",
    "        if i % factor == 0:\n",
    "            break\n",
    "    else:\n",
    "#         this only happens if there was no break\n",
    "        l.append(i)\n",
    "\n",
    "print(l)"
   ]
  },
  {
   "cell_type": "markdown",
   "metadata": {},
   "source": [
    "### `Exercise 7 - Factorial While`\n",
    "Write a python program to print out the factorials for all of the numbers up to `N` using `while`. E.g.:\n",
    "\n",
    "    Your input number: 4\n",
    "    \n",
    "    1! = 1\n",
    "    2! = 2\n",
    "    3! = 6\n",
    "    4! = 24\n",
    "    ...\n",
    "  \n",
    "`Hint` Don't input high values (e.g., `>1000`), it gets messy real quick. Even better, add a `break` statement at some chosen threshold value, or use `input()` with `if` and `then` to guide the user in providing an input that is small enough if necessary."
   ]
  },
  {
   "cell_type": "code",
   "execution_count": null,
   "metadata": {},
   "outputs": [],
   "source": [
    "number = input('Your input number: ')\n",
    "number = int(number)\n",
    "print ()\n",
    "\n",
    "starter = 0\n",
    "factorial=1\n",
    "while number >= 1:\n",
    "    starter+=1\n",
    "    factorial*= starter\n",
    "    number = number - 1\n",
    "    print (f'{starter}! = {factorial}')"
   ]
  },
  {
   "cell_type": "markdown",
   "metadata": {},
   "source": [
    "### `Exercise 8 - While There is a Needle in the Haystack`\n",
    "Adapt the needle in the haystack example above using `while`. \n",
    "The program should go through the haystack indices until the needle is found. If so, it should print out where, or otherwise state that the needle was not found. "
   ]
  },
  {
   "cell_type": "code",
   "execution_count": null,
   "metadata": {},
   "outputs": [],
   "source": [
    "# Buil-in library import\n",
    "import random\n",
    "\n",
    "# Define the haystack size and choose a secret index at which the needle may appear\n",
    "haystack_length = 1000\n",
    "haystack = [0] * haystack_length\n",
    "secret_index = random.randint(0, haystack_length - 1)\n",
    "\n",
    "# Needle appears within the secret haystack index randomly (coin flip)\n",
    "if random.random() > 0.5:\n",
    "    haystack[secret_index] = 1\n",
    "\n",
    "num=0\n",
    "while num<len(haystack):\n",
    "    \n",
    "    if haystack[num]:\n",
    "        print(f'Needle\\'s position in the haystack is {num}')\n",
    "        break\n",
    "    num+=1\n",
    "\n",
    "\n",
    "# else clause happens if no break was encountered\n",
    "else:\n",
    "    print('Needle is not in the haystack')"
   ]
  },
  {
   "cell_type": "markdown",
   "metadata": {},
   "source": [
    "### `Exercise 9 - Token Count`\n",
    "In this example, you should create a Python script that would read the contents of a given text file and calculate the amount of times each word occurs within it. Then, it should print `N` most commonly occuring values. To make it simpler, you already have a provided backbone script for reading the file and obtaining a list of tokens from it. Sort the tokens by their count in a descending order."
   ]
  },
  {
   "cell_type": "code",
   "execution_count": null,
   "metadata": {},
   "outputs": [],
   "source": [
    "input_file_path = 'data/clinton_trump_corpus/Trump/Trump_2016-11-09.txt'\n",
    "\n",
    "with open(input_file_path, 'r') as inputfile:\n",
    "    tokens = inputfile.read().lower().split()\n",
    "    tokens = [t.strip() for t in tokens if t.isalpha()]\n",
    "\n",
    "d = dict()\n",
    "for t in tokens:\n",
    "    if t not in d:\n",
    "        d[t]=1\n",
    "    else:\n",
    "        d[t]+=1\n",
    "\n",
    "d"
   ]
  },
  {
   "cell_type": "code",
   "execution_count": null,
   "metadata": {},
   "outputs": [],
   "source": [
    "d_sorted = {key:value for key, value in sorted(d.items(), key=lambda item: item[1])}\n",
    "d_sorted"
   ]
  },
  {
   "cell_type": "code",
   "execution_count": null,
   "metadata": {},
   "outputs": [],
   "source": [
    "d_sorted_reverse = {key:value for key, value in sorted(d.items(), key=lambda item: item[1], reverse=True)}\n",
    "d_sorted_reverse"
   ]
  },
  {
   "cell_type": "markdown",
   "metadata": {},
   "source": [
    "### `Exercise 9 (Additional) - Bigram Counts`"
   ]
  },
  {
   "cell_type": "code",
   "execution_count": null,
   "metadata": {},
   "outputs": [],
   "source": []
  },
  {
   "cell_type": "markdown",
   "metadata": {},
   "source": [
    "_____\n",
    "## Comprehensions\n",
    "**Comprehensions** in Python allow to compress large functions with many control flow statements into single, short, and readable lines.\n",
    "_____\n",
    "## List comprehensions\n",
    "Here is a basic loop that constructs a list of squares for the numbers provided in `nums`:"
   ]
  },
  {
   "cell_type": "code",
   "execution_count": null,
   "metadata": {},
   "outputs": [],
   "source": [
    "nums = [1, 2, 3, 4]\n",
    "results = []\n",
    "for item in nums:\n",
    "    results.append(item**2)\n",
    "\n",
    "results"
   ]
  },
  {
   "cell_type": "markdown",
   "metadata": {},
   "source": [
    "This can be rewritten using list comprehension:"
   ]
  },
  {
   "cell_type": "code",
   "execution_count": null,
   "metadata": {},
   "outputs": [],
   "source": [
    "results = [item ** 2 for item in nums]\n",
    "results"
   ]
  },
  {
   "cell_type": "markdown",
   "metadata": {},
   "source": [
    "### `Exercise 10 - Ra(n)ging Comprehension`\n",
    "Use list comprehension to obtain the following given input `5`:\n",
    "\n",
    "    [[0, 1, 2, 3, 4], [1, 2, 3, 4], [2, 3, 4], [3, 4], [4]]\n",
    "    \n",
    "`Hint` It is often easier to start with a simple cycle representation, and later convert it into the comprehension form."
   ]
  },
  {
   "cell_type": "code",
   "execution_count": null,
   "metadata": {},
   "outputs": [],
   "source": []
  },
  {
   "cell_type": "markdown",
   "metadata": {},
   "source": [
    "### `Exercise 11 - Flatten`\n",
    "Write a script that would flatten the list obtained in `Exercise 10`. E.g., when given a list of lists as an input, you should return a single list containing all of the elements."
   ]
  },
  {
   "cell_type": "code",
   "execution_count": null,
   "metadata": {},
   "outputs": [],
   "source": []
  },
  {
   "cell_type": "markdown",
   "metadata": {},
   "source": [
    "### `Exercise 12 - Flatten Comprehension`\n",
    "Recreate the `Exercise 11`, as well as the functions given below in a list comprehension form."
   ]
  },
  {
   "cell_type": "code",
   "execution_count": null,
   "metadata": {},
   "outputs": [],
   "source": []
  },
  {
   "cell_type": "code",
   "execution_count": null,
   "metadata": {},
   "outputs": [],
   "source": [
    "l = []\n",
    "for inner_list in data:\n",
    "    if len(inner_list) % 2 == 1:\n",
    "        for item in inner_list:\n",
    "            l.append(item)\n",
    "l"
   ]
  },
  {
   "cell_type": "code",
   "execution_count": null,
   "metadata": {},
   "outputs": [],
   "source": []
  },
  {
   "cell_type": "code",
   "execution_count": null,
   "metadata": {},
   "outputs": [],
   "source": [
    "l = []\n",
    "\n",
    "for inner_list in data:\n",
    "    if len(inner_list) % 2 == 1:\n",
    "        for item in inner_list:\n",
    "            if item % 2 == 0:\n",
    "                l.append(item)\n",
    "        \n",
    "l"
   ]
  },
  {
   "cell_type": "code",
   "execution_count": null,
   "metadata": {},
   "outputs": [],
   "source": []
  },
  {
   "cell_type": "markdown",
   "metadata": {},
   "source": [
    "## Dictionary comprehensions"
   ]
  },
  {
   "cell_type": "code",
   "execution_count": null,
   "metadata": {},
   "outputs": [],
   "source": [
    "keys = list('abcdefg')\n",
    "values = list(range(1, len(keys)))\n",
    "keys, values"
   ]
  },
  {
   "cell_type": "code",
   "execution_count": null,
   "metadata": {},
   "outputs": [],
   "source": [
    "alphabet = {}\n",
    "for key, value in zip(keys, values):\n",
    "    alphabet[key] = value\n",
    "    \n",
    "alphabet"
   ]
  },
  {
   "cell_type": "code",
   "execution_count": null,
   "metadata": {},
   "outputs": [],
   "source": [
    "alphabet = {key: value for key, value in zip(keys, values)}\n",
    "alphabet"
   ]
  },
  {
   "cell_type": "markdown",
   "metadata": {},
   "source": [
    "### `Exercise 13 - Better than comprehension?`\n",
    "Comprehensions are amazing, but sometimes there are better solutions. Make the previous version shorted and more Pythonic."
   ]
  },
  {
   "cell_type": "code",
   "execution_count": null,
   "metadata": {},
   "outputs": [],
   "source": []
  },
  {
   "cell_type": "markdown",
   "metadata": {},
   "source": [
    "## Set comprehensions"
   ]
  },
  {
   "cell_type": "code",
   "execution_count": null,
   "metadata": {},
   "outputs": [],
   "source": [
    "alphabet = {letter for letter in 'alphabet_alphabet'}\n",
    "alphabet"
   ]
  },
  {
   "cell_type": "markdown",
   "metadata": {},
   "source": [
    "Again, there is a better solution and you know it..."
   ]
  },
  {
   "cell_type": "code",
   "execution_count": null,
   "metadata": {},
   "outputs": [],
   "source": []
  },
  {
   "cell_type": "markdown",
   "metadata": {},
   "source": [
    "### `Exercise 14 - Built-in Comprehension`\n",
    "Find the ascii keys for the letters in 'alphabet_alphabet'. \n",
    "\n",
    "`Hint`: there is a built-in string method for that, tru finding it within Python documentation or online."
   ]
  },
  {
   "cell_type": "code",
   "execution_count": null,
   "metadata": {},
   "outputs": [],
   "source": []
  },
  {
   "cell_type": "code",
   "execution_count": null,
   "metadata": {},
   "outputs": [],
   "source": []
  }
 ],
 "metadata": {
  "kernelspec": {
   "display_name": "Python 3",
   "language": "python",
   "name": "python3"
  },
  "language_info": {
   "codemirror_mode": {
    "name": "ipython",
    "version": 3
   },
   "file_extension": ".py",
   "mimetype": "text/x-python",
   "name": "python",
   "nbconvert_exporter": "python",
   "pygments_lexer": "ipython3",
   "version": "3.7.2"
  }
 },
 "nbformat": 4,
 "nbformat_minor": 2
}
