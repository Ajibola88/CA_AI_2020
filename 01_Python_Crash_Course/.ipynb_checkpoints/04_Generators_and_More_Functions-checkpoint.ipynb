{
 "cells": [
  {
   "cell_type": "markdown",
   "metadata": {},
   "source": [
    "_____________\n",
    "# 04. Generators, `lambda`, `map()`, `filter()`\n",
    "In the following notebook, we will introduce something that you've actually came across in this course a few times already, ***generators*** and ***iterators***, as well as cover a number of additional function topics, such as `map()`, `filter()`, and `lambda`.\n",
    "_____________\n",
    "# Generators | Generator Expressions | Generator Comprehensions\n",
    "Python ***generators*** are a kind of iterables that you can iterate over only once. They are easy to implement, but often difficult to understand, so we will start by simply comparing them with something you know much better,  list comprehensions, starting from the syntax: \n",
    "\n",
    "    List comprehensions use square brackets, while generator expressions use parentheses."
   ]
  },
  {
   "cell_type": "code",
   "execution_count": null,
   "metadata": {},
   "outputs": [],
   "source": [
    "# This is a list comprehension\n",
    "cubes = [n ** 3 for n in range(12)]\n",
    "cubes"
   ]
  },
  {
   "cell_type": "markdown",
   "metadata": {},
   "source": [
    "This is a generator expression representing the comprehension above, also known as *generator comprehension*:"
   ]
  },
  {
   "cell_type": "code",
   "execution_count": null,
   "metadata": {},
   "outputs": [],
   "source": [
    "cubes = (n ** 3 for n in range(12))\n",
    "cubes"
   ]
  },
  {
   "cell_type": "markdown",
   "metadata": {},
   "source": [
    "In order to print the generator expression contents, you can pass it to the `list` constructor:"
   ]
  },
  {
   "cell_type": "code",
   "execution_count": null,
   "metadata": {},
   "outputs": [],
   "source": [
    "list(cubes)"
   ]
  },
  {
   "cell_type": "markdown",
   "metadata": {},
   "source": [
    "    A list is a collection of values, while a generator is a recipe for producing values\n",
    "    \n",
    "That is, when creating a list, you are actually building a collection of values, and there is some memory cost associated with that, but when creating a generator, you are only creating a recipe for producing these values (whenever necessary). Due to this, the generators are more memory and|or computationally efficient, also being unlimited in their size. \n",
    "\n",
    "Both use the same iterator interface:"
   ]
  },
  {
   "cell_type": "code",
   "execution_count": null,
   "metadata": {},
   "outputs": [],
   "source": [
    "cubes_l = [n ** 3 for n in range(12)]\n",
    "for val in cubes_l:\n",
    "    print(val, end=' ')"
   ]
  },
  {
   "cell_type": "code",
   "execution_count": null,
   "metadata": {},
   "outputs": [],
   "source": [
    "cubes_g = (n ** 3 for n in range(12))\n",
    "for val in cubes_g:\n",
    "    print(val, end=' ')"
   ]
  },
  {
   "cell_type": "code",
   "execution_count": null,
   "metadata": {},
   "outputs": [],
   "source": [
    "%%timeit\n",
    "cubes = [x ** 3 for x in range(100000)]\n",
    "\n",
    "%%timeit\n",
    "cubes = (x ** 3 for x in range(100000))"
   ]
  },
  {
   "cell_type": "markdown",
   "metadata": {},
   "source": [
    "An example of an infinite generator expression can be created using the ``count`` iterator defined in ``itertools``:"
   ]
  },
  {
   "cell_type": "code",
   "execution_count": null,
   "metadata": {},
   "outputs": [],
   "source": [
    "from itertools import count\n",
    "count()"
   ]
  },
  {
   "cell_type": "code",
   "execution_count": null,
   "metadata": {},
   "outputs": [],
   "source": [
    "for i in count():\n",
    "    print(i, end=' ')\n",
    "    if i >= 10: break"
   ]
  },
  {
   "cell_type": "markdown",
   "metadata": {},
   "source": [
    "The ``count`` iterator will go on counting forever until you tell it to stop; this makes it convenient to create generators that will also go on forever:"
   ]
  },
  {
   "cell_type": "code",
   "execution_count": null,
   "metadata": {},
   "outputs": [],
   "source": [
    "factors = [2, 3, 5, 7]\n",
    "G = (i for i in count() if all(i % n > 0 for n in factors))\n",
    "for val in G:\n",
    "    print(val, end=' ')\n",
    "    if val > 40: \n",
    "        break"
   ]
  },
  {
   "cell_type": "markdown",
   "metadata": {},
   "source": [
    "    \n",
    "    A list can be iterated multiple times; a generator expression is single-use\n",
    "\n",
    "E.g., you can go through the list multiple times:"
   ]
  },
  {
   "cell_type": "code",
   "execution_count": null,
   "metadata": {},
   "outputs": [],
   "source": [
    "L = [n ** 2 for n in range(12)]\n",
    "for val in L:\n",
    "    print(val, end=' ')"
   ]
  },
  {
   "cell_type": "code",
   "execution_count": null,
   "metadata": {},
   "outputs": [],
   "source": [
    "for val in L:\n",
    "    print(val, end=' ')"
   ]
  },
  {
   "cell_type": "markdown",
   "metadata": {},
   "source": [
    "But you can't do the same with a generator (it is consumed):"
   ]
  },
  {
   "cell_type": "code",
   "execution_count": null,
   "metadata": {},
   "outputs": [],
   "source": [
    "G = (n ** 2 for n in range(12))\n",
    "list(G)"
   ]
  },
  {
   "cell_type": "code",
   "execution_count": null,
   "metadata": {},
   "outputs": [],
   "source": [
    "list(G)"
   ]
  },
  {
   "cell_type": "markdown",
   "metadata": {},
   "source": [
    "This might be useful when working with large collections of data on disk, as you can easily analyze them in batches, letting the generator itself keep the track of the files that are yet to be seen. What is more, this also means that an iteration can be stopped and started again:"
   ]
  },
  {
   "cell_type": "code",
   "execution_count": null,
   "metadata": {},
   "outputs": [],
   "source": [
    "G = (n**2 for n in range(12))\n",
    "for n in G:\n",
    "    print(n, end=' ')\n",
    "    if n > 30: break\n",
    "\n",
    "print(\"\\ndoing something in between\")\n",
    "\n",
    "for n in G:\n",
    "    print(n, end=' ')"
   ]
  },
  {
   "cell_type": "markdown",
   "metadata": {},
   "source": [
    "## Generator Functions:  ``yield``\n",
    "As observed previously, while list comprehensions work well in simple scenarions, the standard `for` can be better in more complicated situations. Similarly, we can make the generators more sophisticated using the ``yield`` statement:"
   ]
  },
  {
   "cell_type": "code",
   "execution_count": null,
   "metadata": {},
   "outputs": [],
   "source": [
    "def simple_range(n):\n",
    "    for i in range(n):\n",
    "        yield i"
   ]
  },
  {
   "cell_type": "markdown",
   "metadata": {},
   "source": [
    "When an iteration over a set of item starts using the for statement, the generator is run. Once the generator's function code reaches a `yield` statement, the generator `yields its execution back to the for loop, returning a new value from the set`."
   ]
  },
  {
   "cell_type": "code",
   "execution_count": null,
   "metadata": {},
   "outputs": [],
   "source": [
    "x = simple_range(4)"
   ]
  },
  {
   "cell_type": "code",
   "execution_count": null,
   "metadata": {},
   "outputs": [],
   "source": [
    "x"
   ]
  },
  {
   "cell_type": "code",
   "execution_count": null,
   "metadata": {},
   "outputs": [],
   "source": [
    "list(x), list(x)"
   ]
  },
  {
   "cell_type": "markdown",
   "metadata": {},
   "source": [
    "And again, 2 ways of constructing the same list:"
   ]
  },
  {
   "cell_type": "code",
   "execution_count": null,
   "metadata": {},
   "outputs": [],
   "source": [
    "L1 = [n ** 2 for n in range(12)]\n",
    "\n",
    "L2 = []\n",
    "for n in range(12):\n",
    "    L2.append(n ** 2)\n",
    "\n",
    "print(L1)\n",
    "print(L2)"
   ]
  },
  {
   "cell_type": "markdown",
   "metadata": {},
   "source": [
    "2 ways of constructing equivalent generators:"
   ]
  },
  {
   "cell_type": "code",
   "execution_count": null,
   "metadata": {},
   "outputs": [],
   "source": [
    "G1 = (n ** 2 for n in range(12))\n",
    "\n",
    "def gen():\n",
    "    for n in range(12):\n",
    "        yield n ** 2\n",
    "\n",
    "G2 = gen()\n",
    "print(*G1)\n",
    "print(*G2)"
   ]
  },
  {
   "cell_type": "markdown",
   "metadata": {},
   "source": [
    "A generator function is a function that use ``yield`` to yield a (potentially infinite) sequence of values instead of `return` that returns a value once. Just as in generator expressions, the state of the generator is preserved between partial iterations, but if we want a fresh copy of the generator we can simply call the function again.\n",
    "\n",
    "Again, Python modularity allows to combine `yield` with `while`, `for`, or other control flow statements, such as `break`. pushing the boundaries for Python expressiveness even further."
   ]
  },
  {
   "cell_type": "code",
   "execution_count": null,
   "metadata": {},
   "outputs": [],
   "source": [
    "from random import random\n",
    "\n",
    "def yield_until_larger(target=0.99):\n",
    "    while True:\n",
    "        x = random()\n",
    "        yield x\n",
    "        if x > target:\n",
    "            break"
   ]
  },
  {
   "cell_type": "code",
   "execution_count": null,
   "metadata": {
    "scrolled": true
   },
   "outputs": [],
   "source": [
    "list(yield_until_larger())"
   ]
  },
  {
   "cell_type": "code",
   "execution_count": null,
   "metadata": {
    "scrolled": true
   },
   "outputs": [],
   "source": [
    "list(yield_until_larger())"
   ]
  },
  {
   "cell_type": "code",
   "execution_count": null,
   "metadata": {
    "scrolled": true
   },
   "outputs": [],
   "source": [
    "sum(yield_until_larger())"
   ]
  },
  {
   "cell_type": "markdown",
   "metadata": {},
   "source": [
    "Here's another example of how `yield` can be used to re-create the range function:"
   ]
  },
  {
   "cell_type": "code",
   "execution_count": null,
   "metadata": {},
   "outputs": [],
   "source": [
    "def xrange(start=0, end=None, step=1):\n",
    "    if end is None:\n",
    "        end, start = start, 0\n",
    "    while start < end:\n",
    "        yield start\n",
    "        start += step"
   ]
  },
  {
   "cell_type": "code",
   "execution_count": null,
   "metadata": {},
   "outputs": [],
   "source": [
    "for x in xrange(0, 10, 2):\n",
    "    print(x)\n",
    "    if x >= 10:\n",
    "        break"
   ]
  },
  {
   "cell_type": "markdown",
   "metadata": {},
   "source": [
    "### `Step-by-Step` Prime Number Generator\n",
    "This is a step-by-step guide for creating a function to generate an unbounded series of prime numbers using the [*Sieve of Eratosthenes*](https://en.wikipedia.org/wiki/Sieve_of_Eratosthenes) algorithm:"
   ]
  },
  {
   "cell_type": "code",
   "execution_count": null,
   "metadata": {},
   "outputs": [],
   "source": [
    "# Generate a list of candidates\n",
    "L = [n for n in range(2, 40)]\n",
    "print(L)"
   ]
  },
  {
   "cell_type": "code",
   "execution_count": null,
   "metadata": {},
   "outputs": [],
   "source": [
    "# Remove all multiples of the first value\n",
    "L = [n for n in L if n == L[0] or n % L[0] > 0]\n",
    "print(L)"
   ]
  },
  {
   "cell_type": "code",
   "execution_count": null,
   "metadata": {},
   "outputs": [],
   "source": [
    "# Remove all multiples of the second value\n",
    "L = [n for n in L if n == L[1] or n % L[1] > 0]\n",
    "print(L)"
   ]
  },
  {
   "cell_type": "code",
   "execution_count": null,
   "metadata": {},
   "outputs": [],
   "source": [
    "# Remove all multiples of the third value\n",
    "L = [n for n in L if n == L[2] or n % L[2] > 0]\n",
    "print(L)"
   ]
  },
  {
   "cell_type": "markdown",
   "metadata": {},
   "source": [
    "If we repeat this procedure enough times on a large enough list, we can generate as many primes as we wish.\n",
    "\n",
    "Let's encapsulate this logic in a generator function:"
   ]
  },
  {
   "cell_type": "code",
   "execution_count": null,
   "metadata": {},
   "outputs": [],
   "source": [
    "def gen_primes(N):\n",
    "    \"\"\"Generate primes up to N\"\"\"\n",
    "    primes = set()\n",
    "    for n in range(2, N):\n",
    "        if all(n % p > 0 for p in primes):\n",
    "            primes.add(n)\n",
    "            yield n\n",
    "\n",
    "print(*gen_primes(100))"
   ]
  },
  {
   "cell_type": "markdown",
   "metadata": {},
   "source": [
    "### `Exercise 1 - Fibonacci Generator`\n",
    "Create an infinite generator for the fibonacci series:\n",
    "\n",
    "    fibo[0]   = 0\n",
    "    fibo[1]   = 1\n",
    "    fibo[n+2] = fibo[n+1]\n"
   ]
  },
  {
   "cell_type": "code",
   "execution_count": null,
   "metadata": {},
   "outputs": [],
   "source": [
    "# YOUR CODE GOES HERE"
   ]
  },
  {
   "cell_type": "markdown",
   "metadata": {},
   "source": [
    "_____________\n",
    "# `lambda` Expressions\n",
    "A lambda function is a small anonymous function that can take any number of arguments: \n",
    "\n",
    "***`lambda`*** *arguments*: *expression*\n",
    "\n",
    "Here is a lambda function that adds 10 to the number passed in as an argument:"
   ]
  },
  {
   "cell_type": "code",
   "execution_count": null,
   "metadata": {},
   "outputs": [],
   "source": [
    "x = lambda a : a + 10\n",
    "x"
   ]
  },
  {
   "cell_type": "code",
   "execution_count": null,
   "metadata": {},
   "outputs": [],
   "source": [
    "x(5)"
   ]
  },
  {
   "cell_type": "markdown",
   "metadata": {},
   "source": [
    "And another one that multiplies argument a with argument b:"
   ]
  },
  {
   "cell_type": "code",
   "execution_count": null,
   "metadata": {},
   "outputs": [],
   "source": [
    "x = lambda a, b : a * b\n",
    "x"
   ]
  },
  {
   "cell_type": "code",
   "execution_count": null,
   "metadata": {},
   "outputs": [],
   "source": [
    "x(5, 6) "
   ]
  },
  {
   "cell_type": "code",
   "execution_count": null,
   "metadata": {},
   "outputs": [],
   "source": [
    "def times2(x):\n",
    "    return x * 2"
   ]
  },
  {
   "cell_type": "code",
   "execution_count": null,
   "metadata": {},
   "outputs": [],
   "source": [
    "times2(2)"
   ]
  },
  {
   "cell_type": "code",
   "execution_count": null,
   "metadata": {},
   "outputs": [],
   "source": [
    "times2([111, 222])"
   ]
  },
  {
   "cell_type": "code",
   "execution_count": null,
   "metadata": {},
   "outputs": [],
   "source": [
    "times2('We don\\'t need no education')"
   ]
  },
  {
   "cell_type": "code",
   "execution_count": null,
   "metadata": {},
   "outputs": [],
   "source": [
    "x = lambda var: var*2\n",
    "x"
   ]
  },
  {
   "cell_type": "code",
   "execution_count": null,
   "metadata": {},
   "outputs": [],
   "source": [
    "x(2)"
   ]
  },
  {
   "cell_type": "code",
   "execution_count": null,
   "metadata": {},
   "outputs": [],
   "source": [
    "x([111,222])"
   ]
  },
  {
   "cell_type": "markdown",
   "metadata": {},
   "source": [
    "### `Exercise 2 - Lambda Sorting Tuples`\n",
    "Sort a list of tuples using a `lambda` expression.\n",
    "\n",
    "E.g.,\n",
    "\n",
    "Input:\n",
    "\n",
    "    marks = [('EN', 80), ('IT', 88), ('DE', 95)]\n",
    "    \n",
    "Output:\n",
    "    \n",
    "    Sorting the tuple list:\n",
    "\n",
    "    [('EN', 80), ('IT', 88), ('DE', 95)]    "
   ]
  },
  {
   "cell_type": "code",
   "execution_count": null,
   "metadata": {},
   "outputs": [],
   "source": [
    "# YOUR CODE GOES HERE"
   ]
  },
  {
   "cell_type": "markdown",
   "metadata": {},
   "source": [
    "### `Exercise 3 - Lambda Sorting Dict`\n",
    "Sort a list of dictionaries using a `lambda` expression.\n",
    "\n",
    "Input:\n",
    "\n",
    "    models = [{'make':'Nokia', 'model':216, 'color':'Black'}, \n",
    "              {'make':'Mi Max', 'model':'2', 'color':'Gold'}, \n",
    "              {'make':'Samsung', 'model': 7, 'color':'Blue'}]\n",
    "                 \n",
    "Output:\n",
    "    \n",
    "\n",
    "    Sorting the dictionary list :\n",
    "    [{'make': 'Nokia', 'model': 216, 'color': 'Black'}, {'make': 'Samsung', 'model': 7, 'color': 'Blue'}, {'make': 'Mi Max', 'model': 2, 'color': 'Gold'}]\n",
    " "
   ]
  },
  {
   "cell_type": "code",
   "execution_count": null,
   "metadata": {},
   "outputs": [],
   "source": [
    "# YOUR CODE GOES HERE"
   ]
  },
  {
   "cell_type": "markdown",
   "metadata": {},
   "source": [
    "### `Exercise 4 - Date Time Lambda`\n",
    "Extract year, month, date and time using Lambda:\n",
    "\n",
    "Input:\n",
    "\n",
    "    datetime.datetime(2020, 3, 28, 1, 3, 54, 121736)\n",
    "    \n",
    "Output:\n",
    "    \n",
    "    Datetime: 2020-03-28 01:06:28.325593\n",
    "    Year    : 2020\n",
    "    Month   : 3\n",
    "    Day     : 28\n",
    "    Now     : 01:06:28.325593"
   ]
  },
  {
   "cell_type": "code",
   "execution_count": null,
   "metadata": {},
   "outputs": [],
   "source": [
    "import datetime\n",
    "now = datetime.datetime.now()\n",
    "now"
   ]
  },
  {
   "cell_type": "code",
   "execution_count": null,
   "metadata": {},
   "outputs": [],
   "source": [
    "??datetime"
   ]
  },
  {
   "cell_type": "code",
   "execution_count": null,
   "metadata": {},
   "outputs": [],
   "source": [
    "# YOUR CODE GOES HERE"
   ]
  },
  {
   "cell_type": "markdown",
   "metadata": {},
   "source": [
    "### `Exercise 5 - Lambda Printing`\n",
    "Create a lambda named `print2`, which works the same way as `print`, but always uses tab as a separator.\n",
    "\n",
    "`Hint` You will need the `*` operators."
   ]
  },
  {
   "cell_type": "code",
   "execution_count": null,
   "metadata": {},
   "outputs": [],
   "source": [
    "# YOUR CODE GOES HERE"
   ]
  },
  {
   "cell_type": "markdown",
   "metadata": {},
   "source": [
    "___________\n",
    "# Map & Filter\n",
    "\n",
    "`Map` & `Filter` allow the programmer to write simpler, shorter code, without thinking about loops or branching. This way of coding is also known as functional programming, since we apply a function across a number of iterables in one full swoop. Both of these functions come built-in with Python (in the __builtins__ module) and require no importing.\n",
    "\n",
    "## Map\n",
    "The `map()` function in python has the following syntax:\n",
    "\n",
    "    map(func, *iterables)\n",
    "\n",
    "Where `func` is the function to be applied on each of the iterable elements (as many as there are). Note the use of `*`, for an arbitrary number of arguments. Additional notes:\n",
    "\n",
    "- In Python 3, `map()` returns a map object which is a generator object.\n",
    "- To get the result as a list, `list()` function can be called on the map object, e.g. `list(map(func, *iterables))`.\n",
    "- The number of arguments to func must be the number of iterables listed.\n",
    "\n",
    "Let's say you have a list (iterable) of your chosen laptop brands and want to uppercase them. In traditional Python, you would do something like this:"
   ]
  },
  {
   "cell_type": "code",
   "execution_count": null,
   "metadata": {},
   "outputs": [],
   "source": [
    "laptops = ['acer', 'asus', 'macbook', 'lg']\n",
    "[l.upper() for l in laptops]"
   ]
  },
  {
   "cell_type": "markdown",
   "metadata": {},
   "source": [
    "Alternatively, you can do the same using the `map()` function:"
   ]
  },
  {
   "cell_type": "code",
   "execution_count": null,
   "metadata": {},
   "outputs": [],
   "source": [
    "laptops = ['acer', 'asus', 'macbook', 'lg']\n",
    "list(map(str.upper, laptops))"
   ]
  },
  {
   "cell_type": "markdown",
   "metadata": {},
   "source": [
    "`func` corresponds to virtually any function, so we can also `map()` our own `def`initions:"
   ]
  },
  {
   "cell_type": "code",
   "execution_count": null,
   "metadata": {},
   "outputs": [],
   "source": [
    "seq = range(11, 33, 3)\n",
    "seq = list(seq)\n",
    "seq"
   ]
  },
  {
   "cell_type": "code",
   "execution_count": null,
   "metadata": {},
   "outputs": [],
   "source": [
    "def times2(x):\n",
    "    return x * 2\n",
    "\n",
    "map(times2, seq)"
   ]
  },
  {
   "cell_type": "code",
   "execution_count": null,
   "metadata": {},
   "outputs": [],
   "source": [
    "list(map(times2, seq))"
   ]
  },
  {
   "cell_type": "code",
   "execution_count": null,
   "metadata": {},
   "outputs": [],
   "source": [
    "def squared(x):\n",
    "    return x ** 2\n",
    "\n",
    "list(map(squared, seq))"
   ]
  },
  {
   "cell_type": "markdown",
   "metadata": {},
   "source": [
    "We can also combine `map()` with `lambda`:"
   ]
  },
  {
   "cell_type": "code",
   "execution_count": null,
   "metadata": {},
   "outputs": [],
   "source": [
    "list(map(lambda x: x * 2, seq))"
   ]
  },
  {
   "cell_type": "markdown",
   "metadata": {},
   "source": [
    "### `Exercise 6 - Map Stats`\n",
    "Assume that you gathered a list of stats (floats) about your working routines (be it the averages of customers that joined the system during each day of the month, the sums of money transactions, anything of the kind):\n",
    "\n",
    "    numbers = [0.356, 11.12, 16.534238, 3.2456, 9.1, 5, 13.6]\n",
    "    \n",
    "You want to round these numbers to have the same decimal placing via the `map()` function and the `round()` Python built-in. "
   ]
  },
  {
   "cell_type": "code",
   "execution_count": null,
   "metadata": {},
   "outputs": [],
   "source": []
  },
  {
   "cell_type": "markdown",
   "metadata": {},
   "source": [
    "Now change the functions, so that each of the elements is rounded to the position of it in the list. That is, round up the first element in the list to one decimal place, the second element in the list to two decimal places, the third element in the list to three decimal places, etc. \n",
    "\n",
    "`Note` Round function requires two arguments, so we need to pass in two iterables."
   ]
  },
  {
   "cell_type": "code",
   "execution_count": null,
   "metadata": {},
   "outputs": [],
   "source": [
    "numbers = [0.356, 11.12, 16.534238, 3.2456, 9.1, 5, 13.6]\n",
    "result = list(map(round, numbers, range(1,7)))\n",
    "print(result)"
   ]
  },
  {
   "cell_type": "markdown",
   "metadata": {},
   "source": [
    "### `Exercise 7 - Map Lambda Zip...?`\n",
    "Create a custom `zip()` function using `map()` and `lambda()`:\n",
    "\n",
    "    s = ['a', 'b', 'c', 'd', 'e']\n",
    "    n = [1,2,3,4,5]\n",
    "    \n",
    "    print(zip(s,n))\n",
    "    \n",
    "    [('a', 1), ('b', 2), ('c', 3), ('d', 4), ('e', 5)]"
   ]
  },
  {
   "cell_type": "code",
   "execution_count": null,
   "metadata": {},
   "outputs": [],
   "source": [
    "# YOUR CODE GOES HERE"
   ]
  },
  {
   "cell_type": "markdown",
   "metadata": {},
   "source": [
    "__________________\n",
    "# `filter()`\n",
    "Having the syntax of the form: \n",
    "\n",
    "    filter(func, iterable)\n",
    "\n",
    "`filter()`then passes each element in the iterable through some function that requires to return boolean values, \"filtering\" away those that are false. In contrast, `map()` passes each element in the iterable through a function and returns the result of all elements having passed through the function.\n",
    "\n",
    "There are a few points worth remembering when thinking about `filter()`:\n",
    "\n",
    "- Unlike `map()`, only one iterable is required.\n",
    "- The `func` argument is required to return a boolean type. If it doesn't, filter simply returns the iterable passed to it. Also, as only one iterable is required, it's implicit that func must only take one argument.\n",
    "- `filter` passes each element in the iterable through `func` and returns only the ones that evaluate to `True`.\n",
    "\n",
    "Here is a simple example of a function filtering a list of numbers:"
   ]
  },
  {
   "cell_type": "code",
   "execution_count": null,
   "metadata": {},
   "outputs": [],
   "source": [
    "scores = [66, 90, 68, 59, 76, 60, 88, 74, 81, 65]\n",
    "\n",
    "def is_A_student(score):\n",
    "    return score > 75\n",
    "\n",
    "over_75 = list(filter(is_A_student, scores))\n",
    "over_75"
   ]
  },
  {
   "cell_type": "markdown",
   "metadata": {},
   "source": [
    "And here is a palindrome detector using `filter` combined with `lambda`:"
   ]
  },
  {
   "cell_type": "code",
   "execution_count": null,
   "metadata": {},
   "outputs": [],
   "source": [
    "dromes = (\"demigod\", \"rewire\", \"madam\", \"anutforajaroftuna\", \"kiosk\")\n",
    "palindromes = list(filter(lambda word: word == word[::-1], dromes))\n",
    "palindromes"
   ]
  },
  {
   "cell_type": "markdown",
   "metadata": {},
   "source": [
    "And a few examples more just to make it even clearer:"
   ]
  },
  {
   "cell_type": "code",
   "execution_count": null,
   "metadata": {},
   "outputs": [],
   "source": [
    "seq"
   ]
  },
  {
   "cell_type": "code",
   "execution_count": null,
   "metadata": {},
   "outputs": [],
   "source": [
    "list(filter(lambda x: x > 20, seq))"
   ]
  },
  {
   "cell_type": "code",
   "execution_count": null,
   "metadata": {},
   "outputs": [],
   "source": [
    "list(filter(lambda x: 20 < x < 30, seq))"
   ]
  },
  {
   "cell_type": "code",
   "execution_count": null,
   "metadata": {},
   "outputs": [],
   "source": [
    "input_value = range(10, 100, 2)"
   ]
  },
  {
   "cell_type": "code",
   "execution_count": null,
   "metadata": {},
   "outputs": [],
   "source": [
    "list(filter(lambda x: x % 3 == 0, input_value))"
   ]
  },
  {
   "cell_type": "code",
   "execution_count": null,
   "metadata": {},
   "outputs": [],
   "source": [
    "[x for x in input_value if x % 3 == 0]"
   ]
  },
  {
   "cell_type": "code",
   "execution_count": null,
   "metadata": {},
   "outputs": [],
   "source": [
    "from time import time"
   ]
  },
  {
   "cell_type": "code",
   "execution_count": null,
   "metadata": {},
   "outputs": [],
   "source": [
    "input_value = range(10, 100000, 2)"
   ]
  },
  {
   "cell_type": "code",
   "execution_count": null,
   "metadata": {
    "scrolled": true
   },
   "outputs": [],
   "source": [
    "%%time\n",
    "list(filter(lambda x: x % 3 == 0, input_value))"
   ]
  },
  {
   "cell_type": "code",
   "execution_count": null,
   "metadata": {},
   "outputs": [],
   "source": [
    "%%time\n",
    "[x for x in input_value if x % 3 == 0]"
   ]
  },
  {
   "cell_type": "code",
   "execution_count": null,
   "metadata": {},
   "outputs": [],
   "source": []
  },
  {
   "cell_type": "markdown",
   "metadata": {},
   "source": [
    "### `Exercise 8 - Is Even`\n",
    "Create a function `is_even` that takes a list of numbers and returns a new list with even numbers replaced by `True` and odd numbers replaced by `False`:\n",
    "\n",
    "Input:\n",
    "    \n",
    "    is_even([1, 2, 3, 4, 4])\n",
    "\n",
    "Output:\n",
    "\n",
    "    [False, True, False, True, True]"
   ]
  },
  {
   "cell_type": "code",
   "execution_count": null,
   "metadata": {},
   "outputs": [],
   "source": [
    "# YOUR CODE GOES HERE"
   ]
  },
  {
   "cell_type": "markdown",
   "metadata": {},
   "source": [
    "### `Exercise 9 - Custom Encrypt!`\n",
    "Create a function `encrypt(s, X, Y, Z)` that a string as an input:\n",
    "\n",
    "    `The low tide rises at 6pm on the 10th and at 7pm on the 21st, message 24.058,55.25`\n",
    "    \n",
    "- odd numeric characters are converted to their corresponding letters of the alphabet + X \n",
    "- even numeric characters are converted to their corresponding letters of the alphabet - X \n",
    "- alpha characters are converted to their numerical representation, where and odds get + Y, evens get -Y.\n",
    "- punctuation symbols are converted to their numerical representations, the odds get + Z, evens -Z."
   ]
  },
  {
   "cell_type": "code",
   "execution_count": null,
   "metadata": {},
   "outputs": [],
   "source": [
    "# YOUR CODE GOES HERE"
   ]
  },
  {
   "cell_type": "markdown",
   "metadata": {},
   "source": [
    "### `Exercise 10 - Custom Decrypt!`\n",
    "Create a decryption function that returns the original string representation when given the encrypted version as the input and the XYZ code."
   ]
  },
  {
   "cell_type": "code",
   "execution_count": null,
   "metadata": {},
   "outputs": [],
   "source": [
    "# YOUR CODE GOES HERE"
   ]
  }
 ],
 "metadata": {
  "kernelspec": {
   "display_name": "Python 3",
   "language": "python",
   "name": "python3"
  },
  "language_info": {
   "codemirror_mode": {
    "name": "ipython",
    "version": 3
   },
   "file_extension": ".py",
   "mimetype": "text/x-python",
   "name": "python",
   "nbconvert_exporter": "python",
   "pygments_lexer": "ipython3",
   "version": "3.7.2"
  }
 },
 "nbformat": 4,
 "nbformat_minor": 2
}
