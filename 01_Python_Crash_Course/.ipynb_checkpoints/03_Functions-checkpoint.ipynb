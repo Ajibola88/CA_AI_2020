{
 "cells": [
  {
   "cell_type": "markdown",
   "metadata": {},
   "source": [
    "# 03. Functions\n",
    "So far, our scripts have been simple, single-use code blocks. One way to organize Python code and make it more readable, is to factor-out useful pieces into reusable ***functions**.\n",
    "\n",
    "Here we'll cover two ways of creating functions: \n",
    "- the ``def`` statement, useful for any type of function.\n",
    "- the ``lambda`` statement, useful for creating short anonymous functions. \n",
    "\n",
    "Finally, we will also review some functions that are *built-in* the Python language."
   ]
  },
  {
   "cell_type": "markdown",
   "metadata": {},
   "source": [
    "## Introduction to Functions"
   ]
  },
  {
   "cell_type": "code",
   "execution_count": 1,
   "metadata": {},
   "outputs": [
    {
     "name": "stdout",
     "output_type": "stream",
     "text": [
      "I'm a print function\n"
     ]
    }
   ],
   "source": [
    "print('I\\'m a print function')"
   ]
  },
  {
   "cell_type": "code",
   "execution_count": 2,
   "metadata": {},
   "outputs": [],
   "source": [
    "# ??print"
   ]
  },
  {
   "cell_type": "markdown",
   "metadata": {},
   "source": [
    "The `def` statement (standing for *definition*) is what we use to define functions in Python:"
   ]
  },
  {
   "cell_type": "code",
   "execution_count": 3,
   "metadata": {},
   "outputs": [],
   "source": [
    "def square(x):\n",
    "    return x ** 2"
   ]
  },
  {
   "cell_type": "code",
   "execution_count": 4,
   "metadata": {},
   "outputs": [
    {
     "data": {
      "text/plain": [
       "16"
      ]
     },
     "execution_count": 4,
     "metadata": {},
     "output_type": "execute_result"
    }
   ],
   "source": [
    "square(4)"
   ]
  },
  {
   "cell_type": "code",
   "execution_count": 5,
   "metadata": {},
   "outputs": [],
   "source": [
    "def square(x: float) -> float:\n",
    "    \"\"\"\n",
    "    Squares the number.\n",
    "\n",
    "    Arguments:\n",
    "        x {float} -- a number\n",
    "\n",
    "    Returns:\n",
    "        float -- the square of the number\n",
    "        \n",
    "    Examples:\n",
    "        >>> square(3)\n",
    "        9\n",
    "        >>> square(2.5)\n",
    "        6.25\n",
    "        >>> square(2.9)\n",
    "        8.41\n",
    "    \"\"\"\n",
    "    return x ** 2"
   ]
  },
  {
   "cell_type": "code",
   "execution_count": 6,
   "metadata": {},
   "outputs": [
    {
     "data": {
      "text/plain": [
       "6.25"
      ]
     },
     "execution_count": 6,
     "metadata": {},
     "output_type": "execute_result"
    }
   ],
   "source": [
    "result = square(2.5)\n",
    "result"
   ]
  },
  {
   "cell_type": "code",
   "execution_count": 7,
   "metadata": {},
   "outputs": [],
   "source": [
    "def name_age_hash(name='Povilas', age=25):\n",
    "    \"\"\"\n",
    "    Takes name and age as parameters and returns\n",
    "    a single integ er value representing their hash\n",
    "    value\n",
    "    \"\"\"\n",
    "    print(hash((name, age)))"
   ]
  },
  {
   "cell_type": "code",
   "execution_count": 8,
   "metadata": {},
   "outputs": [
    {
     "data": {
      "text/plain": [
       "<function __main__.name_age_hash(name='Povilas', age=25)>"
      ]
     },
     "execution_count": 8,
     "metadata": {},
     "output_type": "execute_result"
    }
   ],
   "source": [
    "name_age_hash"
   ]
  },
  {
   "cell_type": "code",
   "execution_count": 9,
   "metadata": {},
   "outputs": [
    {
     "name": "stdout",
     "output_type": "stream",
     "text": [
      "5011011336577729790\n"
     ]
    }
   ],
   "source": [
    "name_age_hash()"
   ]
  },
  {
   "cell_type": "code",
   "execution_count": 10,
   "metadata": {},
   "outputs": [
    {
     "name": "stdout",
     "output_type": "stream",
     "text": [
      "-6758380735790398953\n"
     ]
    }
   ],
   "source": [
    "name_age_hash('Jim', age=28)"
   ]
  },
  {
   "cell_type": "code",
   "execution_count": 11,
   "metadata": {},
   "outputs": [
    {
     "name": "stdout",
     "output_type": "stream",
     "text": [
      "6706671198134424110\n"
     ]
    }
   ],
   "source": [
    "name_age_hash('Bob', age=71)"
   ]
  },
  {
   "cell_type": "code",
   "execution_count": 12,
   "metadata": {},
   "outputs": [],
   "source": [
    "# Note - hash() is not deterministic\n",
    "from crypt import crypt\n",
    "\n",
    "def name_age_hash(name: str, age: int, salt: str = 'Pepper') -> int:\n",
    "    \"\"\"\n",
    "    Takes name and age as parameters and returns\n",
    "    a single integer value representing their hash\n",
    "    value.\n",
    "\n",
    "    Keyword Arguments:\n",
    "        name {str} -- the name of the person (default: {\"Dovydas\"})\n",
    "        age {int} -- the age of the person (default: {29})\n",
    "\n",
    "    Returns:\n",
    "        int -- the hash of the person\n",
    "\n",
    "    Examples:\n",
    "        >>> name_age_hash('Dovydas', 29)\n",
    "        'PeOwFsC3mXIiE'\n",
    "        >>> name_age_hash('Geoffrey', 71)\n",
    "        'PeZpp17pB2ang'\n",
    "        >>> name_age_hash('Dovydas', age=30)\n",
    "        'PeJ0lu1x6sT1o'\n",
    "        >>> name_age_hash('Dovydas', 29, 'Vinted')\n",
    "        'Vi5RSKuXo0qfw'\n",
    "    \"\"\"\n",
    "    return crypt(f\"{name}{age}\", salt=salt)"
   ]
  },
  {
   "cell_type": "code",
   "execution_count": 13,
   "metadata": {},
   "outputs": [
    {
     "data": {
      "text/plain": [
       "<function __main__.name_age_hash(name: str, age: int, salt: str = 'Pepper') -> int>"
      ]
     },
     "execution_count": 13,
     "metadata": {},
     "output_type": "execute_result"
    }
   ],
   "source": [
    "name_age_hash"
   ]
  },
  {
   "cell_type": "code",
   "execution_count": 14,
   "metadata": {},
   "outputs": [
    {
     "ename": "TypeError",
     "evalue": "name_age_hash() missing 2 required positional arguments: 'name' and 'age'",
     "output_type": "error",
     "traceback": [
      "\u001b[0;31m---------------------------------------------------------------------------\u001b[0m",
      "\u001b[0;31mTypeError\u001b[0m                                 Traceback (most recent call last)",
      "\u001b[0;32m<ipython-input-14-95e383d7ab53>\u001b[0m in \u001b[0;36m<module>\u001b[0;34m\u001b[0m\n\u001b[0;32m----> 1\u001b[0;31m \u001b[0mname_age_hash\u001b[0m\u001b[0;34m(\u001b[0m\u001b[0;34m)\u001b[0m\u001b[0;34m\u001b[0m\u001b[0;34m\u001b[0m\u001b[0m\n\u001b[0m",
      "\u001b[0;31mTypeError\u001b[0m: name_age_hash() missing 2 required positional arguments: 'name' and 'age'"
     ]
    }
   ],
   "source": [
    "name_age_hash()"
   ]
  },
  {
   "cell_type": "code",
   "execution_count": 15,
   "metadata": {},
   "outputs": [
    {
     "data": {
      "text/plain": [
       "'PeV6y0g255SA.'"
      ]
     },
     "execution_count": 15,
     "metadata": {},
     "output_type": "execute_result"
    }
   ],
   "source": [
    "name_age_hash('Jim', age=28)"
   ]
  },
  {
   "cell_type": "code",
   "execution_count": 16,
   "metadata": {},
   "outputs": [
    {
     "data": {
      "text/plain": [
       "'PeyiqHz1nsnuw'"
      ]
     },
     "execution_count": 16,
     "metadata": {},
     "output_type": "execute_result"
    }
   ],
   "source": [
    "name_age_hash('Bob', age=71)"
   ]
  },
  {
   "cell_type": "markdown",
   "metadata": {},
   "source": [
    "### `Exercise 1 - The Enumerate Clone`\n",
    "Create a function named `enumerate2` which behaves like `enumerate`."
   ]
  },
  {
   "cell_type": "code",
   "execution_count": 17,
   "metadata": {},
   "outputs": [],
   "source": [
    "l = ['Cat', 'Dog', 'Mouse']"
   ]
  },
  {
   "cell_type": "code",
   "execution_count": 18,
   "metadata": {},
   "outputs": [],
   "source": [
    "??enumerate"
   ]
  },
  {
   "cell_type": "code",
   "execution_count": 19,
   "metadata": {},
   "outputs": [
    {
     "data": {
      "text/plain": [
       "<enumerate at 0x7fc814435bd0>"
      ]
     },
     "execution_count": 19,
     "metadata": {},
     "output_type": "execute_result"
    }
   ],
   "source": [
    "enumerate(l)"
   ]
  },
  {
   "cell_type": "code",
   "execution_count": 20,
   "metadata": {},
   "outputs": [
    {
     "data": {
      "text/plain": [
       "[(0, 'Cat'), (1, 'Dog'), (2, 'Mouse')]"
      ]
     },
     "execution_count": 20,
     "metadata": {},
     "output_type": "execute_result"
    }
   ],
   "source": [
    "list(enumerate(l))"
   ]
  },
  {
   "cell_type": "code",
   "execution_count": 21,
   "metadata": {},
   "outputs": [
    {
     "data": {
      "text/plain": [
       "<zip at 0x7fc814151e88>"
      ]
     },
     "execution_count": 21,
     "metadata": {},
     "output_type": "execute_result"
    }
   ],
   "source": [
    "from typing import Iterable\n",
    "\n",
    "def enumerate2(iterable: Iterable) -> Iterable:\n",
    "    \"\"\"\n",
    "    enumerate clone\n",
    "\n",
    "    Arguments:\n",
    "        iterable {Iterable} -- any iterable\n",
    "\n",
    "    Returns:\n",
    "        Iterable -- a result iterable\n",
    "        \n",
    "    Examples:\n",
    "        >>> list(enumerate2([1, 2, 3]))\n",
    "        [(0, 1), (1, 2), (2, 3)]\n",
    "    \"\"\"\n",
    "    return zip(range(len(iterable)), iterable)\n",
    "\n",
    "enumerate2(l)"
   ]
  },
  {
   "cell_type": "code",
   "execution_count": 27,
   "metadata": {},
   "outputs": [
    {
     "data": {
      "text/plain": [
       "[(0, 'Cat'), (1, 'Dog'), (2, 'Mouse')]"
      ]
     },
     "execution_count": 27,
     "metadata": {},
     "output_type": "execute_result"
    }
   ],
   "source": [
    "list(enumerate2(l))"
   ]
  },
  {
   "cell_type": "code",
   "execution_count": 28,
   "metadata": {},
   "outputs": [],
   "source": [
    "for data in [[1, 2, 3], 'some string', ('hi', 10, {1, 2})]:\n",
    "    assert list(enumerate(data)) == list(enumerate2(data))"
   ]
  },
  {
   "cell_type": "markdown",
   "metadata": {},
   "source": [
    "### `Exercise 2 - Generator of a Generator`\n",
    "Create a function which takes a string as a parameter and returns a list and a generator inside another list, e.g.:\n",
    "\n",
    "Input string:\n",
    "\n",
    "    'Hi'\n",
    "\n",
    "    [['H', 'i'], <generator object at ...>]"
   ]
  },
  {
   "cell_type": "code",
   "execution_count": 29,
   "metadata": {},
   "outputs": [
    {
     "data": {
      "text/plain": [
       "[['H', 'i'],\n",
       " <generator object string_to_list_and_generator.<locals>.<genexpr> at 0x7fc8141b5840>]"
      ]
     },
     "execution_count": 29,
     "metadata": {},
     "output_type": "execute_result"
    }
   ],
   "source": [
    "def string_to_list_and_generator(s):\n",
    "    return [list(s), (x for x in s)]\n",
    "\n",
    "string_to_list_and_generator('Hi')"
   ]
  },
  {
   "cell_type": "markdown",
   "metadata": {},
   "source": [
    "## Function Defaults"
   ]
  },
  {
   "cell_type": "code",
   "execution_count": 30,
   "metadata": {},
   "outputs": [],
   "source": [
    "from typing import List\n",
    "\n",
    "def dangerous_defaults(n: int, data:list=[]) -> List[float]:\n",
    "    for i in range(n):\n",
    "        data.append(i)\n",
    "    return data"
   ]
  },
  {
   "cell_type": "code",
   "execution_count": 31,
   "metadata": {},
   "outputs": [
    {
     "data": {
      "text/plain": [
       "[0, 1, 2, 3, 4]"
      ]
     },
     "execution_count": 31,
     "metadata": {},
     "output_type": "execute_result"
    }
   ],
   "source": [
    "dangerous_defaults(5)"
   ]
  },
  {
   "cell_type": "code",
   "execution_count": 32,
   "metadata": {},
   "outputs": [
    {
     "data": {
      "text/plain": [
       "[0, 1, 2, 3, 4, 0, 1, 2, 3, 4]"
      ]
     },
     "execution_count": 32,
     "metadata": {},
     "output_type": "execute_result"
    }
   ],
   "source": [
    "dangerous_defaults(5)"
   ]
  },
  {
   "cell_type": "code",
   "execution_count": 33,
   "metadata": {},
   "outputs": [
    {
     "data": {
      "text/plain": [
       "([0, 1, 2, 3, 4, 0, 1, 2, 3, 4, 0, 1, 2, 3, 4, 0, 1, 2, 3, 4],\n",
       " [0, 1, 2, 3, 4, 0, 1, 2, 3, 4, 0, 1, 2, 3, 4, 0, 1, 2, 3, 4])"
      ]
     },
     "execution_count": 33,
     "metadata": {},
     "output_type": "execute_result"
    }
   ],
   "source": [
    "dangerous_defaults(5), dangerous_defaults(5)"
   ]
  },
  {
   "cell_type": "markdown",
   "metadata": {},
   "source": [
    "### `Exercise 3 - Fixing Dangerous Defaults`\n",
    "Fix the function above to avoid the described error."
   ]
  },
  {
   "cell_type": "code",
   "execution_count": 34,
   "metadata": {},
   "outputs": [
    {
     "data": {
      "text/plain": [
       "[0, 1, 2, 3, 4]"
      ]
     },
     "execution_count": 34,
     "metadata": {},
     "output_type": "execute_result"
    }
   ],
   "source": [
    "from typing import List, Union\n",
    "\n",
    "def dangerous_defaults(n: int, data:list=None) -> List[float]:\n",
    "    if data is None:\n",
    "        data = []\n",
    "    for i in range(n):\n",
    "        data.append(i)\n",
    "    return data\n",
    "dangerous_defaults(5)"
   ]
  },
  {
   "cell_type": "markdown",
   "metadata": {},
   "source": [
    "## Multi Output Functions\n",
    "In Python, it is possible to return multiple outputs using a single function. \n",
    "\n",
    "**JK**, all functions have just a single output (but it may consist of multiple variables | values)"
   ]
  },
  {
   "cell_type": "code",
   "execution_count": 35,
   "metadata": {},
   "outputs": [
    {
     "data": {
      "text/plain": [
       "(2.5, 244140625, 25)"
      ]
     },
     "execution_count": 35,
     "metadata": {},
     "output_type": "execute_result"
    }
   ],
   "source": [
    "number = 5\n",
    "def multi_output_fun(number):\n",
    "    \n",
    "    return number/2, number**12, number*5\n",
    "\n",
    "multi_output_fun(number)"
   ]
  },
  {
   "cell_type": "code",
   "execution_count": 36,
   "metadata": {},
   "outputs": [],
   "source": [
    "def multi_output_fun(data):\n",
    "    keys, values = zip(*data)\n",
    "    return keys, values"
   ]
  },
  {
   "cell_type": "code",
   "execution_count": 37,
   "metadata": {},
   "outputs": [
    {
     "data": {
      "text/plain": [
       "(('name', 'house', 'wolf'), ('Jon', 'Snow', 'Ghost'))"
      ]
     },
     "execution_count": 37,
     "metadata": {},
     "output_type": "execute_result"
    }
   ],
   "source": [
    "multi_output_fun([('name', 'Jon'), ('house', 'Snow'), ('wolf', 'Ghost')])"
   ]
  },
  {
   "cell_type": "markdown",
   "metadata": {},
   "source": [
    "### `Exercise 4 - Multi Average Fun(ction)`\n",
    "Create a `moving_averages` function which takes a list of integers `list_of_ints` as input and returns 3 different moving averages for the input list elements. \n",
    "- Average  3 = mean(`i-1`, `i-1`, `i`) for each `i`.\n",
    "- Average  7 = .....................................\n",
    "- Average 15 = .....................................\n",
    "\n",
    "`Hint` It may be helpful to firstly define a function that takes an integer list as input and returns a single moving average, and later call it three times using a more general parent function. E.g:\n",
    "\n",
    "Input: \n",
    "\n",
    "    [41, 30, 25, 68] - List of integers \n",
    "    N = 3            - Window size for calculating the averages\n",
    "    \n",
    "Output:\n",
    "\n",
    "    List of integers (the moving average for each of the list entries)"
   ]
  },
  {
   "cell_type": "code",
   "execution_count": 38,
   "metadata": {},
   "outputs": [],
   "source": [
    "def moving_average(list_of_integers, N):\n",
    "    \n",
    "    result=[]\n",
    "    for idx, number in enumerate(list_of_integers):\n",
    "        \n",
    "        numbers = list_of_integers[:idx+1]\n",
    "        moving_numbers = numbers[-N:]\n",
    "        moving_mean = round(sum(moving_numbers)/N, 4)\n",
    "        result.append(moving_mean)\n",
    "    \n",
    "    return result"
   ]
  },
  {
   "cell_type": "code",
   "execution_count": 39,
   "metadata": {},
   "outputs": [
    {
     "data": {
      "text/plain": [
       "[1, 4, 7, 10, 13, 16, 19, 22, 25, 28, 31, 34, 37, 40, 43, 46, 49]"
      ]
     },
     "execution_count": 39,
     "metadata": {},
     "output_type": "execute_result"
    }
   ],
   "source": [
    "l = list(range(1,50,3))\n",
    "l"
   ]
  },
  {
   "cell_type": "code",
   "execution_count": 40,
   "metadata": {},
   "outputs": [
    {
     "data": {
      "text/plain": [
       "[0.3333,\n",
       " 1.6667,\n",
       " 4.0,\n",
       " 7.0,\n",
       " 10.0,\n",
       " 13.0,\n",
       " 16.0,\n",
       " 19.0,\n",
       " 22.0,\n",
       " 25.0,\n",
       " 28.0,\n",
       " 31.0,\n",
       " 34.0,\n",
       " 37.0,\n",
       " 40.0,\n",
       " 43.0,\n",
       " 46.0]"
      ]
     },
     "execution_count": 40,
     "metadata": {},
     "output_type": "execute_result"
    }
   ],
   "source": [
    "moving_average(l, 3)"
   ]
  },
  {
   "cell_type": "code",
   "execution_count": 41,
   "metadata": {},
   "outputs": [
    {
     "data": {
      "text/plain": [
       "[0.1429,\n",
       " 0.7143,\n",
       " 1.7143,\n",
       " 3.1429,\n",
       " 5.0,\n",
       " 7.2857,\n",
       " 10.0,\n",
       " 13.0,\n",
       " 16.0,\n",
       " 19.0,\n",
       " 22.0,\n",
       " 25.0,\n",
       " 28.0,\n",
       " 31.0,\n",
       " 34.0,\n",
       " 37.0,\n",
       " 40.0]"
      ]
     },
     "execution_count": 41,
     "metadata": {},
     "output_type": "execute_result"
    }
   ],
   "source": [
    "moving_average(l, 7)"
   ]
  },
  {
   "cell_type": "code",
   "execution_count": 42,
   "metadata": {},
   "outputs": [
    {
     "data": {
      "text/plain": [
       "[0.0667,\n",
       " 0.3333,\n",
       " 0.8,\n",
       " 1.4667,\n",
       " 2.3333,\n",
       " 3.4,\n",
       " 4.6667,\n",
       " 6.1333,\n",
       " 7.8,\n",
       " 9.6667,\n",
       " 11.7333,\n",
       " 14.0,\n",
       " 16.4667,\n",
       " 19.1333,\n",
       " 22.0,\n",
       " 25.0,\n",
       " 28.0]"
      ]
     },
     "execution_count": 42,
     "metadata": {},
     "output_type": "execute_result"
    }
   ],
   "source": [
    "moving_average(l, 15)"
   ]
  },
  {
   "cell_type": "code",
   "execution_count": 43,
   "metadata": {},
   "outputs": [
    {
     "data": {
      "text/plain": [
       "([0.3333,\n",
       "  1.6667,\n",
       "  4.0,\n",
       "  7.0,\n",
       "  10.0,\n",
       "  13.0,\n",
       "  16.0,\n",
       "  19.0,\n",
       "  22.0,\n",
       "  25.0,\n",
       "  28.0,\n",
       "  31.0,\n",
       "  34.0,\n",
       "  37.0,\n",
       "  40.0,\n",
       "  43.0,\n",
       "  46.0],\n",
       " [0.1429,\n",
       "  0.7143,\n",
       "  1.7143,\n",
       "  3.1429,\n",
       "  5.0,\n",
       "  7.2857,\n",
       "  10.0,\n",
       "  13.0,\n",
       "  16.0,\n",
       "  19.0,\n",
       "  22.0,\n",
       "  25.0,\n",
       "  28.0,\n",
       "  31.0,\n",
       "  34.0,\n",
       "  37.0,\n",
       "  40.0],\n",
       " [0.0667,\n",
       "  0.3333,\n",
       "  0.8,\n",
       "  1.4667,\n",
       "  2.3333,\n",
       "  3.4,\n",
       "  4.6667,\n",
       "  6.1333,\n",
       "  7.8,\n",
       "  9.6667,\n",
       "  11.7333,\n",
       "  14.0,\n",
       "  16.4667,\n",
       "  19.1333,\n",
       "  22.0,\n",
       "  25.0,\n",
       "  28.0])"
      ]
     },
     "execution_count": 43,
     "metadata": {},
     "output_type": "execute_result"
    }
   ],
   "source": [
    "def multi_moving_averages(list_of_integers):\n",
    "    \n",
    "    moving_3 = moving_average(l, 3)\n",
    "    moving_7 = moving_average(l, 7)\n",
    "    moving_15 = moving_average(l, 15)\n",
    "    return moving_3, moving_7, moving_15\n",
    "\n",
    "multi_moving_averages(l)"
   ]
  },
  {
   "cell_type": "code",
   "execution_count": null,
   "metadata": {},
   "outputs": [],
   "source": []
  },
  {
   "cell_type": "markdown",
   "metadata": {},
   "source": [
    "## Built-in functions\n",
    "Some of the built-ins that I found to be the most useful (for the full list, check [this link](https://docs.python.org/3/library/functions.html)):"
   ]
  },
  {
   "cell_type": "code",
   "execution_count": 44,
   "metadata": {},
   "outputs": [
    {
     "name": "stdout",
     "output_type": "stream",
     "text": [
      "123\n"
     ]
    }
   ],
   "source": [
    "# print\n",
    "print(123)"
   ]
  },
  {
   "cell_type": "code",
   "execution_count": 45,
   "metadata": {},
   "outputs": [
    {
     "data": {
      "text/plain": [
       "(['1', '2', '3'], [1, 2, 3], [1, 2, 3])"
      ]
     },
     "execution_count": 45,
     "metadata": {},
     "output_type": "execute_result"
    }
   ],
   "source": [
    "# list\n",
    "list('123'), list({1, 2, 3}), list({1: 'a', 2: 'b', 3: 'c'})"
   ]
  },
  {
   "cell_type": "code",
   "execution_count": 46,
   "metadata": {},
   "outputs": [
    {
     "data": {
      "text/plain": [
       "[[0, 1, 2, 3],\n",
       " [-10, -9, -8, -7, -6, -5, -4, -3, -2, -1, 0, 1],\n",
       " [20, 17, 14, 11]]"
      ]
     },
     "execution_count": 46,
     "metadata": {},
     "output_type": "execute_result"
    }
   ],
   "source": [
    "# range\n",
    "list(map(list, (range(4), range(-10, 2), range(20, 10, -3))))"
   ]
  },
  {
   "cell_type": "code",
   "execution_count": 47,
   "metadata": {},
   "outputs": [
    {
     "data": {
      "text/plain": [
       "<zip at 0x7fc8141c04c8>"
      ]
     },
     "execution_count": 47,
     "metadata": {},
     "output_type": "execute_result"
    }
   ],
   "source": [
    "# zip\n",
    "zip()"
   ]
  },
  {
   "cell_type": "code",
   "execution_count": 48,
   "metadata": {},
   "outputs": [
    {
     "data": {
      "text/plain": [
       "(100, 100, 10.5, 0.5)"
      ]
     },
     "execution_count": 48,
     "metadata": {},
     "output_type": "execute_result"
    }
   ],
   "source": [
    "# abs\n",
    "abs(-100), abs(100), abs(10.5), abs(-0.5)"
   ]
  },
  {
   "cell_type": "code",
   "execution_count": 49,
   "metadata": {},
   "outputs": [
    {
     "data": {
      "text/plain": [
       "(True, True, False, False, False, True)"
      ]
     },
     "execution_count": 49,
     "metadata": {},
     "output_type": "execute_result"
    }
   ],
   "source": [
    "# bool\n",
    "bool(1), bool('123'), bool(''), bool(False), bool([]), bool({'key': 'value'})"
   ]
  },
  {
   "cell_type": "code",
   "execution_count": 50,
   "metadata": {},
   "outputs": [
    {
     "data": {
      "text/plain": [
       "True"
      ]
     },
     "execution_count": 50,
     "metadata": {},
     "output_type": "execute_result"
    }
   ],
   "source": [
    "# all \n",
    "# False values: 0, False, None, '', [], set(), {}, ()\n",
    "all([-1, -2, -3])"
   ]
  },
  {
   "cell_type": "code",
   "execution_count": 51,
   "metadata": {},
   "outputs": [
    {
     "data": {
      "text/plain": [
       "(True, False)"
      ]
     },
     "execution_count": 51,
     "metadata": {},
     "output_type": "execute_result"
    }
   ],
   "source": [
    "# all\n",
    "all([10, '1', True]), all([10, '1', True, False])"
   ]
  },
  {
   "cell_type": "code",
   "execution_count": 52,
   "metadata": {},
   "outputs": [
    {
     "data": {
      "text/plain": [
       "(True, True, False)"
      ]
     },
     "execution_count": 52,
     "metadata": {},
     "output_type": "execute_result"
    }
   ],
   "source": [
    "# any\n",
    "any([10, '1', True]), any([10, '0', True, 1]), any([0, '', False, {}])"
   ]
  },
  {
   "cell_type": "code",
   "execution_count": 53,
   "metadata": {},
   "outputs": [
    {
     "data": {
      "text/plain": [
       "(False, True)"
      ]
     },
     "execution_count": 53,
     "metadata": {},
     "output_type": "execute_result"
    }
   ],
   "source": [
    "# any\n",
    "any([0, False, None, '', [], set(), {}, ()]), any([0, False, None, '', [], set(), {}, (), 1])"
   ]
  },
  {
   "cell_type": "code",
   "execution_count": 54,
   "metadata": {},
   "outputs": [
    {
     "data": {
      "text/plain": [
       "('a', 'z', 'A', 'Z')"
      ]
     },
     "execution_count": 54,
     "metadata": {},
     "output_type": "execute_result"
    }
   ],
   "source": [
    "# chr\n",
    "chr(97), chr(122), chr(65), chr(90)"
   ]
  },
  {
   "cell_type": "code",
   "execution_count": 55,
   "metadata": {},
   "outputs": [
    {
     "data": {
      "text/plain": [
       "(97, 122, 65, 90)"
      ]
     },
     "execution_count": 55,
     "metadata": {},
     "output_type": "execute_result"
    }
   ],
   "source": [
    "ord('a'), ord('z'), ord('A'), ord('Z')"
   ]
  },
  {
   "cell_type": "code",
   "execution_count": 56,
   "metadata": {},
   "outputs": [
    {
     "data": {
      "text/plain": [
       "{0: 'a', 1: 'b', 2: 'c'}"
      ]
     },
     "execution_count": 56,
     "metadata": {},
     "output_type": "execute_result"
    }
   ],
   "source": [
    "# dict\n",
    "dict([(0, 'a'), (1, 'b'), (2, 'c')])"
   ]
  },
  {
   "cell_type": "code",
   "execution_count": 57,
   "metadata": {
    "scrolled": true
   },
   "outputs": [
    {
     "data": {
      "text/plain": [
       "['__add__',\n",
       " '__class__',\n",
       " '__contains__',\n",
       " '__delattr__',\n",
       " '__delitem__',\n",
       " '__dir__',\n",
       " '__doc__',\n",
       " '__eq__',\n",
       " '__format__',\n",
       " '__ge__',\n",
       " '__getattribute__',\n",
       " '__getitem__',\n",
       " '__gt__',\n",
       " '__hash__',\n",
       " '__iadd__',\n",
       " '__imul__',\n",
       " '__init__',\n",
       " '__init_subclass__',\n",
       " '__iter__',\n",
       " '__le__',\n",
       " '__len__',\n",
       " '__lt__',\n",
       " '__mul__',\n",
       " '__ne__',\n",
       " '__new__',\n",
       " '__reduce__',\n",
       " '__reduce_ex__',\n",
       " '__repr__',\n",
       " '__reversed__',\n",
       " '__rmul__',\n",
       " '__setattr__',\n",
       " '__setitem__',\n",
       " '__sizeof__',\n",
       " '__str__',\n",
       " '__subclasshook__',\n",
       " 'append',\n",
       " 'clear',\n",
       " 'copy',\n",
       " 'count',\n",
       " 'extend',\n",
       " 'index',\n",
       " 'insert',\n",
       " 'pop',\n",
       " 'remove',\n",
       " 'reverse',\n",
       " 'sort']"
      ]
     },
     "execution_count": 57,
     "metadata": {},
     "output_type": "execute_result"
    }
   ],
   "source": [
    "# dir\n",
    "dir(list)"
   ]
  },
  {
   "cell_type": "code",
   "execution_count": 58,
   "metadata": {},
   "outputs": [
    {
     "data": {
      "text/plain": [
       "(<enumerate at 0x7fc81417f1b0>, [(0, 'a'), (1, 'b'), (2, 'c')])"
      ]
     },
     "execution_count": 58,
     "metadata": {},
     "output_type": "execute_result"
    }
   ],
   "source": [
    "# enumerate\n",
    "enumerate('abcd'), list(enumerate('abc'))"
   ]
  },
  {
   "cell_type": "code",
   "execution_count": 59,
   "metadata": {},
   "outputs": [
    {
     "data": {
      "text/plain": [
       "[3, 4, 5]"
      ]
     },
     "execution_count": 59,
     "metadata": {},
     "output_type": "execute_result"
    }
   ],
   "source": [
    "# filter\n",
    "list(filter(lambda x: x > 2, [1, 2, 3, 4, 5]))"
   ]
  },
  {
   "cell_type": "code",
   "execution_count": 60,
   "metadata": {},
   "outputs": [
    {
     "data": {
      "text/plain": [
       "(11.0, 99.0)"
      ]
     },
     "execution_count": 60,
     "metadata": {},
     "output_type": "execute_result"
    }
   ],
   "source": [
    "# float\n",
    "float('11'), float(99)"
   ]
  },
  {
   "cell_type": "code",
   "execution_count": 61,
   "metadata": {},
   "outputs": [
    {
     "name": "stdout",
     "output_type": "stream",
     "text": [
      "Help on built-in function dir in module builtins:\n",
      "\n",
      "dir(...)\n",
      "    dir([object]) -> list of strings\n",
      "    \n",
      "    If called without an argument, return the names in the current scope.\n",
      "    Else, return an alphabetized list of names comprising (some of) the attributes\n",
      "    of the given object, and of attributes reachable from it.\n",
      "    If the object supplies a method named __dir__, it will be used; otherwise\n",
      "    the default dir() logic is used and returns:\n",
      "      for a module object: the module's attributes.\n",
      "      for a class object:  its attributes, and recursively the attributes\n",
      "        of its bases.\n",
      "      for any other object: its attributes, its class's attributes, and\n",
      "        recursively the attributes of its class's base classes.\n",
      "\n"
     ]
    }
   ],
   "source": [
    "# help\n",
    "help(dir)"
   ]
  },
  {
   "cell_type": "code",
   "execution_count": 62,
   "metadata": {},
   "outputs": [
    {
     "name": "stdout",
     "output_type": "stream",
     "text": [
      "What is the secret key?\n"
     ]
    }
   ],
   "source": [
    "# input\n",
    "secret_key = input('What is the secret key?')"
   ]
  },
  {
   "cell_type": "code",
   "execution_count": 63,
   "metadata": {},
   "outputs": [
    {
     "data": {
      "text/plain": [
       "(100, 10, 1)"
      ]
     },
     "execution_count": 63,
     "metadata": {},
     "output_type": "execute_result"
    }
   ],
   "source": [
    "# int\n",
    "int('100'), int(10.5), int(True)"
   ]
  },
  {
   "cell_type": "code",
   "execution_count": 64,
   "metadata": {},
   "outputs": [
    {
     "data": {
      "text/plain": [
       "(1, 2, 3)"
      ]
     },
     "execution_count": 64,
     "metadata": {},
     "output_type": "execute_result"
    }
   ],
   "source": [
    "# iter & next\n",
    "iterator1 = iter([1, 2, 3])\n",
    "next(iterator1), next(iterator1), next(iterator1)"
   ]
  },
  {
   "cell_type": "code",
   "execution_count": 65,
   "metadata": {},
   "outputs": [
    {
     "data": {
      "text/plain": [
       "(20, 3, 1)"
      ]
     },
     "execution_count": 65,
     "metadata": {},
     "output_type": "execute_result"
    }
   ],
   "source": [
    "# len\n",
    "len('A man a plan, Panama'), len([6, 6, 6]), len(set([6, 6, 6]))"
   ]
  },
  {
   "cell_type": "code",
   "execution_count": 66,
   "metadata": {},
   "outputs": [
    {
     "data": {
      "text/plain": [
       "[1, 2, 3]"
      ]
     },
     "execution_count": 66,
     "metadata": {},
     "output_type": "execute_result"
    }
   ],
   "source": [
    "# map\n",
    "list(map(int, list('123')))"
   ]
  },
  {
   "cell_type": "code",
   "execution_count": 67,
   "metadata": {},
   "outputs": [
    {
     "data": {
      "text/plain": [
       "(9, -100)"
      ]
     },
     "execution_count": 67,
     "metadata": {},
     "output_type": "execute_result"
    }
   ],
   "source": [
    "# max & min\n",
    "max([0, 1, 2, 3, 9, -100]), min([0, 1, 2, 3, 9, -100])"
   ]
  },
  {
   "cell_type": "code",
   "execution_count": 68,
   "metadata": {},
   "outputs": [
    {
     "data": {
      "text/plain": [
       "['a', 'b', 'c', 'd']"
      ]
     },
     "execution_count": 68,
     "metadata": {},
     "output_type": "execute_result"
    }
   ],
   "source": [
    "# reversed\n",
    "list(reversed('dcba'))"
   ]
  },
  {
   "cell_type": "code",
   "execution_count": 69,
   "metadata": {},
   "outputs": [
    {
     "data": {
      "text/plain": [
       "{1, 2, 3, 5}"
      ]
     },
     "execution_count": 69,
     "metadata": {},
     "output_type": "execute_result"
    }
   ],
   "source": [
    "# set\n",
    "set([1, 2, 1, 2, 3, 5, 5])"
   ]
  },
  {
   "cell_type": "code",
   "execution_count": 70,
   "metadata": {},
   "outputs": [
    {
     "data": {
      "text/plain": [
       "[1, 7, 8, 9]"
      ]
     },
     "execution_count": 70,
     "metadata": {},
     "output_type": "execute_result"
    }
   ],
   "source": [
    "# sorted\n",
    "sorted([1, 9, 8, 7])"
   ]
  },
  {
   "cell_type": "code",
   "execution_count": 71,
   "metadata": {},
   "outputs": [
    {
     "data": {
      "text/plain": [
       "('123', '[1, 2, 3]')"
      ]
     },
     "execution_count": 71,
     "metadata": {},
     "output_type": "execute_result"
    }
   ],
   "source": [
    "# str\n",
    "str(123), str([1, 2, 3])"
   ]
  },
  {
   "cell_type": "code",
   "execution_count": 72,
   "metadata": {},
   "outputs": [
    {
     "data": {
      "text/plain": [
       "111"
      ]
     },
     "execution_count": 72,
     "metadata": {},
     "output_type": "execute_result"
    }
   ],
   "source": [
    "# sum\n",
    "sum([100, 10, 1])"
   ]
  },
  {
   "cell_type": "code",
   "execution_count": 73,
   "metadata": {},
   "outputs": [
    {
     "data": {
      "text/plain": [
       "(1, 2, 3)"
      ]
     },
     "execution_count": 73,
     "metadata": {},
     "output_type": "execute_result"
    }
   ],
   "source": [
    "# tuple\n",
    "tuple([1, 2, 3])"
   ]
  },
  {
   "cell_type": "code",
   "execution_count": 74,
   "metadata": {},
   "outputs": [
    {
     "data": {
      "text/plain": [
       "(int, str, bool)"
      ]
     },
     "execution_count": 74,
     "metadata": {},
     "output_type": "execute_result"
    }
   ],
   "source": [
    "# type\n",
    "type(1), type('1'), type(True)"
   ]
  },
  {
   "cell_type": "code",
   "execution_count": null,
   "metadata": {},
   "outputs": [],
   "source": []
  },
  {
   "cell_type": "markdown",
   "metadata": {},
   "source": [
    "### `Exercise 5 - Modularize`\n",
    "Rewrite all of your developed scripts from `Exercises` in `02_Control_Flow_and_Comprehensions.ipynb` as Python functions to create your first Python **module**. Essentially, a module is a `.py` file, containing a bunch of Python definitions and statements that you can access using the `import` statement. E.g., `import utils.py` imports all of the definitions to the current session and they can be accessed using their respective names."
   ]
  },
  {
   "cell_type": "code",
   "execution_count": null,
   "metadata": {},
   "outputs": [],
   "source": []
  },
  {
   "cell_type": "markdown",
   "metadata": {},
   "source": [
    "### `Exercise 6 - Fibonacci`\n",
    "Write a Python function to get the Fibonacci series up to some certain number (n). \n",
    "\n",
    "**N.B.** The Fibonacci Sequence is a series of numbers, where every following number is defined by the sum of the two previous numbers: \n",
    "\n",
    "    0, 1, 1, 2, 3, 5....\n",
    "    \n",
    "Input:\n",
    "\n",
    "    fibonacci(10)\n",
    "    \n",
    "Output:\n",
    "    \n",
    "    [1, 1, 2, 3, 5, 8, 13, 21, 34, 55]"
   ]
  },
  {
   "cell_type": "code",
   "execution_count": 75,
   "metadata": {},
   "outputs": [],
   "source": [
    "# YOUR CODE GOES HERE"
   ]
  },
  {
   "cell_type": "markdown",
   "metadata": {},
   "source": [
    "### `Exercise 7 - Upper/Lower`\n",
    "Write a Python function that accepts a string and calculates the number of upper case letters and lower case letters it has. E.g.:\n",
    "\n",
    "    Input   :  The quick Brown Fox\n",
    "    N Upper :  3\n",
    "    N Lower :  13\n"
   ]
  },
  {
   "cell_type": "code",
   "execution_count": null,
   "metadata": {},
   "outputs": [],
   "source": [
    "# YOUR CODE GOES HERE"
   ]
  },
  {
   "cell_type": "markdown",
   "metadata": {},
   "source": [
    "### `Exercise 8 - The Mover`\n",
    "Write a Python function that returns no output bus moves files from one directory to another. Bring a dummy folder with some files to the present working directory to play around (nothing important, for your own good:)).\n",
    "    \n",
    "Inputs:\n",
    "\n",
    "    input_path (string)       - the directory containing the files that have to be movied/copied.\n",
    "    output_path (string)      - the directory to which the files have to be moved.\n",
    "    copy (boolean)            - if `True` (default), keep the original directory intact (otherwise delete it).\n",
    "    \n",
    "Check Python built-in libraries `glob`, `os`, and `shutil` to complete the task:\n",
    "\n",
    "**N.B.** Don't forget that you will have to create the output path before moving the files, possibly recursively if you directory is nested."
   ]
  },
  {
   "cell_type": "code",
   "execution_count": 76,
   "metadata": {},
   "outputs": [],
   "source": [
    "import os\n",
    "import glob\n",
    "import shutil"
   ]
  },
  {
   "cell_type": "code",
   "execution_count": 77,
   "metadata": {},
   "outputs": [],
   "source": [
    "??shutil"
   ]
  },
  {
   "cell_type": "code",
   "execution_count": 78,
   "metadata": {},
   "outputs": [
    {
     "data": {
      "text/plain": [
       "['.ipynb_checkpoints',\n",
       " 'README.md',\n",
       " 'data',\n",
       " '03_Functions.ipynb',\n",
       " '02_Control_Flow_and_Comprehensions.ipynb',\n",
       " '01_Introduction_to_Python_and_Jupyter.ipynb']"
      ]
     },
     "execution_count": 78,
     "metadata": {},
     "output_type": "execute_result"
    }
   ],
   "source": [
    "os.listdir()"
   ]
  },
  {
   "cell_type": "code",
   "execution_count": null,
   "metadata": {},
   "outputs": [],
   "source": []
  },
  {
   "cell_type": "markdown",
   "metadata": {},
   "source": [
    "### `Exercise 9 - Reader`\n",
    "Write a Python function `def reader(....)` that reads the contents of a of `.txt` file (use one of the speeches within the `data/clinton_trump_corpus`.\n",
    "   \n",
    "Input:\n",
    "\n",
    "    input_path (string)       - the path to the `.txt` file that will be read.\n",
    "    \n",
    "Output\n",
    "\n",
    "    lines                     - a list of lines (strings) from the `.txt` file."
   ]
  },
  {
   "cell_type": "code",
   "execution_count": null,
   "metadata": {},
   "outputs": [],
   "source": []
  },
  {
   "cell_type": "markdown",
   "metadata": {},
   "source": [
    "### `Exercise 10 - Multi-Reader`\n",
    "Write a Python function `def multi_reader(...)` that uses **The Reader** in order to get the contents of all text `.txt` files within a directory.\n",
    "   \n",
    "Input:\n",
    "\n",
    "    input_path (string)       - the path to the directory containing a bunch of .txt files. \n",
    "        \n",
    "Output\n",
    "\n",
    "    documents                 - a list of line-lists (for each of the corresponding .txt files)."
   ]
  },
  {
   "cell_type": "code",
   "execution_count": null,
   "metadata": {},
   "outputs": [],
   "source": []
  },
  {
   "cell_type": "markdown",
   "metadata": {},
   "source": [
    "### `Exercise 11 - Stats-Reader`\n",
    "Write a Python function `def stats_reader(...)` that uses **Multi Reader** to get the contents of multiple text files (e.g., a corpus of documents for a single person), and returns a variety of stats about them:\n",
    "\n",
    "Input:\n",
    "\n",
    "    documents         - a list of line-lists (for each of the corresponding .txt files).\n",
    "    \n",
    "Output\n",
    "\n",
    "    word_count        - total amount of words in all of the documents.\n",
    "    vocab_size        - total amount of unique words in all of the documebts.\n",
    "    mean_word_count   - average amount of words per document.\n",
    "    n_lines           - average amount of lines per document.\n",
    "    top_words         - top 50 most common words."
   ]
  },
  {
   "cell_type": "code",
   "execution_count": null,
   "metadata": {},
   "outputs": [],
   "source": []
  },
  {
   "cell_type": "markdown",
   "metadata": {},
   "source": [
    "Now use the stats reader to compare the presidential Donald Trumph's and Hilary Clinton's speeches, think about answering these questions:\n",
    "\n",
    "    What did you observe?\n",
    "    What could this mean?\n",
    "    Are there any technical flaws? What could be done better?\n",
    "    What further analysis might be useful in providing more information about the candidates?\n",
    "\n",
    "Discuss these questions in groups, compare your `stats_reader` implementations, and outline a plan for improving your analysis, including any code changes that may be necessary (think simple this time, let's stick to basic Python, not some fancy NLP libraries)."
   ]
  },
  {
   "cell_type": "markdown",
   "metadata": {},
   "source": [
    "Collect your notes in one place, e.g.: HERE"
   ]
  },
  {
   "cell_type": "markdown",
   "metadata": {},
   "source": [
    "Actually improve the design of the `stats_reader` and review the new results. Share your thought process and findings with your colleagues."
   ]
  },
  {
   "cell_type": "code",
   "execution_count": null,
   "metadata": {},
   "outputs": [],
   "source": []
  },
  {
   "cell_type": "markdown",
   "metadata": {},
   "source": [
    "____________________\n",
    "## `lambda` Expressions\n",
    "____________________\n",
    "A lambda function is a small anonymous function that can take any number of arguments, but can only have one expression in the form of: \n",
    "\n",
    "***lambda*** *arguments*: *expression*\n",
    "\n",
    "Here is a lambda function that adds 10 to the number passed in as an argument:"
   ]
  },
  {
   "cell_type": "code",
   "execution_count": null,
   "metadata": {},
   "outputs": [],
   "source": [
    "x = lambda a : a + 10\n",
    "x"
   ]
  },
  {
   "cell_type": "code",
   "execution_count": null,
   "metadata": {},
   "outputs": [],
   "source": [
    "x(5)"
   ]
  },
  {
   "cell_type": "markdown",
   "metadata": {},
   "source": [
    "And another one that multiplies argument a with argument b:"
   ]
  },
  {
   "cell_type": "code",
   "execution_count": null,
   "metadata": {},
   "outputs": [],
   "source": [
    "x = lambda a, b : a * b\n",
    "x"
   ]
  },
  {
   "cell_type": "code",
   "execution_count": null,
   "metadata": {},
   "outputs": [],
   "source": [
    "x(5, 6) "
   ]
  },
  {
   "cell_type": "code",
   "execution_count": null,
   "metadata": {},
   "outputs": [],
   "source": [
    "def times2(x):\n",
    "    return x * 2"
   ]
  },
  {
   "cell_type": "code",
   "execution_count": null,
   "metadata": {},
   "outputs": [],
   "source": [
    "times2(2)"
   ]
  },
  {
   "cell_type": "code",
   "execution_count": null,
   "metadata": {},
   "outputs": [],
   "source": [
    "times2([111, 222])"
   ]
  },
  {
   "cell_type": "code",
   "execution_count": null,
   "metadata": {},
   "outputs": [],
   "source": [
    "times2('We don\\'t need no education')"
   ]
  },
  {
   "cell_type": "code",
   "execution_count": null,
   "metadata": {},
   "outputs": [],
   "source": [
    "x = lambda var: var*2\n",
    "x"
   ]
  },
  {
   "cell_type": "code",
   "execution_count": null,
   "metadata": {},
   "outputs": [],
   "source": [
    "x(2)"
   ]
  },
  {
   "cell_type": "code",
   "execution_count": null,
   "metadata": {},
   "outputs": [],
   "source": [
    "x([111,222])"
   ]
  },
  {
   "cell_type": "markdown",
   "metadata": {},
   "source": [
    "### `Exercise 13 - Lambda Sorting Tuples`\n",
    "Sort a list of tuples using a `lambda` expression.\n",
    "\n",
    "E.g.,\n",
    "\n",
    "Input:\n",
    "\n",
    "    marks = [('EN', 80), ('IT', 88), ('DE', 95)]\n",
    "    \n",
    "Output:\n",
    "    \n",
    "    Sorting the tuple list:\n",
    "\n",
    "    [('EN', 80), ('IT', 88), ('DE', 95)]    "
   ]
  },
  {
   "cell_type": "code",
   "execution_count": null,
   "metadata": {},
   "outputs": [],
   "source": [
    "# YOUR CODE GOES HERE"
   ]
  },
  {
   "cell_type": "markdown",
   "metadata": {},
   "source": [
    "### `Exercise 14 - Lambda Sorting Dict`\n",
    "Sort a list of dictionaries using a `lambda` expression.\n",
    "\n",
    "Input:\n",
    "\n",
    "    models = [{'make':'Nokia', 'model':216, 'color':'Black'}, \n",
    "              {'make':'Mi Max', 'model':'2', 'color':'Gold'}, \n",
    "              {'make':'Samsung', 'model': 7, 'color':'Blue'}]\n",
    "                 \n",
    "Output:\n",
    "    \n",
    "\n",
    "    Sorting the dictionary list :\n",
    "    [{'make': 'Nokia', 'model': 216, 'color': 'Black'}, {'make': 'Samsung', 'model': 7, 'color': 'Blue'}, {'make': 'Mi Max', 'model': 2, 'color': 'Gold'}]\n",
    " "
   ]
  },
  {
   "cell_type": "code",
   "execution_count": null,
   "metadata": {},
   "outputs": [],
   "source": [
    "# YOUR CODE GOES HERE"
   ]
  },
  {
   "cell_type": "markdown",
   "metadata": {},
   "source": [
    "### `Exercise 15 - Date Time Lambda`\n",
    "Extract year, month, date and time using Lambda:\n",
    "\n",
    "Input:\n",
    "\n",
    "    datetime.datetime(2020, 3, 28, 1, 3, 54, 121736)\n",
    "    \n",
    "Output:\n",
    "    \n",
    "    Datetime: 2020-03-28 01:06:28.325593\n",
    "    Year    : 2020\n",
    "    Month   : 3\n",
    "    Day     : 28\n",
    "    Now     : 01:06:28.325593"
   ]
  },
  {
   "cell_type": "code",
   "execution_count": null,
   "metadata": {},
   "outputs": [],
   "source": [
    "import datetime\n",
    "now = datetime.datetime.now()\n",
    "now"
   ]
  },
  {
   "cell_type": "code",
   "execution_count": null,
   "metadata": {},
   "outputs": [],
   "source": [
    "??datetime"
   ]
  },
  {
   "cell_type": "code",
   "execution_count": null,
   "metadata": {},
   "outputs": [],
   "source": [
    "# YOUR CODE GOES HERE"
   ]
  },
  {
   "cell_type": "code",
   "execution_count": null,
   "metadata": {},
   "outputs": [],
   "source": []
  }
 ],
 "metadata": {
  "kernelspec": {
   "display_name": "Python 3",
   "language": "python",
   "name": "python3"
  },
  "language_info": {
   "codemirror_mode": {
    "name": "ipython",
    "version": 3
   },
   "file_extension": ".py",
   "mimetype": "text/x-python",
   "name": "python",
   "nbconvert_exporter": "python",
   "pygments_lexer": "ipython3",
   "version": "3.7.2"
  }
 },
 "nbformat": 4,
 "nbformat_minor": 2
}
