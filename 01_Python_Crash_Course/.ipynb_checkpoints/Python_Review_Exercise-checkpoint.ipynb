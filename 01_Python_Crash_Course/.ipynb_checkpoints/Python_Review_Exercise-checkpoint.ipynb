{
 "cells": [
  {
   "cell_type": "markdown",
   "metadata": {
    "heading_collapsed": true
   },
   "source": [
    "__________\n",
    "# Python Review Exercises\n",
    "__________"
   ]
  },
  {
   "cell_type": "markdown",
   "metadata": {},
   "source": [
    "### 01. E-mail Domain\n",
    "Create a function that grabs the e-mail website domain from a string:\n",
    "\n",
    "    ________@_________.com\n",
    "    \n",
    "E.g.:\n",
    "\n",
    "    get_domain_from_email('povilas@omnisend.com')\n",
    "    \n",
    "    'omnisend.com'"
   ]
  },
  {
   "cell_type": "code",
   "execution_count": null,
   "metadata": {},
   "outputs": [],
   "source": []
  },
  {
   "cell_type": "markdown",
   "metadata": {},
   "source": [
    "### 02. Word finder\n",
    "You get this function documentation and have to write the function signature and body:\n",
    "\n",
    "    def find_word_in_string():\n",
    "\n",
    "        \"\"\"\n",
    "        Finds a word in string depending on conditions\n",
    "\n",
    "        Arguments:\n",
    "            string {str} -- the target string in which to search for the word\n",
    "            word {str} -- the target word\n",
    "\n",
    "        Keyword Arguments:\n",
    "            strict {bool} -- false if the word can be a part of another word (default: {False})\n",
    "            ignore_capitalization {bool} -- true if  (default: {True})\n",
    "\n",
    "        Returns:\n",
    "            bool -- is the word in the target string\n",
    "\n",
    "        Examples:\n",
    "        >>> find_word_in_string('I am here', 'here')\n",
    "        True\n",
    "        >>> find_word_in_string('I am here', 'i')\n",
    "        True\n",
    "        >>> find_word_in_string('I am here', 'i', ignore_capitalization=False)\n",
    "        False\n",
    "        >>> find_word_in_string('I am here', 'ere')\n",
    "        True\n",
    "        >>> find_word_in_string('I am here', 'ere', strict=True)\n",
    "        False\n",
    "        \"\"\"\n",
    "        pass"
   ]
  },
  {
   "cell_type": "code",
   "execution_count": null,
   "metadata": {},
   "outputs": [],
   "source": []
  },
  {
   "cell_type": "markdown",
   "metadata": {},
   "source": [
    "### 03. Name Checker\n",
    "For the purpose of the present exercise, assume the following:\n",
    "\n",
    "    initials = 1 character\n",
    "    words = 2+ characters (no dots allowed)\n",
    "\n",
    "A valid name is a name written in one of the following ways:\n",
    "\n",
    "    H. Wells\n",
    "    H. G. Wells\n",
    "    John G. Wells\n",
    "    John George Wells\n",
    "\n",
    "The following names are invalid:\n",
    "\n",
    "    John or Wells (single names not allowed)\n",
    "    H Wells or H. G Wells (initials must end with dot)\n",
    "    h. Wells or H. wells or h. g. Wells (incorrect capitalization)\n",
    "    H. George Wells (middle name expanded, while first still left as initial)\n",
    "    H. G. W. (last name is not a word)\n",
    "    Herb. G. W. (dot only allowed after initial, not word)\n",
    "\n",
    "Rules\n",
    "\n",
    "    Both initials and words must be capitalized.\n",
    "    Initials must end with a dot.\n",
    "    A name must be either 2 or 3 words long (depending on whether a middle name exists).\n",
    "    If the name is 3 words long, you can expand the first and middle name or expand the first name only. You cannot keep the first name as an initial and expand the middle name only.\n",
    "    The last name must be a word (not an initial).\n",
    "\n",
    "Your task is to write a function `check_name(name_string)` that determines whether a name is valid or not. Return `True` if the name is valid, `False` otherwise.\n",
    "\n",
    "Examples\n",
    "\n",
    "    valid_name(\"H. Wells\") ➞ True\n",
    "\n",
    "    valid_name(\"H. G. Wells\") ➞ True\n",
    "\n",
    "    valid_name(\"Herbert G. Wells\") ➞ True\n",
    "\n",
    "    valid_name(\"Herbert\") ➞ False\n",
    "    *Must be 2 or 3 words*\n",
    "\n",
    "    valid_name(\"h. Wells\") ➞ False\n",
    "    *Incorrect capitalization*\n",
    "\n",
    "    valid_name(\"H Wells\") ➞ False\n",
    "    *Missing dot after initial*\n",
    "\n",
    "    valid_name(\"H. George Wells\") ➞ False\n",
    "    *Cannot have: initial first name + word middle name*\n",
    "\n",
    "    valid_name(\"H. George W.\") ➞ False\n",
    "    *Last name cannot be initial*"
   ]
  },
  {
   "cell_type": "code",
   "execution_count": null,
   "metadata": {},
   "outputs": [],
   "source": []
  },
  {
   "cell_type": "markdown",
   "metadata": {},
   "source": [
    "### 04. Name Fixer\n",
    "Adjust the `check_name(name_string)` function so that it would re-format the in-valid names instead of simply returning `False`."
   ]
  },
  {
   "cell_type": "code",
   "execution_count": null,
   "metadata": {},
   "outputs": [],
   "source": []
  }
 ],
 "metadata": {
  "kernelspec": {
   "display_name": "Python 3",
   "language": "python",
   "name": "python3"
  },
  "language_info": {
   "codemirror_mode": {
    "name": "ipython",
    "version": 3
   },
   "file_extension": ".py",
   "mimetype": "text/x-python",
   "name": "python",
   "nbconvert_exporter": "python",
   "pygments_lexer": "ipython3",
   "version": "3.7.2"
  }
 },
 "nbformat": 4,
 "nbformat_minor": 2
}
